{
 "cells": [
  {
   "cell_type": "code",
   "execution_count": 3,
   "metadata": {},
   "outputs": [
    {
     "name": "stdout",
     "output_type": "stream",
     "text": [
      "   Row ID        Order ID Order Date  Ship Date       Ship Mode Customer ID  \\\n",
      "0       1  CA-2016-152156 2016-11-08 2016-11-11    Second Class    CG-12520   \n",
      "1       2  CA-2016-152156 2016-11-08 2016-11-11    Second Class    CG-12520   \n",
      "2       3  CA-2016-138688 2016-06-12 2016-06-16    Second Class    DV-13045   \n",
      "3       4  US-2015-108966 2015-10-11 2015-10-18  Standard Class    SO-20335   \n",
      "4       5  US-2015-108966 2015-10-11 2015-10-18  Standard Class    SO-20335   \n",
      "\n",
      "     Customer Name    Segment        Country             City  ...  \\\n",
      "0      Claire Gute   Consumer  United States        Henderson  ...   \n",
      "1      Claire Gute   Consumer  United States        Henderson  ...   \n",
      "2  Darrin Van Huff  Corporate  United States      Los Angeles  ...   \n",
      "3   Sean O'Donnell   Consumer  United States  Fort Lauderdale  ...   \n",
      "4   Sean O'Donnell   Consumer  United States  Fort Lauderdale  ...   \n",
      "\n",
      "  Postal Code  Region       Product ID         Category Sub-Category  \\\n",
      "0       42420   South  FUR-BO-10001798        Furniture    Bookcases   \n",
      "1       42420   South  FUR-CH-10000454        Furniture       Chairs   \n",
      "2       90036    West  OFF-LA-10000240  Office Supplies       Labels   \n",
      "3       33311   South  FUR-TA-10000577        Furniture       Tables   \n",
      "4       33311   South  OFF-ST-10000760  Office Supplies      Storage   \n",
      "\n",
      "                                        Product Name     Sales  Quantity  \\\n",
      "0                  Bush Somerset Collection Bookcase  261.9600         2   \n",
      "1  Hon Deluxe Fabric Upholstered Stacking Chairs,...  731.9400         3   \n",
      "2  Self-Adhesive Address Labels for Typewriters b...   14.6200         2   \n",
      "3      Bretford CR4500 Series Slim Rectangular Table  957.5775         5   \n",
      "4                     Eldon Fold 'N Roll Cart System   22.3680         2   \n",
      "\n",
      "   Discount    Profit  \n",
      "0      0.00   41.9136  \n",
      "1      0.00  219.5820  \n",
      "2      0.00    6.8714  \n",
      "3      0.45 -383.0310  \n",
      "4      0.20    2.5164  \n",
      "\n",
      "[5 rows x 21 columns]\n"
     ]
    }
   ],
   "source": [
    "import pandas as pd\n",
    "# Charger le fichier Excel\n",
    "df = pd.read_excel(\"US Superstore data.xls\")\n",
    "# Afficher les premières lignes\n",
    "print(df.head())"
   ]
  },
  {
   "cell_type": "code",
   "execution_count": 16,
   "metadata": {},
   "outputs": [
    {
     "name": "stdout",
     "output_type": "stream",
     "text": [
      "Types de données dans chaque colonne:\n",
      "Row ID                    int64\n",
      "Order ID                 object\n",
      "Order Date       datetime64[ns]\n",
      "Ship Date        datetime64[ns]\n",
      "Ship Mode                object\n",
      "Customer ID              object\n",
      "Customer Name            object\n",
      "Segment                  object\n",
      "Country                  object\n",
      "City                     object\n",
      "State                    object\n",
      "Postal Code               int64\n",
      "Region                   object\n",
      "Product ID               object\n",
      "Category                 object\n",
      "Sub-Category             object\n",
      "Product Name             object\n",
      "Sales                   float64\n",
      "Quantity                  int64\n",
      "Discount                float64\n",
      "Profit                  float64\n",
      "Year                      int32\n",
      "dtype: object\n",
      "<class 'pandas.core.frame.DataFrame'>\n",
      "RangeIndex: 9994 entries, 0 to 9993\n",
      "Data columns (total 22 columns):\n",
      " #   Column         Non-Null Count  Dtype         \n",
      "---  ------         --------------  -----         \n",
      " 0   Row ID         9994 non-null   int64         \n",
      " 1   Order ID       9994 non-null   object        \n",
      " 2   Order Date     9994 non-null   datetime64[ns]\n",
      " 3   Ship Date      9994 non-null   datetime64[ns]\n",
      " 4   Ship Mode      9994 non-null   object        \n",
      " 5   Customer ID    9994 non-null   object        \n",
      " 6   Customer Name  9994 non-null   object        \n",
      " 7   Segment        9994 non-null   object        \n",
      " 8   Country        9994 non-null   object        \n",
      " 9   City           9994 non-null   object        \n",
      " 10  State          9994 non-null   object        \n",
      " 11  Postal Code    9994 non-null   int64         \n",
      " 12  Region         9994 non-null   object        \n",
      " 13  Product ID     9994 non-null   object        \n",
      " 14  Category       9994 non-null   object        \n",
      " 15  Sub-Category   9994 non-null   object        \n",
      " 16  Product Name   9994 non-null   object        \n",
      " 17  Sales          9994 non-null   float64       \n",
      " 18  Quantity       9994 non-null   int64         \n",
      " 19  Discount       9994 non-null   float64       \n",
      " 20  Profit         9994 non-null   float64       \n",
      " 21  Year           9994 non-null   int32         \n",
      "dtypes: datetime64[ns](2), float64(3), int32(1), int64(3), object(13)\n",
      "memory usage: 1.6+ MB\n",
      "None\n",
      "            Row ID                     Order Date  \\\n",
      "count  9994.000000                           9994   \n",
      "mean   4997.500000  2016-04-30 00:07:12.259355648   \n",
      "min       1.000000            2014-01-03 00:00:00   \n",
      "25%    2499.250000            2015-05-23 00:00:00   \n",
      "50%    4997.500000            2016-06-26 00:00:00   \n",
      "75%    7495.750000            2017-05-14 00:00:00   \n",
      "max    9994.000000            2017-12-30 00:00:00   \n",
      "std    2885.163629                            NaN   \n",
      "\n",
      "                           Ship Date   Postal Code         Sales     Quantity  \\\n",
      "count                           9994   9994.000000   9994.000000  9994.000000   \n",
      "mean   2016-05-03 23:06:58.571142912  55190.379428    229.858001     3.789574   \n",
      "min              2014-01-07 00:00:00   1040.000000      0.444000     1.000000   \n",
      "25%              2015-05-27 00:00:00  23223.000000     17.280000     2.000000   \n",
      "50%              2016-06-29 00:00:00  56430.500000     54.490000     3.000000   \n",
      "75%              2017-05-18 00:00:00  90008.000000    209.940000     5.000000   \n",
      "max              2018-01-05 00:00:00  99301.000000  22638.480000    14.000000   \n",
      "std                              NaN  32063.693350    623.245101     2.225110   \n",
      "\n",
      "          Discount       Profit         Year  \n",
      "count  9994.000000  9994.000000  9994.000000  \n",
      "mean      0.156203    28.656896  2015.722233  \n",
      "min       0.000000 -6599.978000  2014.000000  \n",
      "25%       0.000000     1.728750  2015.000000  \n",
      "50%       0.200000     8.666500  2016.000000  \n",
      "75%       0.200000    29.364000  2017.000000  \n",
      "max       0.800000  8399.976000  2017.000000  \n",
      "std       0.206452   234.260108     1.123555  \n"
     ]
    }
   ],
   "source": [
    "print(\"Types de données dans chaque colonne:\")\n",
    "print(df.dtypes)\n",
    "            \n",
    "print(df.info()) \n",
    "print(df.describe()) "
   ]
  },
  {
   "cell_type": "code",
   "execution_count": 5,
   "metadata": {},
   "outputs": [
    {
     "data": {
      "image/png": "[encoded data removed]",
      "text/plain": [
       "<Figure size 1000x600 with 1 Axes>"
      ]
     },
     "metadata": {},
     "output_type": "display_data"
    }
   ],
   "source": [
    "import pandas as pd\n",
    "import seaborn as sns\n",
    "import matplotlib.pyplot as plt\n",
    "# Extraire l'année\n",
    "df[\"Year\"] = df[\"Order Date\"].dt.year\n",
    "\n",
    "# Regrouper les ventes par année\n",
    "year_ventes = df.groupby(\"Year\")[\"Sales\"].sum().reset_index()\n",
    "\n",
    "# Créer le graphique avec Matplotlib\n",
    "plt.figure(figsize=(10, 6))\n",
    "plt.plot(year_ventes[\"Year\"], year_ventes[\"Sales\"], marker='d', color='c')\n",
    "\n",
    "# Ajouter des titres et des labels\n",
    "plt.title(\"Tendance des ventes au fil des ans\")\n",
    "plt.xlabel(\"Année\")\n",
    "plt.ylabel(\"Ventes\")\n",
    "plt.grid(True)"
   ]
  },
  {
   "cell_type": "code",
   "execution_count": 42,
   "metadata": {},
   "outputs": [
    {
     "name": "stdout",
     "output_type": "stream",
     "text": [
      "Requirement already satisfied: plotly in c:\\users\\dell 3510\\appdata\\local\\programs\\python\\python38\\lib\\site-packages (6.0.0)\n",
      "Requirement already satisfied: packaging in c:\\users\\dell 3510\\appdata\\roaming\\python\\python38\\site-packages (from plotly) (24.2)\n",
      "Requirement already satisfied: narwhals>=1.15.1 in c:\\users\\dell 3510\\appdata\\local\\programs\\python\\python38\\lib\\site-packages (from plotly) (1.27.1)\n",
      "Note: you may need to restart the kernel to use updated packages.\n"
     ]
    },
    {
     "name": "stderr",
     "output_type": "stream",
     "text": [
      "WARNING: You are using pip version 21.1.1; however, version 25.0.1 is available.\n",
      "You should consider upgrading via the 'c:\\Users\\DELL 3510\\AppData\\Local\\Programs\\Python\\Python38\\python.exe -m pip install --upgrade pip' command.\n"
     ]
    }
   ],
   "source": [
    "pip install plotly"
   ]
  },
  {
   "cell_type": "code",
   "execution_count": 43,
   "metadata": {},
   "outputs": [
    {
     "name": "stdout",
     "output_type": "stream",
     "text": [
      "Requirement already satisfied: ipython in c:\\users\\dell 3510\\appdata\\roaming\\python\\python38\\site-packages (8.12.3)\n",
      "Requirement already satisfied: stack-data in c:\\users\\dell 3510\\appdata\\roaming\\python\\python38\\site-packages (from ipython) (0.6.3)\n",
      "Requirement already satisfied: colorama in c:\\users\\dell 3510\\appdata\\roaming\\python\\python38\\site-packages (from ipython) (0.4.6)\n",
      "Requirement already satisfied: jedi>=0.16 in c:\\users\\dell 3510\\appdata\\roaming\\python\\python38\\site-packages (from ipython) (0.19.2)\n",
      "Requirement already satisfied: matplotlib-inline in c:\\users\\dell 3510\\appdata\\roaming\\python\\python38\\site-packages (from ipython) (0.1.7)\n",
      "Requirement already satisfied: traitlets>=5 in c:\\users\\dell 3510\\appdata\\roaming\\python\\python38\\site-packages (from ipython) (5.14.3)\n",
      "Requirement already satisfied: pickleshare in c:\\users\\dell 3510\\appdata\\roaming\\python\\python38\\site-packages (from ipython) (0.7.5)\n",
      "Requirement already satisfied: decorator in c:\\users\\dell 3510\\appdata\\roaming\\python\\python38\\site-packages (from ipython) (5.1.1)\n",
      "Requirement already satisfied: pygments>=2.4.0 in c:\\users\\dell 3510\\appdata\\roaming\\python\\python38\\site-packages (from ipython) (2.19.1)\n",
      "Requirement already satisfied: prompt-toolkit!=3.0.37,<3.1.0,>=3.0.30 in c:\\users\\dell 3510\\appdata\\roaming\\python\\python38\\site-packages (from ipython) (3.0.50)\n",
      "Requirement already satisfied: typing-extensions in c:\\users\\dell 3510\\appdata\\local\\programs\\python\\python38\\lib\\site-packages (from ipython) (4.5.0)\n",
      "Requirement already satisfied: backcall in c:\\users\\dell 3510\\appdata\\roaming\\python\\python38\\site-packages (from ipython) (0.2.0)\n",
      "Requirement already satisfied: parso<0.9.0,>=0.8.4 in c:\\users\\dell 3510\\appdata\\roaming\\python\\python38\\site-packages (from jedi>=0.16->ipython) (0.8.4)\n",
      "Requirement already satisfied: wcwidth in c:\\users\\dell 3510\\appdata\\roaming\\python\\python38\\site-packages (from prompt-toolkit!=3.0.37,<3.1.0,>=3.0.30->ipython) (0.2.13)\n",
      "Requirement already satisfied: executing>=1.2.0 in c:\\users\\dell 3510\\appdata\\roaming\\python\\python38\\site-packages (from stack-data->ipython) (2.2.0)\n",
      "Requirement already satisfied: pure-eval in c:\\users\\dell 3510\\appdata\\roaming\\python\\python38\\site-packages (from stack-data->ipython) (0.2.3)\n",
      "Requirement already satisfied: asttokens>=2.1.0 in c:\\users\\dell 3510\\appdata\\roaming\\python\\python38\\site-packages (from stack-data->ipython) (3.0.0)\n",
      "Note: you may need to restart the kernel to use updated packages.\n"
     ]
    },
    {
     "name": "stderr",
     "output_type": "stream",
     "text": [
      "WARNING: You are using pip version 21.1.1; however, version 25.0.1 is available.\n",
      "You should consider upgrading via the 'c:\\Users\\DELL 3510\\AppData\\Local\\Programs\\Python\\Python38\\python.exe -m pip install --upgrade pip' command.\n"
     ]
    }
   ],
   "source": [
    "pip install ipython"
   ]
  },
  {
   "cell_type": "code",
   "execution_count": 45,
   "metadata": {},
   "outputs": [
    {
     "name": "stdout",
     "output_type": "stream",
     "text": [
      "Requirement already satisfied: plotly in c:\\users\\dell 3510\\appdata\\local\\programs\\python\\python38\\lib\\site-packages (6.0.0)\n",
      "Requirement already satisfied: ipykernel in c:\\users\\dell 3510\\appdata\\roaming\\python\\python38\\site-packages (6.29.5)\n",
      "Requirement already satisfied: narwhals>=1.15.1 in c:\\users\\dell 3510\\appdata\\local\\programs\\python\\python38\\lib\\site-packages (from plotly) (1.27.1)\n",
      "Requirement already satisfied: packaging in c:\\users\\dell 3510\\appdata\\roaming\\python\\python38\\site-packages (from plotly) (24.2)\n",
      "Requirement already satisfied: comm>=0.1.1 in c:\\users\\dell 3510\\appdata\\roaming\\python\\python38\\site-packages (from ipykernel) (0.2.2)\n",
      "Requirement already satisfied: matplotlib-inline>=0.1 in c:\\users\\dell 3510\\appdata\\roaming\\python\\python38\\site-packages (from ipykernel) (0.1.7)\n",
      "Requirement already satisfied: debugpy>=1.6.5 in c:\\users\\dell 3510\\appdata\\roaming\\python\\python38\\site-packages (from ipykernel) (1.8.12)\n",
      "Requirement already satisfied: ipython>=7.23.1 in c:\\users\\dell 3510\\appdata\\roaming\\python\\python38\\site-packages (from ipykernel) (8.12.3)\n",
      "Requirement already satisfied: nest-asyncio in c:\\users\\dell 3510\\appdata\\roaming\\python\\python38\\site-packages (from ipykernel) (1.6.0)\n",
      "Requirement already satisfied: pyzmq>=24 in c:\\users\\dell 3510\\appdata\\roaming\\python\\python38\\site-packages (from ipykernel) (26.2.1)\n",
      "Requirement already satisfied: tornado>=6.1 in c:\\users\\dell 3510\\appdata\\roaming\\python\\python38\\site-packages (from ipykernel) (6.4.2)\n",
      "Requirement already satisfied: traitlets>=5.4.0 in c:\\users\\dell 3510\\appdata\\roaming\\python\\python38\\site-packages (from ipykernel) (5.14.3)\n",
      "Requirement already satisfied: jupyter-client>=6.1.12 in c:\\users\\dell 3510\\appdata\\roaming\\python\\python38\\site-packages (from ipykernel) (8.6.3)\n",
      "Requirement already satisfied: psutil in c:\\users\\dell 3510\\appdata\\roaming\\python\\python38\\site-packages (from ipykernel) (7.0.0)\n",
      "Requirement already satisfied: jupyter-core!=5.0.*,>=4.12 in c:\\users\\dell 3510\\appdata\\roaming\\python\\python38\\site-packages (from ipykernel) (5.7.2)\n",
      "Requirement already satisfied: jedi>=0.16 in c:\\users\\dell 3510\\appdata\\roaming\\python\\python38\\site-packages (from ipython>=7.23.1->ipykernel) (0.19.2)\n",
      "Requirement already satisfied: pickleshare in c:\\users\\dell 3510\\appdata\\roaming\\python\\python38\\site-packages (from ipython>=7.23.1->ipykernel) (0.7.5)\n",
      "Requirement already satisfied: pygments>=2.4.0 in c:\\users\\dell 3510\\appdata\\roaming\\python\\python38\\site-packages (from ipython>=7.23.1->ipykernel) (2.19.1)\n",
      "Requirement already satisfied: prompt-toolkit!=3.0.37,<3.1.0,>=3.0.30 in c:\\users\\dell 3510\\appdata\\roaming\\python\\python38\\site-packages (from ipython>=7.23.1->ipykernel) (3.0.50)\n",
      "Requirement already satisfied: backcall in c:\\users\\dell 3510\\appdata\\roaming\\python\\python38\\site-packages (from ipython>=7.23.1->ipykernel) (0.2.0)\n",
      "Requirement already satisfied: colorama in c:\\users\\dell 3510\\appdata\\roaming\\python\\python38\\site-packages (from ipython>=7.23.1->ipykernel) (0.4.6)\n",
      "Requirement already satisfied: typing-extensions in c:\\users\\dell 3510\\appdata\\local\\programs\\python\\python38\\lib\\site-packages (from ipython>=7.23.1->ipykernel) (4.5.0)\n",
      "Requirement already satisfied: stack-data in c:\\users\\dell 3510\\appdata\\roaming\\python\\python38\\site-packages (from ipython>=7.23.1->ipykernel) (0.6.3)\n",
      "Requirement already satisfied: decorator in c:\\users\\dell 3510\\appdata\\roaming\\python\\python38\\site-packages (from ipython>=7.23.1->ipykernel) (5.1.1)\n",
      "Requirement already satisfied: parso<0.9.0,>=0.8.4 in c:\\users\\dell 3510\\appdata\\roaming\\python\\python38\\site-packages (from jedi>=0.16->ipython>=7.23.1->ipykernel) (0.8.4)\n",
      "Requirement already satisfied: importlib-metadata>=4.8.3 in c:\\users\\dell 3510\\appdata\\roaming\\python\\python38\\site-packages (from jupyter-client>=6.1.12->ipykernel) (8.5.0)\n",
      "Requirement already satisfied: python-dateutil>=2.8.2 in c:\\users\\dell 3510\\appdata\\roaming\\python\\python38\\site-packages (from jupyter-client>=6.1.12->ipykernel) (2.9.0.post0)\n",
      "Requirement already satisfied: zipp>=3.20 in c:\\users\\dell 3510\\appdata\\roaming\\python\\python38\\site-packages (from importlib-metadata>=4.8.3->jupyter-client>=6.1.12->ipykernel) (3.20.2)\n",
      "Requirement already satisfied: platformdirs>=2.5 in c:\\users\\dell 3510\\appdata\\roaming\\python\\python38\\site-packages (from jupyter-core!=5.0.*,>=4.12->ipykernel) (4.3.6)\n",
      "Requirement already satisfied: pywin32>=300 in c:\\users\\dell 3510\\appdata\\roaming\\python\\python38\\site-packages (from jupyter-core!=5.0.*,>=4.12->ipykernel) (308)\n",
      "Requirement already satisfied: wcwidth in c:\\users\\dell 3510\\appdata\\roaming\\python\\python38\\site-packages (from prompt-toolkit!=3.0.37,<3.1.0,>=3.0.30->ipython>=7.23.1->ipykernel) (0.2.13)\n",
      "Requirement already satisfied: six>=1.5 in c:\\users\\dell 3510\\appdata\\roaming\\python\\python38\\site-packages (from python-dateutil>=2.8.2->jupyter-client>=6.1.12->ipykernel) (1.17.0)\n",
      "Requirement already satisfied: pure-eval in c:\\users\\dell 3510\\appdata\\roaming\\python\\python38\\site-packages (from stack-data->ipython>=7.23.1->ipykernel) (0.2.3)\n",
      "Requirement already satisfied: asttokens>=2.1.0 in c:\\users\\dell 3510\\appdata\\roaming\\python\\python38\\site-packages (from stack-data->ipython>=7.23.1->ipykernel) (3.0.0)\n",
      "Requirement already satisfied: executing>=1.2.0 in c:\\users\\dell 3510\\appdata\\roaming\\python\\python38\\site-packages (from stack-data->ipython>=7.23.1->ipykernel) (2.2.0)\n",
      "Note: you may need to restart the kernel to use updated packages.\n"
     ]
    },
    {
     "name": "stderr",
     "output_type": "stream",
     "text": [
      "WARNING: You are using pip version 21.1.1; however, version 25.0.1 is available.\n",
      "You should consider upgrading via the 'c:\\Users\\DELL 3510\\AppData\\Local\\Programs\\Python\\Python38\\python.exe -m pip install --upgrade pip' command.\n"
     ]
    }
   ],
   "source": [
    "pip install plotly ipykernel\n"
   ]
  },
  {
   "cell_type": "code",
   "execution_count": 50,
   "metadata": {},
   "outputs": [
    {
     "name": "stdout",
     "output_type": "stream",
     "text": [
      "Note: you may need to restart the kernel to use updated packages.\n"
     ]
    },
    {
     "name": "stderr",
     "output_type": "stream",
     "text": [
      "  WARNING: The script jsonschema.exe is installed in 'c:\\Users\\DELL 3510\\AppData\\Local\\Programs\\Python\\Python38\\Scripts' which is not on PATH.\n",
      "  Consider adding this directory to PATH or, if you prefer to suppress this warning, use --no-warn-script-location.\n",
      "  WARNING: The script jupyter-trust.exe is installed in 'c:\\Users\\DELL 3510\\AppData\\Local\\Programs\\Python\\Python38\\Scripts' which is not on PATH.\n",
      "  Consider adding this directory to PATH or, if you prefer to suppress this warning, use --no-warn-script-location.\n",
      "WARNING: You are using pip version 21.1.1; however, version 25.0.1 is available.\n",
      "You should consider upgrading via the 'c:\\Users\\DELL 3510\\AppData\\Local\\Programs\\Python\\Python38\\python.exe -m pip install --upgrade pip' command.\n"
     ]
    }
   ],
   "source": [
    "pip install nbformat>=4.2.0"
   ]
  },
  {
   "cell_type": "code",
   "execution_count": 51,
   "metadata": {},
   "outputs": [
    {
     "name": "stdout",
     "output_type": "stream",
     "text": [
      "Requirement already satisfied: nbformat in c:\\users\\dell 3510\\appdata\\local\\programs\\python\\python38\\lib\\site-packages (5.10.4)\n",
      "Requirement already satisfied: fastjsonschema>=2.15 in c:\\users\\dell 3510\\appdata\\local\\programs\\python\\python38\\lib\\site-packages (from nbformat) (2.21.1)\n",
      "Requirement already satisfied: jsonschema>=2.6 in c:\\users\\dell 3510\\appdata\\local\\programs\\python\\python38\\lib\\site-packages (from nbformat) (4.23.0)\n",
      "Requirement already satisfied: jupyter-core!=5.0.*,>=4.12 in c:\\users\\dell 3510\\appdata\\roaming\\python\\python38\\site-packages (from nbformat) (5.7.2)\n",
      "Requirement already satisfied: traitlets>=5.1 in c:\\users\\dell 3510\\appdata\\roaming\\python\\python38\\site-packages (from nbformat) (5.14.3)\n",
      "Requirement already satisfied: attrs>=22.2.0 in c:\\users\\dell 3510\\appdata\\local\\programs\\python\\python38\\lib\\site-packages (from jsonschema>=2.6->nbformat) (25.1.0)\n",
      "Requirement already satisfied: rpds-py>=0.7.1 in c:\\users\\dell 3510\\appdata\\local\\programs\\python\\python38\\lib\\site-packages (from jsonschema>=2.6->nbformat) (0.20.1)\n",
      "Requirement already satisfied: pkgutil-resolve-name>=1.3.10 in c:\\users\\dell 3510\\appdata\\local\\programs\\python\\python38\\lib\\site-packages (from jsonschema>=2.6->nbformat) (1.3.10)\n",
      "Requirement already satisfied: jsonschema-specifications>=2023.03.6 in c:\\users\\dell 3510\\appdata\\local\\programs\\python\\python38\\lib\\site-packages (from jsonschema>=2.6->nbformat) (2023.12.1)\n",
      "Requirement already satisfied: referencing>=0.28.4 in c:\\users\\dell 3510\\appdata\\local\\programs\\python\\python38\\lib\\site-packages (from jsonschema>=2.6->nbformat) (0.35.1)\n",
      "Requirement already satisfied: importlib-resources>=1.4.0 in c:\\users\\dell 3510\\appdata\\local\\programs\\python\\python38\\lib\\site-packages (from jsonschema>=2.6->nbformat) (6.4.5)\n",
      "Requirement already satisfied: zipp>=3.1.0 in c:\\users\\dell 3510\\appdata\\roaming\\python\\python38\\site-packages (from importlib-resources>=1.4.0->jsonschema>=2.6->nbformat) (3.20.2)\n",
      "Requirement already satisfied: platformdirs>=2.5 in c:\\users\\dell 3510\\appdata\\roaming\\python\\python38\\site-packages (from jupyter-core!=5.0.*,>=4.12->nbformat) (4.3.6)\n",
      "Requirement already satisfied: pywin32>=300 in c:\\users\\dell 3510\\appdata\\roaming\\python\\python38\\site-packages (from jupyter-core!=5.0.*,>=4.12->nbformat) (308)\n",
      "Note: you may need to restart the kernel to use updated packages.\n"
     ]
    },
    {
     "name": "stderr",
     "output_type": "stream",
     "text": [
      "WARNING: You are using pip version 21.1.1; however, version 25.0.1 is available.\n",
      "You should consider upgrading via the 'c:\\Users\\DELL 3510\\AppData\\Local\\Programs\\Python\\Python38\\python.exe -m pip install --upgrade pip' command.\n"
     ]
    }
   ],
   "source": [
    "pip install nbformat --upgrade"
   ]
  },
  {
   "cell_type": "code",
   "execution_count": 38,
   "metadata": {},
   "outputs": [
    {
     "ename": "ValueError",
     "evalue": "Value of 'color' is not the name of a column in 'data_frame'. Expected one of ['Row ID', 'Order ID', 'Order Date', 'Ship Date', 'Ship Mode', 'Customer ID', 'Customer Name', 'Segment', 'Country', 'City', 'State', 'Postal Code', 'Region', 'Product ID', 'Category', 'Sub-Category', 'Product Name', 'Sales', 'Quantity', 'Discount', 'Profit', 'Year'] but received: Viridis",
     "output_type": "error",
     "traceback": [
      "\u001b[1;31m---------------------------------------------------------------------------\u001b[0m",
      "\u001b[1;31mValueError\u001b[0m                                Traceback (most recent call last)",
      "Cell \u001b[1;32mIn[38], line 10\u001b[0m\n\u001b[0;32m      2\u001b[0m \u001b[38;5;28;01mimport\u001b[39;00m\u001b[38;5;250m \u001b[39m\u001b[38;5;21;01mplotly\u001b[39;00m\u001b[38;5;21;01m.\u001b[39;00m\u001b[38;5;21;01mexpress\u001b[39;00m\u001b[38;5;250m \u001b[39m\u001b[38;5;28;01mas\u001b[39;00m\u001b[38;5;250m \u001b[39m\u001b[38;5;21;01mpx\u001b[39;00m\n\u001b[0;32m      4\u001b[0m \u001b[38;5;66;03m# Grouper les ventes par État et trier par ordre décroissant\u001b[39;00m\n\u001b[0;32m      5\u001b[0m \u001b[38;5;66;03m#etat_ventes = df.groupby(\"Country\")[\"Sales\"].sum().sort_values(ascending=False)\u001b[39;00m\n\u001b[0;32m      6\u001b[0m \u001b[38;5;66;03m# Créer la carte interactive avec Plotly\u001b[39;00m\n\u001b[0;32m      7\u001b[0m \n\u001b[0;32m      8\u001b[0m \n\u001b[0;32m      9\u001b[0m \u001b[38;5;66;03m# Créer la carte choroplèthe pour les pays\u001b[39;00m\n\u001b[1;32m---> 10\u001b[0m fig \u001b[38;5;241m=\u001b[39m \u001b[43mpx\u001b[49m\u001b[38;5;241;43m.\u001b[39;49m\u001b[43mchoropleth\u001b[49m\u001b[43m(\u001b[49m\u001b[43mdf\u001b[49m\u001b[43m,\u001b[49m\u001b[43m \u001b[49m\n\u001b[0;32m     11\u001b[0m \u001b[43m                    \u001b[49m\u001b[43mlocations\u001b[49m\u001b[38;5;241;43m=\u001b[39;49m\u001b[38;5;124;43m\"\u001b[39;49m\u001b[38;5;124;43mCountry\u001b[39;49m\u001b[38;5;124;43m\"\u001b[39;49m\u001b[43m,\u001b[49m\u001b[43m \u001b[49m\n\u001b[0;32m     12\u001b[0m \u001b[43m                    \u001b[49m\u001b[43mlocationmode\u001b[49m\u001b[38;5;241;43m=\u001b[39;49m\u001b[38;5;124;43m\"\u001b[39;49m\u001b[38;5;124;43mcountry names\u001b[39;49m\u001b[38;5;124;43m\"\u001b[39;49m\u001b[43m,\u001b[49m\u001b[43m  \u001b[49m\u001b[38;5;66;43;03m# Utilisation des noms complets des pays\u001b[39;49;00m\n\u001b[0;32m     13\u001b[0m \u001b[43m                    \u001b[49m\u001b[43mcolor\u001b[49m\u001b[38;5;241;43m=\u001b[39;49m\u001b[38;5;124;43m\"\u001b[39;49m\u001b[38;5;124;43mViridis\u001b[39;49m\u001b[38;5;124;43m\"\u001b[39;49m\u001b[43m,\u001b[49m\u001b[43m  \u001b[49m\u001b[38;5;66;43;03m# Couleur en fonction des ventes\u001b[39;49;00m\n\u001b[0;32m     14\u001b[0m \u001b[43m                    \u001b[49m\u001b[43mhover_name\u001b[49m\u001b[38;5;241;43m=\u001b[39;49m\u001b[38;5;124;43m\"\u001b[39;49m\u001b[38;5;124;43mCountry\u001b[39;49m\u001b[38;5;124;43m\"\u001b[39;49m\u001b[43m,\u001b[49m\u001b[43m  \u001b[49m\u001b[38;5;66;43;03m# Afficher le nom du pays au survol\u001b[39;49;00m\n\u001b[0;32m     15\u001b[0m \u001b[43m                    \u001b[49m\u001b[43mcolor_continuous_scale\u001b[49m\u001b[38;5;241;43m=\u001b[39;49m\u001b[38;5;124;43m\"\u001b[39;49m\u001b[38;5;124;43mViridis\u001b[39;49m\u001b[38;5;124;43m\"\u001b[39;49m\u001b[43m,\u001b[49m\u001b[43m  \u001b[49m\u001b[38;5;66;43;03m# Palette de couleurs\u001b[39;49;00m\n\u001b[0;32m     16\u001b[0m \u001b[43m                    \u001b[49m\u001b[43mtitle\u001b[49m\u001b[38;5;241;43m=\u001b[39;49m\u001b[38;5;124;43m\"\u001b[39;49m\u001b[38;5;124;43mRépartition des ventes par pays\u001b[39;49m\u001b[38;5;124;43m\"\u001b[39;49m\u001b[43m)\u001b[49m\n\u001b[0;32m     18\u001b[0m \u001b[38;5;66;03m# Afficher la carte\u001b[39;00m\n\u001b[0;32m     19\u001b[0m fig\u001b[38;5;241m.\u001b[39mshow()\n",
      "File \u001b[1;32mc:\\Users\\DELL 3510\\AppData\\Local\\Programs\\Python\\Python38\\lib\\site-packages\\plotly\\express\\_chart_types.py:1113\u001b[0m, in \u001b[0;36mchoropleth\u001b[1;34m(data_frame, lat, lon, locations, locationmode, geojson, featureidkey, color, facet_row, facet_col, facet_col_wrap, facet_row_spacing, facet_col_spacing, hover_name, hover_data, custom_data, animation_frame, animation_group, category_orders, labels, color_discrete_sequence, color_discrete_map, color_continuous_scale, range_color, color_continuous_midpoint, projection, scope, center, fitbounds, basemap_visible, title, subtitle, template, width, height)\u001b[0m\n\u001b[0;32m   1072\u001b[0m \u001b[38;5;28;01mdef\u001b[39;00m\u001b[38;5;250m \u001b[39m\u001b[38;5;21mchoropleth\u001b[39m(\n\u001b[0;32m   1073\u001b[0m     data_frame\u001b[38;5;241m=\u001b[39m\u001b[38;5;28;01mNone\u001b[39;00m,\n\u001b[0;32m   1074\u001b[0m     lat\u001b[38;5;241m=\u001b[39m\u001b[38;5;28;01mNone\u001b[39;00m,\n\u001b[1;32m   (...)\u001b[0m\n\u001b[0;32m   1107\u001b[0m     height\u001b[38;5;241m=\u001b[39m\u001b[38;5;28;01mNone\u001b[39;00m,\n\u001b[0;32m   1108\u001b[0m ) \u001b[38;5;241m-\u001b[39m\u001b[38;5;241m>\u001b[39m go\u001b[38;5;241m.\u001b[39mFigure:\n\u001b[0;32m   1109\u001b[0m \u001b[38;5;250m    \u001b[39m\u001b[38;5;124;03m\"\"\"\u001b[39;00m\n\u001b[0;32m   1110\u001b[0m \u001b[38;5;124;03m    In a choropleth map, each row of `data_frame` is represented by a\u001b[39;00m\n\u001b[0;32m   1111\u001b[0m \u001b[38;5;124;03m    colored region mark on a map.\u001b[39;00m\n\u001b[0;32m   1112\u001b[0m \u001b[38;5;124;03m    \"\"\"\u001b[39;00m\n\u001b[1;32m-> 1113\u001b[0m     \u001b[38;5;28;01mreturn\u001b[39;00m \u001b[43mmake_figure\u001b[49m\u001b[43m(\u001b[49m\n\u001b[0;32m   1114\u001b[0m \u001b[43m        \u001b[49m\u001b[43margs\u001b[49m\u001b[38;5;241;43m=\u001b[39;49m\u001b[38;5;28;43mlocals\u001b[39;49m\u001b[43m(\u001b[49m\u001b[43m)\u001b[49m\u001b[43m,\u001b[49m\n\u001b[0;32m   1115\u001b[0m \u001b[43m        \u001b[49m\u001b[43mconstructor\u001b[49m\u001b[38;5;241;43m=\u001b[39;49m\u001b[43mgo\u001b[49m\u001b[38;5;241;43m.\u001b[39;49m\u001b[43mChoropleth\u001b[49m\u001b[43m,\u001b[49m\n\u001b[0;32m   1116\u001b[0m \u001b[43m        \u001b[49m\u001b[43mtrace_patch\u001b[49m\u001b[38;5;241;43m=\u001b[39;49m\u001b[38;5;28;43mdict\u001b[39;49m\u001b[43m(\u001b[49m\u001b[43mlocationmode\u001b[49m\u001b[38;5;241;43m=\u001b[39;49m\u001b[43mlocationmode\u001b[49m\u001b[43m)\u001b[49m\u001b[43m,\u001b[49m\n\u001b[0;32m   1117\u001b[0m \u001b[43m    \u001b[49m\u001b[43m)\u001b[49m\n",
      "File \u001b[1;32mc:\\Users\\DELL 3510\\AppData\\Local\\Programs\\Python\\Python38\\lib\\site-packages\\plotly\\express\\_core.py:2477\u001b[0m, in \u001b[0;36mmake_figure\u001b[1;34m(args, constructor, trace_patch, layout_patch)\u001b[0m\n\u001b[0;32m   2474\u001b[0m layout_patch \u001b[38;5;241m=\u001b[39m layout_patch \u001b[38;5;129;01mor\u001b[39;00m {}\n\u001b[0;32m   2475\u001b[0m apply_default_cascade(args)\n\u001b[1;32m-> 2477\u001b[0m args \u001b[38;5;241m=\u001b[39m \u001b[43mbuild_dataframe\u001b[49m\u001b[43m(\u001b[49m\u001b[43margs\u001b[49m\u001b[43m,\u001b[49m\u001b[43m \u001b[49m\u001b[43mconstructor\u001b[49m\u001b[43m)\u001b[49m\n\u001b[0;32m   2478\u001b[0m \u001b[38;5;28;01mif\u001b[39;00m constructor \u001b[38;5;129;01min\u001b[39;00m [go\u001b[38;5;241m.\u001b[39mTreemap, go\u001b[38;5;241m.\u001b[39mSunburst, go\u001b[38;5;241m.\u001b[39mIcicle] \u001b[38;5;129;01mand\u001b[39;00m args[\u001b[38;5;124m\"\u001b[39m\u001b[38;5;124mpath\u001b[39m\u001b[38;5;124m\"\u001b[39m] \u001b[38;5;129;01mis\u001b[39;00m \u001b[38;5;129;01mnot\u001b[39;00m \u001b[38;5;28;01mNone\u001b[39;00m:\n\u001b[0;32m   2479\u001b[0m     args \u001b[38;5;241m=\u001b[39m process_dataframe_hierarchy(args)\n",
      "File \u001b[1;32mc:\\Users\\DELL 3510\\AppData\\Local\\Programs\\Python\\Python38\\lib\\site-packages\\plotly\\express\\_core.py:1727\u001b[0m, in \u001b[0;36mbuild_dataframe\u001b[1;34m(args, constructor)\u001b[0m\n\u001b[0;32m   1724\u001b[0m     args[\u001b[38;5;124m\"\u001b[39m\u001b[38;5;124mcolor\u001b[39m\u001b[38;5;124m\"\u001b[39m] \u001b[38;5;241m=\u001b[39m \u001b[38;5;28;01mNone\u001b[39;00m\n\u001b[0;32m   1725\u001b[0m \u001b[38;5;66;03m# now that things have been prepped, we do the systematic rewriting of `args`\u001b[39;00m\n\u001b[1;32m-> 1727\u001b[0m df_output, wide_id_vars \u001b[38;5;241m=\u001b[39m \u001b[43mprocess_args_into_dataframe\u001b[49m\u001b[43m(\u001b[49m\n\u001b[0;32m   1728\u001b[0m \u001b[43m    \u001b[49m\u001b[43margs\u001b[49m\u001b[43m,\u001b[49m\n\u001b[0;32m   1729\u001b[0m \u001b[43m    \u001b[49m\u001b[43mwide_mode\u001b[49m\u001b[43m,\u001b[49m\n\u001b[0;32m   1730\u001b[0m \u001b[43m    \u001b[49m\u001b[43mvar_name\u001b[49m\u001b[43m,\u001b[49m\n\u001b[0;32m   1731\u001b[0m \u001b[43m    \u001b[49m\u001b[43mvalue_name\u001b[49m\u001b[43m,\u001b[49m\n\u001b[0;32m   1732\u001b[0m \u001b[43m    \u001b[49m\u001b[43mis_pd_like\u001b[49m\u001b[43m,\u001b[49m\n\u001b[0;32m   1733\u001b[0m \u001b[43m    \u001b[49m\u001b[43mnative_namespace\u001b[49m\u001b[43m,\u001b[49m\n\u001b[0;32m   1734\u001b[0m \u001b[43m\u001b[49m\u001b[43m)\u001b[49m\n\u001b[0;32m   1735\u001b[0m df_output: nw\u001b[38;5;241m.\u001b[39mDataFrame\n\u001b[0;32m   1736\u001b[0m \u001b[38;5;66;03m# now that `df_output` exists and `args` contains only references, we complete\u001b[39;00m\n\u001b[0;32m   1737\u001b[0m \u001b[38;5;66;03m# the special-case and wide-mode handling by further rewriting args and/or mutating\u001b[39;00m\n\u001b[0;32m   1738\u001b[0m \u001b[38;5;66;03m# df_output\u001b[39;00m\n",
      "File \u001b[1;32mc:\\Users\\DELL 3510\\AppData\\Local\\Programs\\Python\\Python38\\lib\\site-packages\\plotly\\express\\_core.py:1328\u001b[0m, in \u001b[0;36mprocess_args_into_dataframe\u001b[1;34m(args, wide_mode, var_name, value_name, is_pd_like, native_namespace)\u001b[0m\n\u001b[0;32m   1326\u001b[0m         \u001b[38;5;28;01mif\u001b[39;00m argument \u001b[38;5;241m==\u001b[39m \u001b[38;5;124m\"\u001b[39m\u001b[38;5;124mindex\u001b[39m\u001b[38;5;124m\"\u001b[39m:\n\u001b[0;32m   1327\u001b[0m             err_msg \u001b[38;5;241m+\u001b[39m\u001b[38;5;241m=\u001b[39m \u001b[38;5;124m\"\u001b[39m\u001b[38;5;130;01m\\n\u001b[39;00m\u001b[38;5;124m To use the index, pass it in directly as `df.index`.\u001b[39m\u001b[38;5;124m\"\u001b[39m\n\u001b[1;32m-> 1328\u001b[0m         \u001b[38;5;28;01mraise\u001b[39;00m \u001b[38;5;167;01mValueError\u001b[39;00m(err_msg)\n\u001b[0;32m   1329\u001b[0m \u001b[38;5;28;01melif\u001b[39;00m length \u001b[38;5;129;01mand\u001b[39;00m (actual_len \u001b[38;5;241m:=\u001b[39m \u001b[38;5;28mlen\u001b[39m(df_input)) \u001b[38;5;241m!=\u001b[39m length:\n\u001b[0;32m   1330\u001b[0m     \u001b[38;5;28;01mraise\u001b[39;00m \u001b[38;5;167;01mValueError\u001b[39;00m(\n\u001b[0;32m   1331\u001b[0m         \u001b[38;5;124m\"\u001b[39m\u001b[38;5;124mAll arguments should have the same length. \u001b[39m\u001b[38;5;124m\"\u001b[39m\n\u001b[0;32m   1332\u001b[0m         \u001b[38;5;124m\"\u001b[39m\u001b[38;5;124mThe length of column argument `df[\u001b[39m\u001b[38;5;132;01m%s\u001b[39;00m\u001b[38;5;124m]` is \u001b[39m\u001b[38;5;132;01m%d\u001b[39;00m\u001b[38;5;124m, whereas the \u001b[39m\u001b[38;5;124m\"\u001b[39m\n\u001b[1;32m   (...)\u001b[0m\n\u001b[0;32m   1339\u001b[0m         )\n\u001b[0;32m   1340\u001b[0m     )\n",
      "\u001b[1;31mValueError\u001b[0m: Value of 'color' is not the name of a column in 'data_frame'. Expected one of ['Row ID', 'Order ID', 'Order Date', 'Ship Date', 'Ship Mode', 'Customer ID', 'Customer Name', 'Segment', 'Country', 'City', 'State', 'Postal Code', 'Region', 'Product ID', 'Category', 'Sub-Category', 'Product Name', 'Sales', 'Quantity', 'Discount', 'Profit', 'Year'] but received: Viridis"
     ]
    }
   ],
   "source": [
    "\n",
    "import pandas as pd\n",
    "import plotly.express as px\n",
    "\n",
    "# Grouper les ventes par État et trier par ordre décroissant\n",
    "#etat_ventes = df.groupby(\"Country\")[\"Sales\"].sum().sort_values(ascending=False)\n",
    "# Créer la carte interactive avec Plotly\n",
    "\n",
    "\n",
    "# Créer la carte choroplèthe pour les pays\n",
    "fig = px.choropleth(df, \n",
    "                    locations=\"Country\", \n",
    "                    locationmode=\"country names\",  # Utilisation des noms complets des pays\n",
    "                    color=\"Viridis\",  # Couleur en fonction des ventes\n",
    "                    hover_name=\"Country\",  # Afficher le nom du pays au survol\n",
    "                    color_continuous_scale=\"Viridis\",  # Palette de couleurs\n",
    "                    title=\"Répartition des ventes par pays\")\n",
    "\n",
    "# Afficher la carte\n",
    "fig.show()\n",
    "\n",
    "# Afficher la carte\n",
    "print(df[\"Country\"].unique())\n",
    "\n"
   ]
  },
  {
   "cell_type": "code",
   "execution_count": 20,
   "metadata": {},
   "outputs": [
    {
     "name": "stdout",
     "output_type": "stream",
     "text": [
      "0         Kentucky\n",
      "1         Kentucky\n",
      "2       California\n",
      "3          Florida\n",
      "4          Florida\n",
      "           ...    \n",
      "9989       Florida\n",
      "9990    California\n",
      "9991    California\n",
      "9992    California\n",
      "9993    California\n",
      "Name: State, Length: 9994, dtype: object\n"
     ]
    }
   ],
   "source": [
    "print(df[\"State\"])"
   ]
  }
 ],
 "metadata": {
  "kernelspec": {
   "display_name": "Python 3",
   "language": "python",
   "name": "python3"
  },
  "language_info": {
   "codemirror_mode": {
    "name": "ipython",
    "version": 3
   },
   "file_extension": ".py",
   "mimetype": "text/x-python",
   "name": "python",
   "nbconvert_exporter": "python",
   "pygments_lexer": "ipython3",
   "version": "3.8.10"
  }
 },
 "nbformat": 4,
 "nbformat_minor": 2
}
