{
 "cells": [
  {
   "cell_type": "code",
   "execution_count": null,
   "metadata": {},
   "outputs": [
    {
     "name": "stdout",
     "output_type": "stream",
     "text": [
      "Types de données dans chaque colonne:\n",
      "index                         int64\n",
      "Year                          int64\n",
      "Period                       object\n",
      "Avg hrs per day sleeping    float64\n",
      "Standard Error              float64\n",
      "Type of Days                 object\n",
      "Age Group                    object\n",
      "Activity                     object\n",
      "Sex                          object\n",
      "dtype: object\n"
     ]
    }
   ],
   "source": [
    "import zipfile\n",
    "import pandas as pd\n",
    "\n",
    "# Nom du fichier ZIP\n",
    "nom_zip = \"How Much Sleep Do Americans2.zip\"\n",
    "\n",
    "# Ouvrir le fichier ZIP\n",
    "with zipfile.ZipFile(nom_zip, 'r') as zipf:\n",
    "    for fichier in zipf.namelist():  # Liste des fichiers dans le ZIP\n",
    "        # Ouvrir chaque fichier CSV et le lire avec pandas\n",
    "        with zipf.open(fichier) as f:\n",
    "            df = pd.read_csv(f)\n",
    "            print(\"Types de données dans chaque colonne:\")\n",
    "            print(df.dtypes)\n",
    "            # Fonction pour catégoriser les colonnes\n",
    "    #Colonnes intéressantes pour l’analyse :\n",
    "#Colonnes : Année pour analyser l’évolution des heures de sommeil dans le temps.\n",
    "#Colonnes : Âge, Sexe, l'activity pour Comparer les habitudes de sommeil entre groupes\n",
    "#Colonnes : Heures de sommeil pour analyser la répartition des heures de sommeil\n"
   ]
  }
 ],
 "metadata": {
  "kernelspec": {
   "display_name": "Python 3",
   "language": "python",
   "name": "python3"
  },
  "language_info": {
   "codemirror_mode": {
    "name": "ipython",
    "version": 3
   },
   "file_extension": ".py",
   "mimetype": "text/x-python",
   "name": "python",
   "nbconvert_exporter": "python",
   "pygments_lexer": "ipython3",
   "version": "3.8.10"
  }
 },
 "nbformat": 4,
 "nbformat_minor": 2
}
