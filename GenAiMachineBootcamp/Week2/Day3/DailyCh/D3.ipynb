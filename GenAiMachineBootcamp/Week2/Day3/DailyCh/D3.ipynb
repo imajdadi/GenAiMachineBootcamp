{
 "cells": [
  {
   "cell_type": "code",
   "execution_count": 15,
   "metadata": {},
   "outputs": [],
   "source": [
    "import zipfile\n",
    "import pandas as pd"
   ]
  },
  {
   "cell_type": "code",
   "execution_count": 16,
   "metadata": {},
   "outputs": [
    {
     "name": "stdout",
     "output_type": "stream",
     "text": [
      "Types de données dans chaque colonne:\n",
      "Unnamed: 0           int64\n",
      "job_title           object\n",
      "job_type            object\n",
      "experience_level    object\n",
      "location            object\n",
      "salary_currency     object\n",
      "salary               int64\n",
      "dtype: object\n",
      "<class 'pandas.core.frame.DataFrame'>\n",
      "RangeIndex: 1171 entries, 0 to 1170\n",
      "Data columns (total 7 columns):\n",
      " #   Column            Non-Null Count  Dtype \n",
      "---  ------            --------------  ----- \n",
      " 0   Unnamed: 0        1171 non-null   int64 \n",
      " 1   job_title         1171 non-null   object\n",
      " 2   job_type          1171 non-null   object\n",
      " 3   experience_level  1171 non-null   object\n",
      " 4   location          1171 non-null   object\n",
      " 5   salary_currency   1171 non-null   object\n",
      " 6   salary            1171 non-null   int64 \n",
      "dtypes: int64(2), object(5)\n",
      "memory usage: 64.2+ KB\n",
      "None\n"
     ]
    }
   ],
   "source": [
    "# Nom du fichier ZIP\n",
    "nom_zip = \"Data Science Job Salary dataset.zip\"\n",
    "\n",
    "# Ouvrir le fichier ZIP\n",
    "with zipfile.ZipFile(nom_zip, 'r') as zipf:\n",
    "    for fichier in zipf.namelist():  # Liste des fichiers dans le ZIP\n",
    "        # Ouvrir chaque fichier CSV et le lire avec pandas\n",
    "        with zipf.open(fichier) as f:\n",
    "            df = pd.read_csv(f)\n",
    "            print(\"Types de données dans chaque colonne:\")\n",
    "            print(df.dtypes)\n",
    "            #print(df.head())\n",
    "            print(df.info()) \n",
    "            #print(df.describe()) "
   ]
  },
  {
   "cell_type": "code",
   "execution_count": 17,
   "metadata": {},
   "outputs": [
    {
     "name": "stdout",
     "output_type": "stream",
     "text": [
      "Requirement already satisfied: sklearn in c:\\users\\dell 3510\\appdata\\local\\programs\\python\\python38\\lib\\site-packages (0.0)\n",
      "Requirement already satisfied: scikit-learn in c:\\users\\dell 3510\\appdata\\local\\programs\\python\\python38\\lib\\site-packages (from sklearn) (1.3.2)\n",
      "Requirement already satisfied: joblib>=1.1.1 in c:\\users\\dell 3510\\appdata\\local\\programs\\python\\python38\\lib\\site-packages (from scikit-learn->sklearn) (1.4.2)\n",
      "Requirement already satisfied: scipy>=1.5.0 in c:\\users\\dell 3510\\appdata\\local\\programs\\python\\python38\\lib\\site-packages (from scikit-learn->sklearn) (1.10.1)\n",
      "Requirement already satisfied: threadpoolctl>=2.0.0 in c:\\users\\dell 3510\\appdata\\local\\programs\\python\\python38\\lib\\site-packages (from scikit-learn->sklearn) (3.5.0)\n",
      "Requirement already satisfied: numpy<2.0,>=1.17.3 in c:\\users\\dell 3510\\appdata\\local\\programs\\python\\python38\\lib\\site-packages (from scikit-learn->sklearn) (1.24.3)\n",
      "Note: you may need to restart the kernel to use updated packages.\n"
     ]
    },
    {
     "name": "stderr",
     "output_type": "stream",
     "text": [
      "WARNING: You are using pip version 21.1.1; however, version 25.0.1 is available.\n",
      "You should consider upgrading via the 'c:\\Users\\DELL 3510\\AppData\\Local\\Programs\\Python\\Python38\\python.exe -m pip install --upgrade pip' command.\n"
     ]
    }
   ],
   "source": [
    "pip install sklearn"
   ]
  },
  {
   "cell_type": "code",
   "execution_count": 18,
   "metadata": {},
   "outputs": [
    {
     "name": "stdout",
     "output_type": "stream",
     "text": [
      "   salary  salary_normalized\n",
      "0  149000           0.601010\n",
      "1  120000           0.454545\n",
      "2   68000           0.191919\n",
      "3  120000           0.454545\n",
      "4  149000           0.601010\n",
      "Unnamed: 0             int64\n",
      "job_title             object\n",
      "job_type              object\n",
      "experience_level      object\n",
      "location              object\n",
      "salary_currency       object\n",
      "salary                 int64\n",
      "salary_normalized    float64\n",
      "dtype: object\n"
     ]
    }
   ],
   "source": [
    "from sklearn.preprocessing import MinMaxScaler\n",
    "\n",
    "scaler = MinMaxScaler()\n",
    "# Supposons que la colonne s'appelle \"salary\n",
    "df[\"salary_normalized\"] = scaler.fit_transform(df[[\"salary\"]])\n",
    "print(df[[\"salary\", \"salary_normalized\"]].head())\n",
    "print(df.dtypes)"
   ]
  },
  {
   "cell_type": "code",
   "execution_count": 19,
   "metadata": {},
   "outputs": [
    {
     "name": "stdout",
     "output_type": "stream",
     "text": [
      "Requirement already satisfied: PCA in c:\\users\\dell 3510\\appdata\\local\\programs\\python\\python38\\lib\\site-packages (2.0.9)\n",
      "Requirement already satisfied: scatterd>=1.3.7 in c:\\users\\dell 3510\\appdata\\local\\programs\\python\\python38\\lib\\site-packages (from PCA) (1.3.7)\n",
      "Requirement already satisfied: adjusttext in c:\\users\\dell 3510\\appdata\\local\\programs\\python\\python38\\lib\\site-packages (from PCA) (1.3.0)\n",
      "Requirement already satisfied: scipy in c:\\users\\dell 3510\\appdata\\local\\programs\\python\\python38\\lib\\site-packages (from PCA) (1.10.1)\n",
      "Requirement already satisfied: matplotlib in c:\\users\\dell 3510\\appdata\\local\\programs\\python\\python38\\lib\\site-packages (from PCA) (3.7.5)\n",
      "Requirement already satisfied: scikit-learn in c:\\users\\dell 3510\\appdata\\local\\programs\\python\\python38\\lib\\site-packages (from PCA) (1.3.2)\n",
      "Requirement already satisfied: numpy in c:\\users\\dell 3510\\appdata\\local\\programs\\python\\python38\\lib\\site-packages (from PCA) (1.24.3)\n",
      "Requirement already satisfied: colourmap>=1.1.19 in c:\\users\\dell 3510\\appdata\\local\\programs\\python\\python38\\lib\\site-packages (from PCA) (1.1.19)\n",
      "Requirement already satisfied: datazets in c:\\users\\dell 3510\\appdata\\local\\programs\\python\\python38\\lib\\site-packages (from PCA) (1.1.0)\n",
      "Requirement already satisfied: pandas in c:\\users\\dell 3510\\appdata\\local\\programs\\python\\python38\\lib\\site-packages (from PCA) (2.0.3)\n",
      "Requirement already satisfied: statsmodels in c:\\users\\dell 3510\\appdata\\local\\programs\\python\\python38\\lib\\site-packages (from PCA) (0.14.1)\n",
      "Requirement already satisfied: seaborn in c:\\users\\dell 3510\\appdata\\local\\programs\\python\\python38\\lib\\site-packages (from scatterd>=1.3.7->PCA) (0.13.2)\n",
      "Requirement already satisfied: requests in c:\\users\\dell 3510\\appdata\\local\\programs\\python\\python38\\lib\\site-packages (from datazets->PCA) (2.32.3)\n",
      "Requirement already satisfied: contourpy>=1.0.1 in c:\\users\\dell 3510\\appdata\\local\\programs\\python\\python38\\lib\\site-packages (from matplotlib->PCA) (1.1.1)\n",
      "Requirement already satisfied: pillow>=6.2.0 in c:\\users\\dell 3510\\appdata\\local\\programs\\python\\python38\\lib\\site-packages (from matplotlib->PCA) (10.4.0)\n",
      "Requirement already satisfied: packaging>=20.0 in c:\\users\\dell 3510\\appdata\\roaming\\python\\python38\\site-packages (from matplotlib->PCA) (24.2)\n",
      "Requirement already satisfied: kiwisolver>=1.0.1 in c:\\users\\dell 3510\\appdata\\local\\programs\\python\\python38\\lib\\site-packages (from matplotlib->PCA) (1.4.7)\n",
      "Requirement already satisfied: importlib-resources>=3.2.0 in c:\\users\\dell 3510\\appdata\\local\\programs\\python\\python38\\lib\\site-packages (from matplotlib->PCA) (6.4.5)\n",
      "Requirement already satisfied: fonttools>=4.22.0 in c:\\users\\dell 3510\\appdata\\local\\programs\\python\\python38\\lib\\site-packages (from matplotlib->PCA) (4.56.0)\n",
      "Requirement already satisfied: pyparsing>=2.3.1 in c:\\users\\dell 3510\\appdata\\local\\programs\\python\\python38\\lib\\site-packages (from matplotlib->PCA) (3.1.4)\n",
      "Requirement already satisfied: cycler>=0.10 in c:\\users\\dell 3510\\appdata\\local\\programs\\python\\python38\\lib\\site-packages (from matplotlib->PCA) (0.12.1)\n",
      "Requirement already satisfied: python-dateutil>=2.7 in c:\\users\\dell 3510\\appdata\\roaming\\python\\python38\\site-packages (from matplotlib->PCA) (2.9.0.post0)\n",
      "Requirement already satisfied: zipp>=3.1.0 in c:\\users\\dell 3510\\appdata\\roaming\\python\\python38\\site-packages (from importlib-resources>=3.2.0->matplotlib->PCA) (3.20.2)\n",
      "Requirement already satisfied: six>=1.5 in c:\\users\\dell 3510\\appdata\\roaming\\python\\python38\\site-packages (from python-dateutil>=2.7->matplotlib->PCA) (1.17.0)\n",
      "Requirement already satisfied: tzdata>=2022.1 in c:\\users\\dell 3510\\appdata\\local\\programs\\python\\python38\\lib\\site-packages (from pandas->PCA) (2025.1)\n",
      "Requirement already satisfied: pytz>=2020.1 in c:\\users\\dell 3510\\appdata\\local\\programs\\python\\python38\\lib\\site-packages (from pandas->PCA) (2025.1)\n",
      "Requirement already satisfied: charset-normalizer<4,>=2 in c:\\users\\dell 3510\\appdata\\local\\programs\\python\\python38\\lib\\site-packages (from requests->datazets->PCA) (3.4.1)\n",
      "Requirement already satisfied: certifi>=2017.4.17 in c:\\users\\dell 3510\\appdata\\local\\programs\\python\\python38\\lib\\site-packages (from requests->datazets->PCA) (2025.1.31)\n",
      "Requirement already satisfied: urllib3<3,>=1.21.1 in c:\\users\\dell 3510\\appdata\\local\\programs\\python\\python38\\lib\\site-packages (from requests->datazets->PCA) (2.2.3)\n",
      "Requirement already satisfied: idna<4,>=2.5 in c:\\users\\dell 3510\\appdata\\local\\programs\\python\\python38\\lib\\site-packages (from requests->datazets->PCA) (3.10)\n",
      "Requirement already satisfied: joblib>=1.1.1 in c:\\users\\dell 3510\\appdata\\local\\programs\\python\\python38\\lib\\site-packages (from scikit-learn->PCA) (1.4.2)\n",
      "Requirement already satisfied: threadpoolctl>=2.0.0 in c:\\users\\dell 3510\\appdata\\local\\programs\\python\\python38\\lib\\site-packages (from scikit-learn->PCA) (3.5.0)\n",
      "Requirement already satisfied: patsy>=0.5.4 in c:\\users\\dell 3510\\appdata\\local\\programs\\python\\python38\\lib\\site-packages (from statsmodels->PCA) (1.0.1)\n",
      "Note: you may need to restart the kernel to use updated packages.\n"
     ]
    },
    {
     "name": "stderr",
     "output_type": "stream",
     "text": [
      "WARNING: You are using pip version 21.1.1; however, version 25.0.1 is available.\n",
      "You should consider upgrading via the 'c:\\Users\\DELL 3510\\AppData\\Local\\Programs\\Python\\Python38\\python.exe -m pip install --upgrade pip' command.\n"
     ]
    }
   ],
   "source": [
    "pip install PCA"
   ]
  },
  {
   "cell_type": "code",
   "execution_count": 20,
   "metadata": {},
   "outputs": [
    {
     "name": "stdout",
     "output_type": "stream",
     "text": [
      "            PC1         PC2\n",
      "0  84163.766081 -949.193183\n",
      "1  55163.767131 -941.138351\n",
      "2   3163.768472 -929.281412\n",
      "3  55163.767548 -939.138352\n",
      "4  84163.767125 -944.193183\n"
     ]
    }
   ],
   "source": [
    "from sklearn.decomposition import PCA\n",
    "# 🔹 2. Sélectionner uniquement les colonnes numériques\n",
    "df_numeric = df.select_dtypes(include=['number']).columns\n",
    "#This line creates an instance of the PCA class with the parameter n_components set to 2. It specifies that we want to reduce the dimensionality of the data to 2 principal components. In other words, the data will be projected into a 2D space.\n",
    "pca = PCA(n_components=2)\n",
    "reduced_data = pca.fit_transform(df[df_numeric])\n",
    "reduced_data = pd.DataFrame(reduced_data, columns=[\"PC1\", \"PC2\"])\n",
    "print(reduced_data.head())"
   ]
  },
  {
   "cell_type": "code",
   "execution_count": null,
   "metadata": {},
   "outputs": [
    {
     "name": "stdout",
     "output_type": "stream",
     "text": [
      "  experience_level          mean   median\n",
      "0            Entry  36111.111111  30000.0\n",
      "1        Executive  76076.923077  46000.0\n",
      "2              Mid  51786.885246  51000.0\n",
      "3           Senior  75088.033012  68000.0\n"
     ]
    }
   ],
   "source": [
    "#Regrouper par \"experience_level\" et calculer la moyenne et la médiane du salaire\n",
    "salary_stats = df.groupby(\"experience_level\")[\"salary\"].agg([\"mean\", \"median\"]).reset_index()\n",
    "\n",
    "#Afficher les résultats\n",
    "print(salary_stats)\n",
    "\n",
    "#les résultats dans un fichier CSV\n",
    "salary_stats.to_csv(\"salary_stats_by_experience.csv\", index=False)"
   ]
  }
 ],
 "metadata": {
  "kernelspec": {
   "display_name": "Python 3",
   "language": "python",
   "name": "python3"
  },
  "language_info": {
   "name": "python",
   "version": "3.8.10"
  }
 },
 "nbformat": 4,
 "nbformat_minor": 2
}
