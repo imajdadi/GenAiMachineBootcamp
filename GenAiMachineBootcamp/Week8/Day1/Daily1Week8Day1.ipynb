{
 "cells": [
  {
   "cell_type": "markdown",
   "metadata": {},
   "source": [
    "Rédige un message clair et amical rappelant aux employés les bonnes pratiques d'accès à distance :\n",
    "\n",
    "🔹Utiliser uniquement le VPN sécurisé approuvé pour se connecter aux systèmes internes.\n",
    "\n",
    "🔹Éviter toute connexion non sécurisée.\n",
    "\n",
    "🔹Ne pas utiliser d’appareils personnels sans protection des terminaux.\n",
    "\n",
    "🔹Protéger les données et les communications sensibles.\n",
    "\n",
    "🔹Le ton doit être accessible et engageant, et le texte doit rester sous 75 mots."
   ]
  },
  {
   "cell_type": "markdown",
   "metadata": {},
   "source": [
    "1. Pertinence \n",
    "Oui, la réponse conserve l’essentiel du message original : utilisation obligatoire du VPN sécurisé, interdiction des connexions non sécurisées et protection des données sensibles.\n",
    "\n",
    "2. Clarté\n",
    "Oui, la reformulation est plus accessible et compréhensible pour un personnel non technique.\n",
    "\n",
    "3. Structure\n",
    "Oui, les informations sont bien organisées en puces claires pour une lecture rapide.\n",
    "\n",
    "4. Ton \n",
    "Oui, le ton est amical et clair, tout en restant professionnel et adapté à une communication interne.\n",
    "\n",
    "5. Longueur\n",
    "Oui, la réponse reste en dessous de 75 mots.\n",
    "\n",
    "6. Exactitude des faits\n",
    "Non, la réponse conserve tous les éléments de sécurité essentiels sans suppression ni modification importante."
   ]
  },
  {
   "cell_type": "markdown",
   "metadata": {},
   "source": [
    "Voila une deuxième version pour des stagiaires juniors\n",
    "Bienvenue dans l'équipe ! 😊 Voici quelques conseils pour un accès sécurisé aux outils de l'entreprise :\n",
    "\n",
    "🔹Toujours utiliser le VPN fourni pour se connecter.\n",
    "\n",
    "🔹Ne jamais utiliser un Wi-Fi public ou une connexion non sécurisée.\n",
    "\n",
    "🔹Éviter d’utiliser un appareil personnel sans protection.\n",
    "\n",
    "🔹Garder les informations de l’entreprise en sécurité."
   ]
  },
  {
   "cell_type": "markdown",
   "metadata": {},
   "source": [
    "La citation : \n",
    "\"Se connecter en toute sécurité, c'est protéger non seulement les données de l'entreprise, mais aussi votre propre travail. Utilisez toujours le VPN approuvé et évitez les connexions non sécurisées.\""
   ]
  },
  {
   "cell_type": "markdown",
   "metadata": {},
   "source": [
    "Dans quel type de communication interne la citation serait-elle plus appropriée que la paraphrase ?\n",
    "\n",
    "-Lorsqu’il s’agit d’un document officiel.\n",
    "\n",
    "-Dans un email formel envoyé par la direction ou le service IT pour rappeler les règles de sécurité.\n",
    "\n",
    "-Lors d’une formation où l'on veut insister sur la règle exacte définie par l’entreprise.\n",
    "\n",
    "Quand la citation peut-elle présenter un risque ?\n",
    "\n",
    "Si elle contient trop de jargon, ce qui pourrait rendre la règle moins compréhensible pour certains employés.\n",
    "\n",
    "Si elle est sortie de son contexte et mal interprétée.\n",
    "\n",
    "Si elle semble trop rigide, sans explication ou adaptation au public concerné (ex : stagiaires juniors ou nouveaux employés)."
   ]
  }
 ],
 "metadata": {
  "language_info": {
   "name": "python"
  }
 },
 "nbformat": 4,
 "nbformat_minor": 2
}
