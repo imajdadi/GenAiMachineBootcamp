{
 "cells": [
  {
   "cell_type": "code",
   "execution_count": null,
   "metadata": {},
   "outputs": [],
   "source": [
    "#Créer une plateforme web alimentée par des données d’avis de véhicules pour détecter les pannes les plus récurrentes et générer des recommandations personnalisées grâce à l’intelligence artificielle."
   ]
  }
 ],
 "metadata": {
  "language_info": {
   "name": "python"
  }
 },
 "nbformat": 4,
 "nbformat_minor": 2
}
