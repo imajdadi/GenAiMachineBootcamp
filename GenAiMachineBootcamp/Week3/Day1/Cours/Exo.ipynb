{
 "cells": [
  {
   "cell_type": "code",
   "execution_count": 1,
   "metadata": {},
   "outputs": [
    {
     "name": "stdout",
     "output_type": "stream",
     "text": [
      "Requirement already satisfied: numpy in c:\\users\\dell 3510\\appdata\\local\\programs\\python\\python38\\lib\\site-packages (1.24.3)\n",
      "Note: you may need to restart the kernel to use updated packages.\n"
     ]
    },
    {
     "name": "stderr",
     "output_type": "stream",
     "text": [
      "WARNING: You are using pip version 21.1.1; however, version 25.0.1 is available.\n",
      "You should consider upgrading via the 'c:\\Users\\DELL 3510\\AppData\\Local\\Programs\\Python\\Python38\\python.exe -m pip install --upgrade pip' command.\n"
     ]
    }
   ],
   "source": [
    "pip install numpy"
   ]
  },
  {
   "cell_type": "code",
   "execution_count": 8,
   "metadata": {},
   "outputs": [
    {
     "name": "stdout",
     "output_type": "stream",
     "text": [
      "[[1 2 3]\n",
      " [4 5 6]]\n",
      "[1 2 3 4 5]\n",
      "  → Forme  (shape)  : (2, 3)\n",
      "  → Taille (size)   : 6\n",
      "  → Type   (dtype)  : int32\n",
      "\n",
      "Tableau : [1. 2. 3.]\n",
      "Type de données : float64\n"
     ]
    }
   ],
   "source": [
    "import numpy as np\n",
    "\n",
    "# Création d'un tableau NumPy de 1 a 6 2D\n",
    "array = np.array([[1, 2, 3], [4, 5, 6]])\n",
    "array2 = np.array([1, 2, 3,4, 5])\n",
    "\n",
    "# Affichage du tableau\n",
    "print(array)\n",
    "print(array2)\n",
    "print(f\"  → Forme  (shape)  : {array.shape}\")\n",
    "print(f\"  → Taille (size)   : {array.size}\")\n",
    "print(f\"  → Type   (dtype)  : {array.dtype}\\n\")\n",
    "\n",
    "array_float = np.array([1, 2, 3], dtype=float)\n",
    "\n",
    "# Affichage du tableau et de son type de données\n",
    "print(\"Tableau :\", array_float)\n",
    "print(\"Type de données :\", array_float.dtype)"
   ]
  },
  {
   "cell_type": "code",
   "execution_count": 15,
   "metadata": {},
   "outputs": [
    {
     "name": "stdout",
     "output_type": "stream",
     "text": [
      "Températures de cette semaine :  [24 29 18 20 17]\n",
      "  → Forme  (shape)  : (5,)\n",
      "  → Taille (size)   : 5\n",
      "  → Type   (dtype)  : int32\n",
      "\n",
      "Tableau bidimensionnel (2, 5) avec des valeurs aléatoires :\n",
      "[[ 1  1  7  9  7]\n",
      " [ 9  4  9 10 10]]\n",
      "Tableau 3D représentant une image de 9 pixels (3x3 avec 3 canaux) :\n",
      "[[[255   0   0]\n",
      "  [  0 255   0]\n",
      "  [  0   0 255]]\n",
      "\n",
      " [[255 255   0]\n",
      "  [  0 255 255]\n",
      "  [255   0 255]]\n",
      "\n",
      " [[192 192 192]\n",
      "  [128 128 128]\n",
      "  [  0   0   0]]]\n"
     ]
    }
   ],
   "source": [
    "#EXO2\n",
    "import numpy as np\n",
    "\n",
    "# Création d'un tableau NumPy de 1 a 6 2D\n",
    "temperatures = np.array([24, 29 , 18, 20, 17])\n",
    "\n",
    "# Affichage du tableau\n",
    "print(\"Températures de cette semaine : \", temperatures)\n",
    "print(f\"  → Forme  (shape)  : {temperatures.shape}\")\n",
    "print(f\"  → Taille (size)   : {temperatures.size}\")\n",
    "print(f\"  → Type   (dtype)  : {temperatures.dtype}\\n\")\n",
    "\n",
    "\n",
    "#un tableau 2x5 avec des valeurs aléatoires entre 1 et 10\n",
    "random_values = np.random.randint(1, 11, size=(2, 5))\n",
    "\n",
    "# Affichage du tableau\n",
    "print(\"Tableau bidimensionnel (2, 5) avec des valeurs aléatoires :\")\n",
    "print(random_values)\n",
    "\n",
    "# Créer un tableau 3D représentant une image 3x3 avec des valeurs de pixels définies manuellement\n",
    "# Chaque pixel est représenté par trois valeurs : R, G, B\n",
    "image_pixels = np.array([[[255, 0, 0], [0, 255, 0], [0, 0, 255]],   # Première ligne de pixels\n",
    "                        [[255, 255, 0], [0, 255, 255], [255, 0, 255]], # Deuxième ligne de pixels\n",
    "                        [[192, 192, 192], [128, 128, 128], [0, 0, 0]]]) # Troisième ligne de pixels\n",
    "\n",
    "# Affichage du tableau\n",
    "print(\"Tableau 3D représentant une image de 9 pixels (3x3 avec 3 canaux) :\")\n",
    "print(image_pixels)"
   ]
  },
  {
   "cell_type": "code",
   "execution_count": null,
   "metadata": {},
   "outputs": [
    {
     "name": "stdout",
     "output_type": "stream",
     "text": [
      "Element at row 1, column 2: 6\n",
      "Second row: [4 5 6]\n",
      "Third column: [3 6 9]\n"
     ]
    }
   ],
   "source": [
    "#test_cours\n",
    "\n",
    "import numpy as np\n",
    "\n",
    "# Example 2D array\n",
    "array_2d = np.array([[1, 2, 3], [4, 5, 6], [7, 8, 9]])\n",
    "\n",
    "# Accessing a single element\n",
    "print(\"Element at row 1, column 2:\", array_2d[1, 2])  # Output: 6\n",
    "array_2d[1, 2]\n",
    "#signifie que l'on souhaite accéder à l'élément situé à la ligne 1 et à la colonne 2 du tableau.\n",
    "#Dans l'exemple ci-dessus, cela correspond au nombre 6 dans le tableau.\n",
    "\n",
    "# Accessing a row\n",
    "print(\"Second row:\", array_2d[1, :])  # Output: [4 5 6]\n",
    "array_2d[:, 2] array_2d[1, :] #signifie que l'on souhaite accéder à la ligne 1 (la deuxième ligne, \n",
    "#puisque l'indexation commence à 0) et à toutes les colonnes de cette ligne.\n",
    "#Le résultat ici sera [4, 5, 6], soit la deuxième ligne du tableau.\n",
    "\n",
    "# Accessing a column\n",
    "print(\"Third column:\", array_2d[:, 2])  # Output: [3 6 9]\n",
    "array_2d[:, 2] \n",
    "#signifie que l'on souhaite accéder à la colonne 2 (la troisième colonne) pour toutes les lignes du tableau.\n",
    "#Le résultat ici sera [3, 6, 9], soit la troisième colonne du tableau."
   ]
  },
  {
   "cell_type": "code",
   "execution_count": 17,
   "metadata": {},
   "outputs": [
    {
     "name": "stdout",
     "output_type": "stream",
     "text": [
      "Slice of the array: [[2 3]\n",
      " [5 6]]\n"
     ]
    }
   ],
   "source": [
    "#testcours\n",
    "import numpy as np\n",
    "\n",
    "# Example 2D array\n",
    "array_2d = np.array([[1, 2, 3], [4, 5, 6], [7, 8, 9]])\n",
    "\n",
    "# Slicing a portion of the array\n",
    "print(\"Slice of the array:\", array_2d[0:2, 1:3])  # Output: [[2 3] [5 6]]"
   ]
  },
  {
   "cell_type": "code",
   "execution_count": 18,
   "metadata": {},
   "outputs": [
    {
     "name": "stdout",
     "output_type": "stream",
     "text": [
      "Original Array: [1 2 3]\n",
      "After Adding 5: [6 7 8]\n"
     ]
    }
   ],
   "source": [
    "import numpy as np\n",
    "\n",
    "# Creating a 1D array\n",
    "a = np.array([1, 2, 3])\n",
    "\n",
    "# Adding a scalar value to the array\n",
    "result = a + 5\n",
    "\n",
    "print(\"Original Array:\", a)\n",
    "print(\"After Adding 5:\", result)"
   ]
  },
  {
   "cell_type": "code",
   "execution_count": 20,
   "metadata": {},
   "outputs": [
    {
     "name": "stdout",
     "output_type": "stream",
     "text": [
      "1D Array: [0 1 2]\n",
      "2D Array: [[0 1 2]\n",
      " [3 4 5]]\n",
      "Broadcasted Addition: [[0 2 4]\n",
      " [3 5 7]]\n"
     ]
    }
   ],
   "source": [
    "\n",
    "import numpy as np\n",
    "\n",
    "# Creating a 1D array and a 2D array\n",
    "a = np.array([0, 1, 2])\n",
    "b = np.array([[0, 1, 2], [3, 4, 5]])\n",
    "\n",
    "# Adding the 1D array to each row of the 2D array\n",
    "result = a + b\n",
    "\n",
    "print(\"1D Array:\", a)\n",
    "print(\"2D Array:\", b)\n",
    "print(\"Broadcasted Addition:\", result)"
   ]
  },
  {
   "cell_type": "code",
   "execution_count": 34,
   "metadata": {},
   "outputs": [
    {
     "name": "stdout",
     "output_type": "stream",
     "text": [
      "Reshaped to 4x3:\n",
      " [[ 0  1  2]\n",
      " [ 3  4  5]\n",
      " [ 6  7  8]\n",
      " [ 9 10 11]]\n",
      "Reshaped to 2x6:\n",
      " [[ 0  1  2  3  4  5]\n",
      " [ 6  7  8  9 10 11]]\n",
      "\n",
      "Matrice transposée (6x2) :\n",
      "[ 0  1  2  3  4  5  6  7  8  9 10 11]\n"
     ]
    }
   ],
   "source": [
    "#cours6\n",
    "import numpy as np\n",
    "\n",
    "# Creating a 1D array\n",
    "array = np.arange(0, 12)  # Array of numbers from 1 to 9\n",
    "\n",
    "# Reshaping to a 3x3 matrix\n",
    "reshaped_array = array.reshape(4,3)\n",
    "print(\"Reshaped to 4x3:\\n\", reshaped_array)\n",
    "# Reshaping to a 3x3 matrix\n",
    "reshaped_array = array.reshape(2,6)\n",
    "print(\"Reshaped to 2x6:\\n\", reshaped_array)\n",
    "transposed_array = array\n",
    "print(\"\\nMatrice transposée (6x2) :\")\n",
    "print(transposed_array)"
   ]
  },
  {
   "cell_type": "code",
   "execution_count": null,
   "metadata": {},
   "outputs": [],
   "source": []
  }
 ],
 "metadata": {
  "kernelspec": {
   "display_name": "Python 3",
   "language": "python",
   "name": "python3"
  },
  "language_info": {
   "codemirror_mode": {
    "name": "ipython",
    "version": 3
   },
   "file_extension": ".py",
   "mimetype": "text/x-python",
   "name": "python",
   "nbconvert_exporter": "python",
   "pygments_lexer": "ipython3",
   "version": "3.8.10"
  }
 },
 "nbformat": 4,
 "nbformat_minor": 2
}
