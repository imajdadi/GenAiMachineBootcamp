{
 "cells": [
  {
   "cell_type": "code",
   "execution_count": null,
   "metadata": {},
   "outputs": [
    {
     "name": "stdout",
     "output_type": "stream",
     "text": [
      "[0 1 2 3 4 5 6 7 8 9]\n"
     ]
    }
   ],
   "source": [
    "#Exo1\n",
    "import numpy as np\n",
    "\n",
    "# Creating a 1D array\n",
    "array = np.arange(0,10)\n",
    "print(array) "
   ]
  },
  {
   "cell_type": "code",
   "execution_count": 6,
   "metadata": {},
   "outputs": [
    {
     "name": "stdout",
     "output_type": "stream",
     "text": [
      "[3 2 0 1 2]\n"
     ]
    }
   ],
   "source": [
    "#Exo2\n",
    "import numpy as np\n",
    "\n",
    "# Convertrir 1D array to int \n",
    "array_float = np.array([3.14, 2.17, 0, 1, 2], dtype=int)\n",
    "\n",
    "# Affichage du tableau et de son type de données\n",
    "print(array_float)"
   ]
  },
  {
   "cell_type": "code",
   "execution_count": 25,
   "metadata": {},
   "outputs": [
    {
     "name": "stdout",
     "output_type": "stream",
     "text": [
      "Reshaped to 3x3:\n",
      " [[1 2 3]\n",
      " [4 5 6]\n",
      " [7 8 9]]\n"
     ]
    }
   ],
   "source": [
    "#Exo3\n",
    "import numpy as np\n",
    "\n",
    "# Creating a 1D array\n",
    "array_3 = np.arange(1, 10)  # Array of numbers from 1 to 9\n",
    "\n",
    "# Reshaping to a 3x3 matrix\n",
    "reshaped_array = array_3.reshape(3,3)\n",
    "print(\"Reshaped to 3x3:\\n\", reshaped_array)"
   ]
  },
  {
   "cell_type": "code",
   "execution_count": 20,
   "metadata": {},
   "outputs": [
    {
     "name": "stdout",
     "output_type": "stream",
     "text": [
      "Tableau bidimensionnel (4, 5) avec des valeurs aléatoires :\n",
      "[[0.36311729 0.11460185 0.02337802 0.66120874 0.62338108]\n",
      " [0.1294098  0.80080025 0.50613205 0.51427477 0.2095684 ]\n",
      " [0.84076774 0.31247334 0.89221308 0.00821433 0.55561851]\n",
      " [0.3726206  0.22905557 0.86756149 0.92266069 0.68690774]]\n"
     ]
    }
   ],
   "source": [
    "#Exo4\n",
    "#un tableau 4*5 avec des valeurs aléatoires\n",
    "random_values = np.random.rand(4, 5)\n",
    "\n",
    "# Affichage du tableau\n",
    "print(\"Tableau bidimensionnel (4, 5) avec des valeurs aléatoires :\")\n",
    "print(random_values)"
   ]
  },
  {
   "cell_type": "code",
   "execution_count": 17,
   "metadata": {},
   "outputs": [
    {
     "name": "stdout",
     "output_type": "stream",
     "text": [
      "deuxième ligne :   [20 21 22 23 24]\n"
     ]
    }
   ],
   "source": [
    "#Exo5\n",
    "import numpy as np\n",
    "\n",
    "# Création d'un tableau NumPy 2D\n",
    "array_2d = np.array([[21,22,23,22,22], \n",
    "                      [20,21,22,23,24], \n",
    "                      [21,22,23,22,22]])\n",
    "print(\"deuxième ligne :  \" , array_2d[1,:])"
   ]
  },
  {
   "cell_type": "code",
   "execution_count": 24,
   "metadata": {},
   "outputs": [
    {
     "data": {
      "text/plain": [
       "array([9, 8, 7, 6, 5, 4, 3, 2, 1, 0])"
      ]
     },
     "execution_count": 24,
     "metadata": {},
     "output_type": "execute_result"
    }
   ],
   "source": [
    "#Exo6\n",
    "import numpy as np\n",
    "\n",
    "# Creating a 1D array\n",
    "array_4 = np.arange(0, 10) \n",
    "#inverser l'ordre des éléments et l'afficher\n",
    "np.flip(array_4)"
   ]
  },
  {
   "cell_type": "code",
   "execution_count": 29,
   "metadata": {},
   "outputs": [
    {
     "name": "stdout",
     "output_type": "stream",
     "text": [
      "[[1. 0. 0. 0.]\n",
      " [0. 1. 0. 0.]\n",
      " [0. 0. 1. 0.]\n",
      " [0. 0. 0. 1.]]\n"
     ]
    }
   ],
   "source": [
    "#Exo7\n",
    "import numpy as np\n",
    "\n",
    "# Creating a 1D array\n",
    "identity_matrix = np.eye(4)\n",
    "print(identity_matrix)"
   ]
  },
  {
   "cell_type": "code",
   "execution_count": null,
   "metadata": {},
   "outputs": [
    {
     "name": "stdout",
     "output_type": "stream",
     "text": [
      "la somme est : 55\n",
      "la moyenne est: 5.5\n"
     ]
    }
   ],
   "source": [
    "#Exo8\n",
    "import numpy as np\n",
    "\n",
    "# Création d'un tableau 1D\n",
    "array_sm = np.array([1, 2, 3, 4, 5, 6, 7, 8, 9, 10])\n",
    "\n",
    "# Trouver la somme\n",
    "somme = np.sum(array_sm)\n",
    "\n",
    "# Trouver la moyenne\n",
    "moyenne = np.mean(array_sm)\n",
    "print(\"la somme est :\",somme)\n",
    "print(\"la moyenne est:\", moyenne)"
   ]
  },
  {
   "cell_type": "code",
   "execution_count": 41,
   "metadata": {},
   "outputs": [
    {
     "name": "stdout",
     "output_type": "stream",
     "text": [
      "Reshaped to 4x5:\n",
      " [[ 1  2  3  4  5]\n",
      " [ 6  7  8  9 10]\n",
      " [11 12 13 14 15]\n",
      " [16 17 18 19 20]]\n"
     ]
    }
   ],
   "source": [
    "import numpy as np\n",
    "\n",
    "# Creating a 1D array\n",
    "array_resh = np.arange(1,21)  # Array of numbers from 1 to 20\n",
    "\n",
    "# Reshaping to a 4x5 matrix\n",
    "reshaped_array = array_resh.reshape(4, 5)\n",
    "print(\"Reshaped to 4x5:\\n\", reshaped_array)"
   ]
  },
  {
   "cell_type": "code",
   "execution_count": 42,
   "metadata": {},
   "outputs": [
    {
     "data": {
      "text/plain": [
       "array([1, 3, 5, 7, 9])"
      ]
     },
     "execution_count": 42,
     "metadata": {},
     "output_type": "execute_result"
    }
   ],
   "source": [
    "# Création d'un tableau 1D d'exemple\n",
    "array_im = np.array([1, 2, 3, 4, 5, 6, 7, 8, 9, 10])\n",
    "np.extract(array_im % 2 != 0, array_im)"
   ]
  }
 ],
 "metadata": {
  "kernelspec": {
   "display_name": "Python 3",
   "language": "python",
   "name": "python3"
  },
  "language_info": {
   "codemirror_mode": {
    "name": "ipython",
    "version": 3
   },
   "file_extension": ".py",
   "mimetype": "text/x-python",
   "name": "python",
   "nbconvert_exporter": "python",
   "pygments_lexer": "ipython3",
   "version": "3.8.10"
  }
 },
 "nbformat": 4,
 "nbformat_minor": 2
}
