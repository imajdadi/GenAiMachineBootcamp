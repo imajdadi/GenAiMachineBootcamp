{
 "cells": [
  {
   "cell_type": "code",
   "execution_count": 1,
   "metadata": {},
   "outputs": [],
   "source": [
    "import pandas as pd\n",
    "import numpy as np\n",
    "from scipy import stats\n",
    "import matplotlib.pyplot as plt\n",
    "import seaborn as sns"
   ]
  },
  {
   "cell_type": "code",
   "execution_count": 79,
   "metadata": {},
   "outputs": [
    {
     "name": "stdout",
     "output_type": "stream",
     "text": [
      "Fichier enregistré dans le répertoire courant.\n"
     ]
    }
   ],
   "source": [
    "import pandas as pd\n",
    "import numpy as np\n",
    "\n",
    "# Augmenter le nombre de produits pour assurer assez de données\n",
    "num_products = 1000\n",
    "\n",
    "# Générer des noms de produits fictifs\n",
    "product_names = [f\"Product {i}\" for i in range(1, num_products + 1)]\n",
    "\n",
    "# Générer des notes clients réalistes entre 1 et 5\n",
    "customer_ratings = np.random.uniform(1, 5, size=num_products).round(1)\n",
    "\n",
    "# Créer le DataFrame\n",
    "df_customer_rating = pd.DataFrame({\"Product Name\": product_names, \"Customer Rating\": customer_ratings})\n",
    "\n",
    "# Sauvegarder le fichier localement\n",
    "df_customer_rating.to_csv(\"customer_ratings_large.csv\", index=False)\n",
    "\n",
    "# Télécharger le fichier\n",
    "print(\"Fichier enregistré dans le répertoire courant.\")"
   ]
  },
  {
   "cell_type": "code",
   "execution_count": 80,
   "metadata": {},
   "outputs": [],
   "source": [
    "# Charger les données\n",
    "df = pd.read_csv(\"popular_electronics_prices_extended.csv\")\n",
    "df_ratings = pd.read_csv(\"customer_ratings_large.csv\")"
   ]
  },
  {
   "cell_type": "code",
   "execution_count": 83,
   "metadata": {},
   "outputs": [
    {
     "name": "stdout",
     "output_type": "stream",
     "text": [
      "Nombre de lignes après fusion : 1020\n",
      "Lignes avec 'Customer Rating' avant remplissage : 0\n",
      "Valeurs manquantes 'Customer Rating' : 1020\n",
      "Valeurs manquantes 'Average Price 2020' : 404\n",
      "Lignes avec 'Customer Rating' après remplissage : 1020\n",
      "Lignes avec 'Average Price 2020' après remplissage : 1020\n"
     ]
    }
   ],
   "source": [
    "# Vérifier combien de lignes ont une correspondance après la fusion\n",
    "df = df.merge(df_ratings, on=\"Product Name\", how=\"left\", suffixes=('', '_customer'))  # Changed suffixes\n",
    "print(f\"Nombre de lignes après fusion : {len(df)}\")\n",
    "print(f\"Lignes avec 'Customer Rating' avant remplissage : {df['Customer Rating'].count()}\")\n",
    "# Convertir les colonnes numériques correctement\n",
    "df[\"Customer Rating\"] = pd.to_numeric(df[\"Customer Rating\"], errors='coerce')\n",
    "df[\"Average Price 2020\"] = pd.to_numeric(df[\"Average Price 2020\"], errors='coerce')\n",
    "\n",
    "# Vérifier les valeurs NaN après conversion\n",
    "print(f\"Valeurs manquantes 'Customer Rating' : {df['Customer Rating'].isna().sum()}\")\n",
    "print(f\"Valeurs manquantes 'Average Price 2020' : {df['Average Price 2020'].isna().sum()}\")\n",
    "\n",
    "# Remplacer les valeurs manquantes avec des valeurs plausibles\n",
    "df = df.copy()\n",
    "df.loc[:, \"Customer Rating\"] = df[\"Customer Rating\"].fillna(np.random.uniform(2.5, 4.5))\n",
    "\n",
    "# Calculate a single random value within the range\n",
    "random_price = np.random.uniform(df[\"Average Price 2020\"].min(), df[\"Average Price 2020\"].max())\n",
    "df.loc[:, \"Average Price 2020\"] = df[\"Average Price 2020\"].fillna(random_price)\n",
    "\n",
    "# Vérifier les valeurs après correction\n",
    "\n",
    "print(f\"Lignes avec 'Customer Rating' après remplissage : {df['Customer Rating'].count()}\")\n",
    "print(f\"Lignes avec 'Average Price 2020' après remplissage : {df['Average Price 2020'].count()}\")"
   ]
  },
  {
   "cell_type": "code",
   "execution_count": 84,
   "metadata": {},
   "outputs": [
    {
     "data": {
      "text/html": [
       "<div>\n",
       "<style scoped>\n",
       "    .dataframe tbody tr th:only-of-type {\n",
       "        vertical-align: middle;\n",
       "    }\n",
       "\n",
       "    .dataframe tbody tr th {\n",
       "        vertical-align: top;\n",
       "    }\n",
       "\n",
       "    .dataframe thead th {\n",
       "        text-align: right;\n",
       "    }\n",
       "</style>\n",
       "<table border=\"1\" class=\"dataframe\">\n",
       "  <thead>\n",
       "    <tr style=\"text-align: right;\">\n",
       "      <th></th>\n",
       "      <th>Product Name</th>\n",
       "      <th>Category</th>\n",
       "      <th>Brand</th>\n",
       "      <th>Release Year</th>\n",
       "      <th>Average Price 2015</th>\n",
       "      <th>Average Price 2020</th>\n",
       "      <th>Average Price 2025</th>\n",
       "      <th>Customer Rating</th>\n",
       "      <th>Customer Rating_customer</th>\n",
       "    </tr>\n",
       "  </thead>\n",
       "  <tbody>\n",
       "    <tr>\n",
       "      <th>0</th>\n",
       "      <td>iPhone 6</td>\n",
       "      <td>Smartphone</td>\n",
       "      <td>Apple</td>\n",
       "      <td>2014</td>\n",
       "      <td>649.0</td>\n",
       "      <td>1283.817084</td>\n",
       "      <td>Discontinued</td>\n",
       "      <td>3.222721</td>\n",
       "      <td>NaN</td>\n",
       "    </tr>\n",
       "    <tr>\n",
       "      <th>1</th>\n",
       "      <td>iPhone 12</td>\n",
       "      <td>Smartphone</td>\n",
       "      <td>Apple</td>\n",
       "      <td>2020</td>\n",
       "      <td>NaN</td>\n",
       "      <td>799.000000</td>\n",
       "      <td>599</td>\n",
       "      <td>3.222721</td>\n",
       "      <td>NaN</td>\n",
       "    </tr>\n",
       "    <tr>\n",
       "      <th>2</th>\n",
       "      <td>Galaxy S6</td>\n",
       "      <td>Smartphone</td>\n",
       "      <td>Samsung</td>\n",
       "      <td>2015</td>\n",
       "      <td>699.0</td>\n",
       "      <td>1283.817084</td>\n",
       "      <td>Discontinued</td>\n",
       "      <td>3.222721</td>\n",
       "      <td>NaN</td>\n",
       "    </tr>\n",
       "    <tr>\n",
       "      <th>3</th>\n",
       "      <td>Galaxy S20</td>\n",
       "      <td>Smartphone</td>\n",
       "      <td>Samsung</td>\n",
       "      <td>2020</td>\n",
       "      <td>NaN</td>\n",
       "      <td>999.000000</td>\n",
       "      <td>749</td>\n",
       "      <td>3.222721</td>\n",
       "      <td>NaN</td>\n",
       "    </tr>\n",
       "    <tr>\n",
       "      <th>4</th>\n",
       "      <td>MacBook Air (2015)</td>\n",
       "      <td>Laptop</td>\n",
       "      <td>Apple</td>\n",
       "      <td>2015</td>\n",
       "      <td>999.0</td>\n",
       "      <td>799.000000</td>\n",
       "      <td>Discontinued</td>\n",
       "      <td>3.222721</td>\n",
       "      <td>NaN</td>\n",
       "    </tr>\n",
       "  </tbody>\n",
       "</table>\n",
       "</div>"
      ],
      "text/plain": [
       "         Product Name    Category    Brand  Release Year  Average Price 2015  \\\n",
       "0            iPhone 6  Smartphone    Apple          2014               649.0   \n",
       "1           iPhone 12  Smartphone    Apple          2020                 NaN   \n",
       "2           Galaxy S6  Smartphone  Samsung          2015               699.0   \n",
       "3          Galaxy S20  Smartphone  Samsung          2020                 NaN   \n",
       "4  MacBook Air (2015)      Laptop    Apple          2015               999.0   \n",
       "\n",
       "   Average Price 2020 Average Price 2025  Customer Rating  \\\n",
       "0         1283.817084       Discontinued         3.222721   \n",
       "1          799.000000                599         3.222721   \n",
       "2         1283.817084       Discontinued         3.222721   \n",
       "3          999.000000                749         3.222721   \n",
       "4          799.000000       Discontinued         3.222721   \n",
       "\n",
       "   Customer Rating_customer  \n",
       "0                       NaN  \n",
       "1                       NaN  \n",
       "2                       NaN  \n",
       "3                       NaN  \n",
       "4                       NaN  "
      ]
     },
     "metadata": {},
     "output_type": "display_data"
    }
   ],
   "source": [
    "# Affichage des premières lignes\n",
    "display(df.head())"
   ]
  },
  {
   "cell_type": "code",
   "execution_count": null,
   "metadata": {},
   "outputs": [],
   "source": [
    "# Identifier la plateforme avec les meilleurs prix\n",
    "df[\"Best Platform\"] = df.iloc[:, 5:].idxmin(axis=1)\n",
    "best_platform_count = df[\"Best Platform\"].value_counts()\n",
    "fig3 = px.bar(best_platform_count, x=best_platform_count.index, y=best_platform_count.values,\n",
    "              title=\"Nombre de fois où une plateforme offre le meilleur prix\")\n",
    "fig3.show()"
   ]
  },
  {
   "cell_type": "code",
   "execution_count": 2,
   "metadata": {},
   "outputs": [],
   "source": [
    "# Import the dataset\n",
    "data = pd.read_csv('popular_electronics_prices_extended.csv')\n",
    "\n",
    "# Initial exploration of data\n",
    "initial_inspection = data.head()"
   ]
  },
  {
   "cell_type": "code",
   "execution_count": 3,
   "metadata": {},
   "outputs": [
    {
     "data": {
      "text/html": [
       "<div>\n",
       "<style scoped>\n",
       "    .dataframe tbody tr th:only-of-type {\n",
       "        vertical-align: middle;\n",
       "    }\n",
       "\n",
       "    .dataframe tbody tr th {\n",
       "        vertical-align: top;\n",
       "    }\n",
       "\n",
       "    .dataframe thead th {\n",
       "        text-align: right;\n",
       "    }\n",
       "</style>\n",
       "<table border=\"1\" class=\"dataframe\">\n",
       "  <thead>\n",
       "    <tr style=\"text-align: right;\">\n",
       "      <th></th>\n",
       "      <th>Product Name</th>\n",
       "      <th>Category</th>\n",
       "      <th>Brand</th>\n",
       "      <th>Release Year</th>\n",
       "      <th>Average Price 2015</th>\n",
       "      <th>Average Price 2020</th>\n",
       "      <th>Average Price 2025</th>\n",
       "    </tr>\n",
       "  </thead>\n",
       "  <tbody>\n",
       "    <tr>\n",
       "      <th>0</th>\n",
       "      <td>iPhone 6</td>\n",
       "      <td>Smartphone</td>\n",
       "      <td>Apple</td>\n",
       "      <td>2014</td>\n",
       "      <td>649.0</td>\n",
       "      <td>Discontinued</td>\n",
       "      <td>Discontinued</td>\n",
       "    </tr>\n",
       "    <tr>\n",
       "      <th>1</th>\n",
       "      <td>iPhone 12</td>\n",
       "      <td>Smartphone</td>\n",
       "      <td>Apple</td>\n",
       "      <td>2020</td>\n",
       "      <td>NaN</td>\n",
       "      <td>799</td>\n",
       "      <td>599</td>\n",
       "    </tr>\n",
       "    <tr>\n",
       "      <th>2</th>\n",
       "      <td>Galaxy S6</td>\n",
       "      <td>Smartphone</td>\n",
       "      <td>Samsung</td>\n",
       "      <td>2015</td>\n",
       "      <td>699.0</td>\n",
       "      <td>Discontinued</td>\n",
       "      <td>Discontinued</td>\n",
       "    </tr>\n",
       "    <tr>\n",
       "      <th>3</th>\n",
       "      <td>Galaxy S20</td>\n",
       "      <td>Smartphone</td>\n",
       "      <td>Samsung</td>\n",
       "      <td>2020</td>\n",
       "      <td>NaN</td>\n",
       "      <td>999</td>\n",
       "      <td>749</td>\n",
       "    </tr>\n",
       "    <tr>\n",
       "      <th>4</th>\n",
       "      <td>MacBook Air (2015)</td>\n",
       "      <td>Laptop</td>\n",
       "      <td>Apple</td>\n",
       "      <td>2015</td>\n",
       "      <td>999.0</td>\n",
       "      <td>799</td>\n",
       "      <td>Discontinued</td>\n",
       "    </tr>\n",
       "  </tbody>\n",
       "</table>\n",
       "</div>"
      ],
      "text/plain": [
       "         Product Name    Category    Brand  Release Year  Average Price 2015  \\\n",
       "0            iPhone 6  Smartphone    Apple          2014               649.0   \n",
       "1           iPhone 12  Smartphone    Apple          2020                 NaN   \n",
       "2           Galaxy S6  Smartphone  Samsung          2015               699.0   \n",
       "3          Galaxy S20  Smartphone  Samsung          2020                 NaN   \n",
       "4  MacBook Air (2015)      Laptop    Apple          2015               999.0   \n",
       "\n",
       "  Average Price 2020 Average Price 2025  \n",
       "0       Discontinued       Discontinued  \n",
       "1                799                599  \n",
       "2       Discontinued       Discontinued  \n",
       "3                999                749  \n",
       "4                799       Discontinued  "
      ]
     },
     "execution_count": 3,
     "metadata": {},
     "output_type": "execute_result"
    }
   ],
   "source": [
    "initial_inspection"
   ]
  },
  {
   "cell_type": "code",
   "execution_count": 4,
   "metadata": {},
   "outputs": [
    {
     "name": "stdout",
     "output_type": "stream",
     "text": [
      "<class 'pandas.core.frame.DataFrame'>\n",
      "RangeIndex: 1020 entries, 0 to 1019\n",
      "Data columns (total 7 columns):\n",
      " #   Column              Non-Null Count  Dtype  \n",
      "---  ------              --------------  -----  \n",
      " 0   Product Name        1020 non-null   object \n",
      " 1   Category            1020 non-null   object \n",
      " 2   Brand               1020 non-null   object \n",
      " 3   Release Year        1020 non-null   int64  \n",
      " 4   Average Price 2015  123 non-null    float64\n",
      " 5   Average Price 2020  622 non-null    object \n",
      " 6   Average Price 2025  1020 non-null   object \n",
      "dtypes: float64(1), int64(1), object(5)\n",
      "memory usage: 55.9+ KB\n"
     ]
    }
   ],
   "source": [
    "data.info()"
   ]
  },
  {
   "cell_type": "code",
   "execution_count": 14,
   "metadata": {},
   "outputs": [
    {
     "name": "stdout",
     "output_type": "stream",
     "text": [
      "       Release Year  Average Price 2015  Average Price 2020  \\\n",
      "count   1020.000000         1020.000000         1020.000000   \n",
      "mean    2019.387255         1655.964706         1073.937647   \n",
      "std        2.941036          300.563280          476.929958   \n",
      "min     2013.000000           35.000000           38.500000   \n",
      "25%     2017.000000         1666.000000          872.200000   \n",
      "50%     2019.000000         1666.000000         1066.100000   \n",
      "75%     2022.000000         1666.000000         1248.450000   \n",
      "max     2024.000000         2994.000000         2095.800000   \n",
      "\n",
      "       Average Price 2025  \n",
      "count         1020.000000  \n",
      "mean           780.732843  \n",
      "std            428.780870  \n",
      "min             27.000000  \n",
      "25%            411.875000  \n",
      "50%            781.500000  \n",
      "75%           1161.000000  \n",
      "max           1500.000000  \n"
     ]
    }
   ],
   "source": [
    "print(data.describe())"
   ]
  },
  {
   "cell_type": "code",
   "execution_count": 16,
   "metadata": {},
   "outputs": [
    {
     "name": "stdout",
     "output_type": "stream",
     "text": [
      "Product Name          0\n",
      "Category              0\n",
      "Brand                 0\n",
      "Release Year          0\n",
      "Average Price 2015    0\n",
      "Average Price 2020    0\n",
      "Average Price 2025    0\n",
      "dtype: int64\n"
     ]
    }
   ],
   "source": [
    "\n",
    "# Vérifier les valeurs manquantes dans chaque colonne\n",
    "print(data.isnull().sum())"
   ]
  },
  {
   "cell_type": "code",
   "execution_count": 48,
   "metadata": {},
   "outputs": [
    {
     "name": "stdout",
     "output_type": "stream",
     "text": [
      "                            Product Name          Category    Brand  \\\n",
      "0                               iPhone 6        Smartphone    Apple   \n",
      "1                              iPhone 12        Smartphone    Apple   \n",
      "2                              Galaxy S6        Smartphone  Samsung   \n",
      "3                             Galaxy S20        Smartphone  Samsung   \n",
      "4                     MacBook Air (2015)            Laptop    Apple   \n",
      "...                                  ...               ...      ...   \n",
      "1015             HP Headphones Model 357  Streaming Device       HP   \n",
      "1016           Oura Headphones Model 331   Fitness Tracker     Oura   \n",
      "1017           Acer Smartwatch Model 810        Smartphone     Acer   \n",
      "1018     Fitbit Gaming Console Model 102        Smartwatch   Fitbit   \n",
      "1019  Samsung Streaming Device Model 365            Tablet  Samsung   \n",
      "\n",
      "      Release Year  Average Price 2015  Average Price 2020  Average Price 2025  \n",
      "0             2014               649.0              1066.1               781.5  \n",
      "1             2020              1666.0               799.0               599.0  \n",
      "2             2015               699.0              1066.1               781.5  \n",
      "3             2020              1666.0               999.0               749.0  \n",
      "4             2015               999.0               799.0               781.5  \n",
      "...            ...                 ...                 ...                 ...  \n",
      "1015          2018              1666.0               415.8               297.0  \n",
      "1016          2020              1666.0              2048.2              1463.0  \n",
      "1017          2022              1666.0              1066.1               750.0  \n",
      "1018          2016              1666.0              1927.1              1376.5  \n",
      "1019          2023              1666.0              1066.1               399.0  \n",
      "\n",
      "[1020 rows x 7 columns]\n"
     ]
    }
   ],
   "source": [
    "# Liste des colonnes numériques que tu veux convertir\n",
    "columns_to_convert = ['Average Price 2015', 'Average Price 2020', 'Average Price 2025']\n",
    "\n",
    "# Pour chaque colonne dans la liste, convertir en numérique et remplir les NaN avec la médiane\n",
    "for col in columns_to_convert:\n",
    "    # Convertir la colonne en numérique, remplacer les erreurs par NaN\n",
    "    data[col] = pd.to_numeric(data[col], errors='coerce')\n",
    "    \n",
    "    # Remplir les NaN avec la médiane de la colonne\n",
    "    data[col].fillna(data[col].median(), inplace=True)\n",
    "\n",
    "# Afficher le DataFrame après modification\n",
    "print(data)\n"
   ]
  },
  {
   "cell_type": "code",
   "execution_count": 49,
   "metadata": {},
   "outputs": [],
   "source": [
    "# Imputing missing values based on data distribution, data type, and relevance\n",
    "# For numerical columns\n",
    "for col in data.select_dtypes(include=['float64', 'int64']).columns:\n",
    "    data[col].fillna(data[col].median(), inplace=True)\n",
    "# For categorical columns\n",
    "for col in data.select_dtypes(include=['object']).columns:\n",
    "    data[col].fillna(data[col].mode()[0], inplace=True)\n",
    "    "
   ]
  },
  {
   "cell_type": "code",
   "execution_count": 50,
   "metadata": {},
   "outputs": [
    {
     "data": {
      "text/html": [
       "<div>\n",
       "<style scoped>\n",
       "    .dataframe tbody tr th:only-of-type {\n",
       "        vertical-align: middle;\n",
       "    }\n",
       "\n",
       "    .dataframe tbody tr th {\n",
       "        vertical-align: top;\n",
       "    }\n",
       "\n",
       "    .dataframe thead th {\n",
       "        text-align: right;\n",
       "    }\n",
       "</style>\n",
       "<table border=\"1\" class=\"dataframe\">\n",
       "  <thead>\n",
       "    <tr style=\"text-align: right;\">\n",
       "      <th></th>\n",
       "      <th>Product Name</th>\n",
       "      <th>Category</th>\n",
       "      <th>Brand</th>\n",
       "      <th>Release Year</th>\n",
       "      <th>Average Price 2015</th>\n",
       "      <th>Average Price 2020</th>\n",
       "      <th>Average Price 2025</th>\n",
       "    </tr>\n",
       "  </thead>\n",
       "  <tbody>\n",
       "    <tr>\n",
       "      <th>0</th>\n",
       "      <td>iPhone 6</td>\n",
       "      <td>Smartphone</td>\n",
       "      <td>Apple</td>\n",
       "      <td>2014</td>\n",
       "      <td>649.0</td>\n",
       "      <td>1066.1</td>\n",
       "      <td>781.5</td>\n",
       "    </tr>\n",
       "    <tr>\n",
       "      <th>1</th>\n",
       "      <td>iPhone 12</td>\n",
       "      <td>Smartphone</td>\n",
       "      <td>Apple</td>\n",
       "      <td>2020</td>\n",
       "      <td>1666.0</td>\n",
       "      <td>799.0</td>\n",
       "      <td>599.0</td>\n",
       "    </tr>\n",
       "    <tr>\n",
       "      <th>2</th>\n",
       "      <td>Galaxy S6</td>\n",
       "      <td>Smartphone</td>\n",
       "      <td>Samsung</td>\n",
       "      <td>2015</td>\n",
       "      <td>699.0</td>\n",
       "      <td>1066.1</td>\n",
       "      <td>781.5</td>\n",
       "    </tr>\n",
       "    <tr>\n",
       "      <th>3</th>\n",
       "      <td>Galaxy S20</td>\n",
       "      <td>Smartphone</td>\n",
       "      <td>Samsung</td>\n",
       "      <td>2020</td>\n",
       "      <td>1666.0</td>\n",
       "      <td>999.0</td>\n",
       "      <td>749.0</td>\n",
       "    </tr>\n",
       "    <tr>\n",
       "      <th>4</th>\n",
       "      <td>MacBook Air (2015)</td>\n",
       "      <td>Laptop</td>\n",
       "      <td>Apple</td>\n",
       "      <td>2015</td>\n",
       "      <td>999.0</td>\n",
       "      <td>799.0</td>\n",
       "      <td>781.5</td>\n",
       "    </tr>\n",
       "  </tbody>\n",
       "</table>\n",
       "</div>"
      ],
      "text/plain": [
       "         Product Name    Category    Brand  Release Year  Average Price 2015  \\\n",
       "0            iPhone 6  Smartphone    Apple          2014               649.0   \n",
       "1           iPhone 12  Smartphone    Apple          2020              1666.0   \n",
       "2           Galaxy S6  Smartphone  Samsung          2015               699.0   \n",
       "3          Galaxy S20  Smartphone  Samsung          2020              1666.0   \n",
       "4  MacBook Air (2015)      Laptop    Apple          2015               999.0   \n",
       "\n",
       "   Average Price 2020  Average Price 2025  \n",
       "0              1066.1               781.5  \n",
       "1               799.0               599.0  \n",
       "2              1066.1               781.5  \n",
       "3               999.0               749.0  \n",
       "4               799.0               781.5  "
      ]
     },
     "execution_count": 50,
     "metadata": {},
     "output_type": "execute_result"
    }
   ],
   "source": [
    "data.head()"
   ]
  },
  {
   "cell_type": "code",
   "execution_count": 51,
   "metadata": {},
   "outputs": [
    {
     "name": "stdout",
     "output_type": "stream",
     "text": [
      "[1066.1  799.   999.  1199.    99.   299.   499.   179.    50.  1290.8\n",
      " 1581.3 1338.4 1204.    82.6  950.6  577.5 1894.9  161.7 1907.5  389.9\n",
      "  354.9 1381.1  441.  2084.6 1831.9  837.2  620.9  470.4  253.4 1695.4\n",
      "  116.2  315.7  799.4  583.8  406.  1312.5  366.8 1058.4 1636.6 1206.1\n",
      " 1586.9  623.7 1712.2 1747.9 1918.7 1081.5  105.7  122.5 1251.6 1019.9\n",
      "  270.9  218.4  329.   618.1  561.4  361.2 1428.7  267.4 1134.7  478.8\n",
      "  966.   798.7 1901.9  945.  1687.7 1064.  1659.  2062.9  168.7 1351.\n",
      " 1827.7  550.9 1323.  1137.5  780.5 1843.1   73.5   70.7 1967.7  637.\n",
      " 1344.  2069.9 1269.1  258.3 1377.6 1810.2   92.4 1086.4  102.9   93.1\n",
      " 2004.8 1672.3 1954.4 1768.2  672.    60.9  737.8 1279.6  777.   746.9\n",
      " 1985.2  639.8  934.5 1679.3 1075.2 1145.9  693.  1684.9 2046.8  647.5\n",
      " 1342.6  269.5  695.1 1775.9 1597.4  750.4 1280.3  445.2  812.  1577.1\n",
      "  675.5 1599.5 1346.8  285.6 1689.1 1168.3 1125.6  228.2  652.4 1752.8\n",
      " 1133.3  388.5 1903.3  731.5  829.5  928.2  597.1 1236.2 1309.7  881.3\n",
      " 1106.  1165.5  914.9  416.5 1393.   633.5 2088.1  968.8  110.6  823.9\n",
      "  219.8  163.1  555.8  831.6 1262.8 1505.7 2025.8 1359.4 1466.5  445.9\n",
      "  632.8  443.1 1945.3  345.8 2072.7  887.6 1826.3 1792.  1092.   931.\n",
      " 1258.6 1073.8  896.   911.4  288.4   84.   212.1  814.1  483.   280.7\n",
      "  628.6 2030.7  364.   694.4   77.  1148.  1898.4   50.4 1457.4 2016.7\n",
      " 1760.5  274.4 2025.1  818.3 1467.2 1829.1  639.1  271.6  942.2  380.8\n",
      "  849.8 1988.  1705.2  250.6 2065.   649.6 1253.7  613.2 1989.4 1273.3\n",
      "  299.6  364.7 2088.8  261.1 1880.2  284.9  611.1 2039.1  935.9  333.9\n",
      "  335.3  661.5  263.9  133.7  851.2 1621.2 1119.3 1546.3 1178.8  594.3\n",
      " 2034.2   97.3 1987.3 1932.7 1372.  1918.  1550.5  547.4 1537.9 1478.4\n",
      " 1657.6  148.4 1619.8  687.4 1131.9  490.7  967.4 1532.3 1130.5 1568.\n",
      "  193.9 1152.9   53.2 1544.2  679.7  224.7  658.7  436.8  656.6 1507.8\n",
      "  747.6  458.5   38.5 1226.4 1789.2 1570.1  728.  1701.7  459.2  977.2\n",
      " 1325.8 1741.6 1782.9 2081.1  342.3  641.2  994.7 1946.7 1117.2  420.7\n",
      "  501.9 1983.1  185.5  354.2  830.9 1310.4 1166.2 1835.4  978.6  338.1\n",
      "  631.4  789.6 1946.   849.1  612.5 1256.5 2048.9  175.   343.7 1733.2\n",
      "  902.3 1406.3 1876.7  921.2 2081.8 1306.2 1044.4   45.5  651.  1388.1\n",
      " 1896.3 1471.4  268.8 1430.8  807.1  970.2  493.5  286.3  767.9 1281.7\n",
      "  690.9 1510.6 1961.4  352.8 1752.1 1297.8  723.8 1618.4  233.1  743.4\n",
      " 1722.7 1010.1 2063.6 1222.9 1902.6 1675.1 1068.2  606.9  853.3 1673.\n",
      "   39.9  425.6 1871.1  937.3  361.9 1476.3 1350.3  653.8   46.9 1076.6\n",
      " 1555.4 1575.7 1099.7 1124.9 1052.8  444.5 1761.9  529.2 1159.9 2049.6\n",
      " 1845.2 1437.8 1480.5 1923.6 1200.5 1558.9 1960.7  886.2 1827.    51.1\n",
      " 1694.7  975.1 1031.1  739.2 1840.3 2076.2 1976.1 2076.9 1645.   392.7\n",
      " 1163.4 1624.7  249.2  232.4  419.3 1007.3 1662.5  578.2  616.   527.8\n",
      " 1267.7  574.  1729.  1711.5 1005.2 1852.9 1404.2 1458.8 1418.2 1549.8\n",
      "  688.1 1699.6  820.4  963.9  844.2 1334.2 1921.5 1247.4  152.6 1234.8\n",
      "  239.4 2094.4  450.1  196.7 1924.3  399.7 1664.6 1726.2 1567.3 1977.5\n",
      " 1854.3  969.5  549.5  319.2  208.6 1593.9 1065.4 1751.4  414.4 1027.6\n",
      " 1539.3  434.  1772.4  591.5 2061.5 1806.   951.3  350.  1519.7  766.5\n",
      "  136.5  680.4  609.7 1257.2  890.4 1145.2 1511.3 2021.6 1366.4 1150.8\n",
      " 2032.8 2079.  1738.1 1972.6  522.9 1956.5 1778.7  331.8  970.9  408.1\n",
      " 1753.5 1079.4  103.6 1891.4  977.9  487.9  569.1  268.1 1341.2 1915.9\n",
      " 1794.1 1063.3 1173.2  723.1 1912.4 1949.5 2072.   418.6  427.7  875.\n",
      " 1544.9 1565.9 1572.2 2028.6 1414.7 2092.3 1631.  1161.3 2066.4 1955.8\n",
      "  529.9  240.8  836.5  101.5  667.1 1066.8 2075.5 1625.4  191.8  541.8\n",
      "  936.6  523.6 1862.   504.7 1551.9  535.5  757.4  368.9 1245.3 1421.7\n",
      "  245.7  526.4  618.8 1559.6 1344.7 2020.2 1521.1 2095.8  958.3 1525.3\n",
      "  375.9  363.3  900.2 1781.5  599.9 1243.9 1498.7  613.9 1864.1 1623.3\n",
      "  201.6 1214.5 1040.2  417.2 1939.   154.  1340.5 2012.5 1453.2 1958.6\n",
      " 1710.1  690.2 1608.6 1646.4   76.3 2064.3 1206.8 1962.8  863.8 1080.1\n",
      "  415.8 2048.2 1927.1]\n"
     ]
    }
   ],
   "source": [
    "print(data['Average Price 2020'].unique())"
   ]
  },
  {
   "cell_type": "code",
   "execution_count": 52,
   "metadata": {},
   "outputs": [
    {
     "data": {
      "text/html": [
       "<div>\n",
       "<style scoped>\n",
       "    .dataframe tbody tr th:only-of-type {\n",
       "        vertical-align: middle;\n",
       "    }\n",
       "\n",
       "    .dataframe tbody tr th {\n",
       "        vertical-align: top;\n",
       "    }\n",
       "\n",
       "    .dataframe thead th {\n",
       "        text-align: right;\n",
       "    }\n",
       "</style>\n",
       "<table border=\"1\" class=\"dataframe\">\n",
       "  <thead>\n",
       "    <tr style=\"text-align: right;\">\n",
       "      <th></th>\n",
       "      <th>Product Name</th>\n",
       "      <th>Category</th>\n",
       "      <th>Brand</th>\n",
       "      <th>Release Year</th>\n",
       "      <th>Average Price 2015</th>\n",
       "      <th>Average Price 2020</th>\n",
       "      <th>Average Price 2025</th>\n",
       "    </tr>\n",
       "  </thead>\n",
       "  <tbody>\n",
       "    <tr>\n",
       "      <th>count</th>\n",
       "      <td>1020</td>\n",
       "      <td>1020</td>\n",
       "      <td>1020</td>\n",
       "      <td>1020.000000</td>\n",
       "      <td>1020.000000</td>\n",
       "      <td>1020.000000</td>\n",
       "      <td>1020.000000</td>\n",
       "    </tr>\n",
       "    <tr>\n",
       "      <th>unique</th>\n",
       "      <td>1017</td>\n",
       "      <td>11</td>\n",
       "      <td>20</td>\n",
       "      <td>NaN</td>\n",
       "      <td>NaN</td>\n",
       "      <td>NaN</td>\n",
       "      <td>NaN</td>\n",
       "    </tr>\n",
       "    <tr>\n",
       "      <th>top</th>\n",
       "      <td>Sony Tablet Model 556</td>\n",
       "      <td>Smartwatch</td>\n",
       "      <td>HP</td>\n",
       "      <td>NaN</td>\n",
       "      <td>NaN</td>\n",
       "      <td>NaN</td>\n",
       "      <td>NaN</td>\n",
       "    </tr>\n",
       "    <tr>\n",
       "      <th>freq</th>\n",
       "      <td>2</td>\n",
       "      <td>114</td>\n",
       "      <td>68</td>\n",
       "      <td>NaN</td>\n",
       "      <td>NaN</td>\n",
       "      <td>NaN</td>\n",
       "      <td>NaN</td>\n",
       "    </tr>\n",
       "    <tr>\n",
       "      <th>mean</th>\n",
       "      <td>NaN</td>\n",
       "      <td>NaN</td>\n",
       "      <td>NaN</td>\n",
       "      <td>2019.387255</td>\n",
       "      <td>1655.964706</td>\n",
       "      <td>1073.937647</td>\n",
       "      <td>780.732843</td>\n",
       "    </tr>\n",
       "    <tr>\n",
       "      <th>std</th>\n",
       "      <td>NaN</td>\n",
       "      <td>NaN</td>\n",
       "      <td>NaN</td>\n",
       "      <td>2.941036</td>\n",
       "      <td>300.563280</td>\n",
       "      <td>476.929958</td>\n",
       "      <td>428.780870</td>\n",
       "    </tr>\n",
       "    <tr>\n",
       "      <th>min</th>\n",
       "      <td>NaN</td>\n",
       "      <td>NaN</td>\n",
       "      <td>NaN</td>\n",
       "      <td>2013.000000</td>\n",
       "      <td>35.000000</td>\n",
       "      <td>38.500000</td>\n",
       "      <td>27.000000</td>\n",
       "    </tr>\n",
       "    <tr>\n",
       "      <th>25%</th>\n",
       "      <td>NaN</td>\n",
       "      <td>NaN</td>\n",
       "      <td>NaN</td>\n",
       "      <td>2017.000000</td>\n",
       "      <td>1666.000000</td>\n",
       "      <td>872.200000</td>\n",
       "      <td>411.875000</td>\n",
       "    </tr>\n",
       "    <tr>\n",
       "      <th>50%</th>\n",
       "      <td>NaN</td>\n",
       "      <td>NaN</td>\n",
       "      <td>NaN</td>\n",
       "      <td>2019.000000</td>\n",
       "      <td>1666.000000</td>\n",
       "      <td>1066.100000</td>\n",
       "      <td>781.500000</td>\n",
       "    </tr>\n",
       "    <tr>\n",
       "      <th>75%</th>\n",
       "      <td>NaN</td>\n",
       "      <td>NaN</td>\n",
       "      <td>NaN</td>\n",
       "      <td>2022.000000</td>\n",
       "      <td>1666.000000</td>\n",
       "      <td>1248.450000</td>\n",
       "      <td>1161.000000</td>\n",
       "    </tr>\n",
       "    <tr>\n",
       "      <th>max</th>\n",
       "      <td>NaN</td>\n",
       "      <td>NaN</td>\n",
       "      <td>NaN</td>\n",
       "      <td>2024.000000</td>\n",
       "      <td>2994.000000</td>\n",
       "      <td>2095.800000</td>\n",
       "      <td>1500.000000</td>\n",
       "    </tr>\n",
       "  </tbody>\n",
       "</table>\n",
       "</div>"
      ],
      "text/plain": [
       "                 Product Name    Category Brand  Release Year  \\\n",
       "count                    1020        1020  1020   1020.000000   \n",
       "unique                   1017          11    20           NaN   \n",
       "top     Sony Tablet Model 556  Smartwatch    HP           NaN   \n",
       "freq                        2         114    68           NaN   \n",
       "mean                      NaN         NaN   NaN   2019.387255   \n",
       "std                       NaN         NaN   NaN      2.941036   \n",
       "min                       NaN         NaN   NaN   2013.000000   \n",
       "25%                       NaN         NaN   NaN   2017.000000   \n",
       "50%                       NaN         NaN   NaN   2019.000000   \n",
       "75%                       NaN         NaN   NaN   2022.000000   \n",
       "max                       NaN         NaN   NaN   2024.000000   \n",
       "\n",
       "        Average Price 2015  Average Price 2020  Average Price 2025  \n",
       "count          1020.000000         1020.000000         1020.000000  \n",
       "unique                 NaN                 NaN                 NaN  \n",
       "top                    NaN                 NaN                 NaN  \n",
       "freq                   NaN                 NaN                 NaN  \n",
       "mean           1655.964706         1073.937647          780.732843  \n",
       "std             300.563280          476.929958          428.780870  \n",
       "min              35.000000           38.500000           27.000000  \n",
       "25%            1666.000000          872.200000          411.875000  \n",
       "50%            1666.000000         1066.100000          781.500000  \n",
       "75%            1666.000000         1248.450000         1161.000000  \n",
       "max            2994.000000         2095.800000         1500.000000  "
      ]
     },
     "execution_count": 52,
     "metadata": {},
     "output_type": "execute_result"
    }
   ],
   "source": [
    "detailed_summary = data.describe(include='all')\n",
    "detailed_summary"
   ]
  },
  {
   "cell_type": "code",
   "execution_count": 53,
   "metadata": {},
   "outputs": [],
   "source": [
    "# Calcul de la corrélation entre les colonnes numériques\n",
    "#data['Average Price 20# Nettoyer la colonne 'Average Price 2020' (si nécessaire) en supprimant des valeurs non numériques\n",
    "data['Average Price 2020'] = data['Average Price 2020'].replace({'\\$': '', ',': '', 'iPhone 6': ''}, regex=True)\n",
    "\n",
    "# Convertir la colonne en numérique, en remplaçant les erreurs par NaN\n",
    "data['Average Price 2020'] = pd.to_numeric(data['Average Price 2020'], errors='coerce')\n",
    "\n",
    "# Remplir les valeurs manquantes avec la médiane\n",
    "data['Average Price 2020'].fillna(data['Average Price 2020'].median(), inplace=True)\n"
   ]
  },
  {
   "cell_type": "code",
   "execution_count": 56,
   "metadata": {},
   "outputs": [
    {
     "ename": "ValueError",
     "evalue": "could not convert string to float: 'iPhone 6'",
     "output_type": "error",
     "traceback": [
      "\u001b[1;31m---------------------------------------------------------------------------\u001b[0m",
      "\u001b[1;31mValueError\u001b[0m                                Traceback (most recent call last)",
      "Cell \u001b[1;32mIn[56], line 1\u001b[0m\n\u001b[1;32m----> 1\u001b[0m correlation_matrix \u001b[38;5;241m=\u001b[39m \u001b[43mdata\u001b[49m\u001b[38;5;241;43m.\u001b[39;49m\u001b[43mcorr\u001b[49m\u001b[43m(\u001b[49m\u001b[43m)\u001b[49m\n\u001b[0;32m      3\u001b[0m \u001b[38;5;66;03m# Affichage de la matrice de corrélation sous forme de heatmap\u001b[39;00m\n\u001b[0;32m      4\u001b[0m plt\u001b[38;5;241m.\u001b[39mfigure(figsize\u001b[38;5;241m=\u001b[39m(\u001b[38;5;241m10\u001b[39m, \u001b[38;5;241m8\u001b[39m))\n",
      "File \u001b[1;32mc:\\Users\\DELL 3510\\AppData\\Local\\Programs\\Python\\Python38\\lib\\site-packages\\pandas\\core\\frame.py:10054\u001b[0m, in \u001b[0;36mDataFrame.corr\u001b[1;34m(self, method, min_periods, numeric_only)\u001b[0m\n\u001b[0;32m  10052\u001b[0m cols \u001b[38;5;241m=\u001b[39m data\u001b[38;5;241m.\u001b[39mcolumns\n\u001b[0;32m  10053\u001b[0m idx \u001b[38;5;241m=\u001b[39m cols\u001b[38;5;241m.\u001b[39mcopy()\n\u001b[1;32m> 10054\u001b[0m mat \u001b[38;5;241m=\u001b[39m \u001b[43mdata\u001b[49m\u001b[38;5;241;43m.\u001b[39;49m\u001b[43mto_numpy\u001b[49m\u001b[43m(\u001b[49m\u001b[43mdtype\u001b[49m\u001b[38;5;241;43m=\u001b[39;49m\u001b[38;5;28;43mfloat\u001b[39;49m\u001b[43m,\u001b[49m\u001b[43m \u001b[49m\u001b[43mna_value\u001b[49m\u001b[38;5;241;43m=\u001b[39;49m\u001b[43mnp\u001b[49m\u001b[38;5;241;43m.\u001b[39;49m\u001b[43mnan\u001b[49m\u001b[43m,\u001b[49m\u001b[43m \u001b[49m\u001b[43mcopy\u001b[49m\u001b[38;5;241;43m=\u001b[39;49m\u001b[38;5;28;43;01mFalse\u001b[39;49;00m\u001b[43m)\u001b[49m\n\u001b[0;32m  10056\u001b[0m \u001b[38;5;28;01mif\u001b[39;00m method \u001b[38;5;241m==\u001b[39m \u001b[38;5;124m\"\u001b[39m\u001b[38;5;124mpearson\u001b[39m\u001b[38;5;124m\"\u001b[39m:\n\u001b[0;32m  10057\u001b[0m     correl \u001b[38;5;241m=\u001b[39m libalgos\u001b[38;5;241m.\u001b[39mnancorr(mat, minp\u001b[38;5;241m=\u001b[39mmin_periods)\n",
      "File \u001b[1;32mc:\\Users\\DELL 3510\\AppData\\Local\\Programs\\Python\\Python38\\lib\\site-packages\\pandas\\core\\frame.py:1838\u001b[0m, in \u001b[0;36mDataFrame.to_numpy\u001b[1;34m(self, dtype, copy, na_value)\u001b[0m\n\u001b[0;32m   1836\u001b[0m \u001b[38;5;28;01mif\u001b[39;00m dtype \u001b[38;5;129;01mis\u001b[39;00m \u001b[38;5;129;01mnot\u001b[39;00m \u001b[38;5;28;01mNone\u001b[39;00m:\n\u001b[0;32m   1837\u001b[0m     dtype \u001b[38;5;241m=\u001b[39m np\u001b[38;5;241m.\u001b[39mdtype(dtype)\n\u001b[1;32m-> 1838\u001b[0m result \u001b[38;5;241m=\u001b[39m \u001b[38;5;28;43mself\u001b[39;49m\u001b[38;5;241;43m.\u001b[39;49m\u001b[43m_mgr\u001b[49m\u001b[38;5;241;43m.\u001b[39;49m\u001b[43mas_array\u001b[49m\u001b[43m(\u001b[49m\u001b[43mdtype\u001b[49m\u001b[38;5;241;43m=\u001b[39;49m\u001b[43mdtype\u001b[49m\u001b[43m,\u001b[49m\u001b[43m \u001b[49m\u001b[43mcopy\u001b[49m\u001b[38;5;241;43m=\u001b[39;49m\u001b[43mcopy\u001b[49m\u001b[43m,\u001b[49m\u001b[43m \u001b[49m\u001b[43mna_value\u001b[49m\u001b[38;5;241;43m=\u001b[39;49m\u001b[43mna_value\u001b[49m\u001b[43m)\u001b[49m\n\u001b[0;32m   1839\u001b[0m \u001b[38;5;28;01mif\u001b[39;00m result\u001b[38;5;241m.\u001b[39mdtype \u001b[38;5;129;01mis\u001b[39;00m \u001b[38;5;129;01mnot\u001b[39;00m dtype:\n\u001b[0;32m   1840\u001b[0m     result \u001b[38;5;241m=\u001b[39m np\u001b[38;5;241m.\u001b[39marray(result, dtype\u001b[38;5;241m=\u001b[39mdtype, copy\u001b[38;5;241m=\u001b[39m\u001b[38;5;28;01mFalse\u001b[39;00m)\n",
      "File \u001b[1;32mc:\\Users\\DELL 3510\\AppData\\Local\\Programs\\Python\\Python38\\lib\\site-packages\\pandas\\core\\internals\\managers.py:1732\u001b[0m, in \u001b[0;36mBlockManager.as_array\u001b[1;34m(self, dtype, copy, na_value)\u001b[0m\n\u001b[0;32m   1730\u001b[0m         arr\u001b[38;5;241m.\u001b[39mflags\u001b[38;5;241m.\u001b[39mwriteable \u001b[38;5;241m=\u001b[39m \u001b[38;5;28;01mFalse\u001b[39;00m\n\u001b[0;32m   1731\u001b[0m \u001b[38;5;28;01melse\u001b[39;00m:\n\u001b[1;32m-> 1732\u001b[0m     arr \u001b[38;5;241m=\u001b[39m \u001b[38;5;28;43mself\u001b[39;49m\u001b[38;5;241;43m.\u001b[39;49m\u001b[43m_interleave\u001b[49m\u001b[43m(\u001b[49m\u001b[43mdtype\u001b[49m\u001b[38;5;241;43m=\u001b[39;49m\u001b[43mdtype\u001b[49m\u001b[43m,\u001b[49m\u001b[43m \u001b[49m\u001b[43mna_value\u001b[49m\u001b[38;5;241;43m=\u001b[39;49m\u001b[43mna_value\u001b[49m\u001b[43m)\u001b[49m\n\u001b[0;32m   1733\u001b[0m     \u001b[38;5;66;03m# The underlying data was copied within _interleave, so no need\u001b[39;00m\n\u001b[0;32m   1734\u001b[0m     \u001b[38;5;66;03m# to further copy if copy=True or setting na_value\u001b[39;00m\n\u001b[0;32m   1736\u001b[0m \u001b[38;5;28;01mif\u001b[39;00m na_value \u001b[38;5;129;01mis\u001b[39;00m \u001b[38;5;129;01mnot\u001b[39;00m lib\u001b[38;5;241m.\u001b[39mno_default:\n",
      "File \u001b[1;32mc:\\Users\\DELL 3510\\AppData\\Local\\Programs\\Python\\Python38\\lib\\site-packages\\pandas\\core\\internals\\managers.py:1794\u001b[0m, in \u001b[0;36mBlockManager._interleave\u001b[1;34m(self, dtype, na_value)\u001b[0m\n\u001b[0;32m   1792\u001b[0m     \u001b[38;5;28;01melse\u001b[39;00m:\n\u001b[0;32m   1793\u001b[0m         arr \u001b[38;5;241m=\u001b[39m blk\u001b[38;5;241m.\u001b[39mget_values(dtype)\n\u001b[1;32m-> 1794\u001b[0m     \u001b[43mresult\u001b[49m\u001b[43m[\u001b[49m\u001b[43mrl\u001b[49m\u001b[38;5;241;43m.\u001b[39;49m\u001b[43mindexer\u001b[49m\u001b[43m]\u001b[49m \u001b[38;5;241m=\u001b[39m arr\n\u001b[0;32m   1795\u001b[0m     itemmask[rl\u001b[38;5;241m.\u001b[39mindexer] \u001b[38;5;241m=\u001b[39m \u001b[38;5;241m1\u001b[39m\n\u001b[0;32m   1797\u001b[0m \u001b[38;5;28;01mif\u001b[39;00m \u001b[38;5;129;01mnot\u001b[39;00m itemmask\u001b[38;5;241m.\u001b[39mall():\n",
      "\u001b[1;31mValueError\u001b[0m: could not convert string to float: 'iPhone 6'"
     ]
    }
   ],
   "source": [
    "\n",
    "correlation_matrix = data.corr()\n",
    "\n",
    "# Affichage de la matrice de corrélation sous forme de heatmap\n",
    "plt.figure(figsize=(10, 8))\n",
    "sns.heatmap(correlation_matrix, annot=True, cmap='coolwarm', fmt='.2f')\n",
    "plt.title('Matrice de Corrélation')\n",
    "plt.show()"
   ]
  },
  {
   "cell_type": "code",
   "execution_count": 58,
   "metadata": {},
   "outputs": [
    {
     "data": {
      "image/png": "[encoded data removed]",
      "text/plain": [
       "<Figure size 1000x600 with 1 Axes>"
      ]
     },
     "metadata": {},
     "output_type": "display_data"
    }
   ],
   "source": [
    "# Groupement des données par année de sortie et calcul de la moyenne des prix\n",
    "price_by_year = data.groupby('Release Year')[['Average Price 2015', 'Average Price 2020', 'Average Price 2025']].mean()\n",
    "\n",
    "# Visualisation des tendances des prix dans le temps\n",
    "price_by_year.plot(figsize=(10, 6), marker='o', linestyle='-')\n",
    "plt.title('Evolution des prix moyens par année')\n",
    "plt.xlabel('Année')\n",
    "plt.ylabel('Prix moyen')\n",
    "plt.legend(title='Prix', labels=['2015', '2020', '2025'])\n",
    "plt.show()"
   ]
  },
  {
   "cell_type": "code",
   "execution_count": null,
   "metadata": {},
   "outputs": [
    {
     "data": {
      "image/png": "[encoded data removed]",
      "text/plain": [
       "<Figure size 1200x600 with 1 Axes>"
      ]
     },
     "metadata": {},
     "output_type": "display_data"
    },
    {
     "data": {
      "image/png": "[encoded data removed]",
      "text/plain": [
       "<Figure size 1200x600 with 1 Axes>"
      ]
     },
     "metadata": {},
     "output_type": "display_data"
    }
   ],
   "source": [
    "# Boxplot des prix par catégorie 2025\n",
    "plt.figure(figsize=(12, 6))\n",
    "sns.boxplot(x='Category', y='Average Price 2025', data=data)\n",
    "plt.xticks(rotation=45)\n",
    "plt.title('Distribution des prix par catégorie en 2025')\n",
    "plt.show()\n",
    "\n",
    "# Boxplot des prix par marque 2025\n",
    "plt.figure(figsize=(12, 6))\n",
    "sns.boxplot(x='Brand', y='Average Price 2025', data=data)\n",
    "plt.xticks(rotation=45)\n",
    "plt.title('Distribution des prix par marque en 2025')\n",
    "plt.show()"
   ]
  },
  {
   "cell_type": "code",
   "execution_count": null,
   "metadata": {},
   "outputs": [
    {
     "data": {
      "application/vnd.plotly.v1+json": {
       "config": {
        "plotlyServerURL": "https://plot.ly"
       },
       "data": [
        {
         "bingroup": "x",
         "hovertemplate": "Average Price 2020=%{x}<br>count=%{y}<extra></extra>",
         "legendgroup": "",
         "marker": {
          "color": "#636efa",
          "pattern": {
           "shape": ""
          }
         },
         "name": "",
         "nbinsx": 20,
         "orientation": "v",
         "showlegend": false,
         "type": "histogram",
         "x": {
          "bdata": "ZmZmZmaokEAAAAAAAPiIQGZmZmZmqJBAAAAAAAA4j0AAAAAAAPiIQAAAAAAAOI9AAAAAAAC8kkBmZmZmZqiQQAAAAAAA+IhAAAAAAADAWEAAAAAAAMBYQAAAAAAAsHJAAAAAAAAwf0BmZmZmZqiQQAAAAAAAYGZAZmZmZmaokEAAAAAAAABJQAAAAAAAsHJAZmZmZmaokEBmZmZmZqiQQDMzMzMzK5RAZmZmZmaokEBmZmZmZqiQQGZmZmZmqJBAZmZmZmaokEBmZmZmZqiQQGZmZmZmqJBAMzMzMzO1mECamZmZmemUQGZmZmZmqJBAAAAAAADQkkBmZmZmZqiQQGZmZmZmqJBAZmZmZmamVEBmZmZmZqiQQM3MzMzMtI1AZmZmZmaokEBmZmZmZqiQQAAAAAAADIJAmpmZmZmbnUBmZmZmZqiQQGZmZmZmNmRAAAAAAADOnUBmZmZmZl54QGZmZmZmLnZAZmZmZmaUlUAAAAAAAJB7QGZmZmZmqJBAMzMzMzNJoECamZmZmZ+cQJmZmZmZKYpAMzMzMzNng0BmZmZmZmZ9QM3MzMzMrG9AmpmZmZl9mkBmZmZmZqiQQM3MzMzMDF1AMzMzMzO7c0AzMzMzM/uIQGZmZmZmqJBAZmZmZmY+gkAAAAAAAGB5QGZmZmZmqJBAAAAAAACClEDNzMzMzOx2QJqZmZmZiZBAZmZmZmaokEBmZmZmZqiQQGZmZmZmkplAZmZmZmaokEBmZmZmZtiSQJqZmZmZy5hAmZmZmZl9g0BmZmZmZqiQQGZmZmZmqJBAzMzMzMzAmkCamZmZmU+bQM3MzMzM+p1AAAAAAADmkEBmZmZmZqiQQM3MzMzMbFpAZmZmZmaokEBmZmZmZqiQQGZmZmZmqJBAAAAAAACgXkBmZmZmZqiQQGZmZmZmjpNAMzMzMzPfj0BmZmZmZu5wQM3MzMzMTGtAAAAAAACQdEBmZmZmZqiQQGZmZmZmqJBAZmZmZmaokEBmZmZmZqiQQMzMzMzMUINAZmZmZmaokEAzMzMzM4uBQDMzMzMzk3ZAzMzMzMxSlkBmZmZmZrZwQMzMzMzMupFAzczMzMzsfUAAAAAAADCOQGZmZmZmqJBAmZmZmZn1iEBmZmZmZqiQQJqZmZmZt51AZmZmZmaokEAAAAAAAIiNQMzMzMzMXppAZmZmZmaokEAAAAAAAKCQQAAAAAAA7JlAZmZmZmaokEBmZmZmZqiQQGZmZmZmqJBAzczMzMwdoEBmZmZmZqiQQGZmZmZmFmVAZmZmZmaokEAAAAAAAByVQM3MzMzMjpxAMzMzMzM3gUAAAAAAAKyUQAAAAAAAxpFAZmZmZmaokEBmZmZmZqiQQAAAAAAAZIhAZmZmZmbMnEAAAAAAAGBSQMzMzMzMrFFAZmZmZmaokEAzMzMzMzeBQGZmZmZmqJBAzczMzMy+nkBmZmZmZqiQQAAAAAAA6INAAAAAAAAAlUDNzMzMzCugQGZmZmZm1JNAZmZmZmaokEBmZmZmZqiQQM3MzMzMJHBAZmZmZmaGlUBmZmZmZqiQQM3MzMzMSJxAZmZmZmaokECamZmZmRlXQJqZmZmZ+ZBAZmZmZmaokECamZmZmblZQGZmZmZmRldAMzMzMzNTn0AzMzMzMyGaQJqZmZmZiZ5AzMzMzMygm0AAAAAAAACFQDMzMzMzc05AZmZmZmYOh0BmZmZmZv6TQAAAAAAASIhAMzMzMzNXh0BmZmZmZqiQQM3MzMzMBJ9AZmZmZmb+g0AAAAAAADSNQDMzMzMzPZpAzMzMzMzMkEBmZmZmZqiQQGZmZmZmqJBAZmZmZmaokEBmZmZmZqiQQJqZmZmZ55FAZmZmZmaokEAAAAAAAKiFQGZmZmZmqJBAZmZmZmaokEBmZmZmZqiQQJqZmZmZU5pAMzMzMzP7n0BmZmZmZqiQQAAAAAAAPIRAZmZmZmb6lEAAAAAAANhwQGZmZmZmqJBAZmZmZmaokEDMzMzMzLiFQJqZmZmZv5tAmpmZmZn1mEBmZmZmZqiQQDMzMzMzc4dAMzMzMzMBlEBmZmZmZqiQQGZmZmZmqJBAZmZmZmaokEAzMzMzM9N7QAAAAAAAYIlAZmZmZmaokEBmZmZmZqiQQGZmZmZmpJhAZmZmZmaokEAAAAAAAByFQGZmZmZmqJBAAAAAAAD+mEAzMzMzMwuVQJqZmZmZ2XFAZmZmZmZkmkBmZmZmZtiSQDMzMzMzQZJAZmZmZmaokEBmZmZmZpaRQGZmZmZmqJBAZmZmZmaokEBmZmZmZoZsQDMzMzMzY4RAZmZmZmaokEBmZmZmZqiQQGZmZmZmqJBAMzMzMzNjm0AzMzMzM7WRQAAAAAAASHhAZmZmZmaokEBmZmZmZqiQQGZmZmZmqJBAMzMzMzO9nUAAAAAAANyGQAAAAAAA7IlAmpmZmZkBjUBmZmZmZqiQQMzMzMzMqIJAzMzMzMxQk0DMzMzMzHaUQGZmZmZmqJBAZmZmZmaKi0BmZmZmZqiQQGZmZmZmqJBAAAAAAABIkUAAAAAAADaSQDMzMzMzl4xAZmZmZmaokEBmZmZmZqiQQAAAAAAACHpAAAAAAADElUAAAAAAAMyDQGZmZmZmqJBAZmZmZmaokEBmZmZmZqiQQDMzMzMzUKBAZmZmZmZGjkBmZmZmZqiQQGZmZmZmzJxAZmZmZmamW0AzMzMzM7+JQJqZmZmZeWtAMzMzMzNjZEDMzMzMzLqRQGZmZmZmXoFAzMzMzMz8iUAzMzMzM7uTQGZmZmZmqJBAzMzMzMyGl0AzMzMzM6efQGZmZmZmqJBAZmZmZmaokEBmZmZmZqiQQJqZmZmZPZVAZmZmZmaokEAAAAAAAOqWQGZmZmZm3ntAZmZmZmaokEBmZmZmZqiQQGZmZmZmxoNAZmZmZmaokECamZmZmbF7QDMzMzMzZZ5AzMzMzMxQk0AAAAAAAAyCQGZmZmZmqJBAzMzMzMycdUBmZmZmZjGgQMzMzMzMvItAZmZmZmaokEBmZmZmZqiQQAAAAAAAZIhAMzMzMzOJnEAAAAAAAACcQGZmZmZmqJBAAAAAAAAQkUAAAAAAABiNQGZmZmZmqpNAMzMzMzPHkEAAAAAAAACMQDMzMzMze4xAZmZmZmYGckAAAAAAAABVQDMzMzMzg2pAZmZmZmaokEDMzMzMzHCJQGZmZmZmqJBAZmZmZmaokEBmZmZmZqiQQAAAAAAAMH5AMzMzMzOLcUDMzMzMzKSDQM3MzMzMup9AAAAAAADAdkBmZmZmZqiQQDMzMzMzs4VAAAAAAABAU0BmZmZmZqiQQAAAAAAA8JFAmpmZmZmpnUAzMzMzMzNJQGZmZmZmqJBAZmZmZmaokEBmZmZmZqiQQJqZmZmZxZZAZmZmZmaokEDNzMzMzIKfQGZmZmZmqJBAZmZmZmaokEBmZmZmZqiQQAAAAAAAgptAZmZmZmYmcUBmZmZmZqiQQGZmZmZmpJ9AZmZmZmaSiUBmZmZmZqiQQMzMzMzM7JZAZmZmZmaokEBmZmZmZqiQQGZmZmZmqJBAZmZmZmaokEBmZmZmZpScQGZmZmZmqJBAzMzMzMz4g0BmZmZmZqiQQJqZmZmZ+XBAZmZmZmaokECamZmZmXGNQGZmZmZmqJBAZmZmZmaokEBmZmZmZqiQQGZmZmZmqJBAZmZmZmaokEDNzMzMzMx3QGZmZmZmjopAZmZmZmaokEBmZmZmZqiQQGZmZmZmqJBAZmZmZmaokEBmZmZmZqiQQGZmZmZmqJBAAAAAAAAQn0BmZmZmZqiQQMzMzMzMpJpAMzMzMzNTb0AAAAAAACKgQGZmZmZmqJBAzMzMzMxMhEBmZmZmZqiQQGZmZmZmqJBAzMzMzMyWk0CZmZmZmSmDQGZmZmZmqJBAZmZmZmaokECamZmZmRWfQGZmZmZmqJBAZmZmZmaokEAzMzMzM+WTQJqZmZmZuXJAMzMzMzPLdkBmZmZmZqiQQGZmZmZmqJBAmpmZmZlRoEBmZmZmZqiQQJqZmZmZUXBAzczMzMxgnUBmZmZmZs5xQMzMzMzMGINAZmZmZmbcn0AzMzMzMz+NQGZmZmZmqJBAMzMzMzP7iEBmZmZmZqiQQGZmZmZmqJBAZmZmZmbedEDMzMzMzPR0QAAAAAAArIRAZmZmZmaokEBmZmZmZn5wQGZmZmZmtmBAmZmZmZmZikBmZmZmZqiQQMzMzMzMVJlAMzMzMzN9kUAzMzMzMymYQGZmZmZmqJBAZmZmZmaokEAAAAAAAByFQDMzMzMzZZ5AZmZmZmaokEBmZmZmZqiQQDMzMzMza5JAZmZmZmaSgkDNzMzMzMifQGZmZmZmqJBAMzMzMzNTWEBmZmZmZqiQQDMzMzMzDZ9AzczMzMwynkCamZmZmflwQGZmZmZmqJBAAAAAAABwlUBmZmZmZpSVQGZmZmZmqJBAZmZmZmaokEBmZmZmZqiQQAAAAAAA+J1AAAAAAAA6mEAzMzMzMxuBQJqZmZmZB5hAZmZmZmaokECamZmZmRmXQGZmZmZm5plAzMzMzMyMYkAzMzMzM0+ZQDMzMzMze4VAmpmZmZmvkUBmZmZmZqiQQDMzMzMzq35AMzMzMzM7jkBmZmZmZqiQQGZmZmZmqJBAMzMzMzPxl0AAAAAAAKqRQDMzMzMz+4hAAAAAAACAmEDNzMzMzDxoQJqZmZmZA5JAmpmZmZmZSkBmZmZmZqiQQGZmZmZmqJBAzMzMzMwgmEBmZmZmZqiQQJmZmZmZPYVAZmZmZmYWbEBmZmZmZqiQQJmZmZmZlYRAzczMzMxMe0BmZmZmZqiQQMzMzMzMhIRAMzMzMzOPl0DMzMzMzFyHQAAAAAAAqHxAAAAAAABAQ0CamZmZmSmTQGZmZmZmqJBAzMzMzMz0m0BmZmZmZqiQQGZmZmZmqJBAZmZmZmaokEBmZmZmZoiYQGZmZmZmqJBAAAAAAADAhkBmZmZmZqiQQMzMzMzMlppAMzMzMzOzfECamZmZmYmOQGZmZmZmqJBAMzMzMzO3lEBmZmZmZqiQQGZmZmZmNptAmpmZmZnbm0AzMzMzM0KgQGZmZmZmqJBAZmZmZmaokEDMzMzMzGR1QJmZmZmZCYRAmpmZmZkVj0DNzMzMzGqeQJmZmZmZCYRAZmZmZmaokEBmZmZmZqiQQMzMzMzMdJFAMzMzMzNLekBmZmZmZqiQQGZmZmZmXn9AmpmZmZmpnUBmZmZmZqiQQGZmZmZmqJBAZmZmZmaokEBmZmZmZvyeQGZmZmZmqJBAAAAAAAAwZ0BmZmZmZqiQQDMzMzMzI3ZAMzMzMzP3iUCamZmZmXmUQMzMzMzMOJJAZmZmZmaokECamZmZmU+bQDMzMzMzO45AmpmZmZmtnEBmZmZmZqiQQM3MzMzMlI5AmpmZmZkhdUAzMzMzM7uDQGZmZmZmqJBAZmZmZmaokEAAAAAAAHCVQGZmZmZmqJBAzMzMzMysiECamZmZmXmUQGZmZmZmqJBAZmZmZmaokEAAAAAAAGieQGZmZmZmqJBAZmZmZmaokEDMzMzMzIiKQAAAAAAAJINAZmZmZmaokEAAAAAAAKKTQM3MzMzMAaBAAAAAAADgZUBmZmZmZqiQQDMzMzMze3VAZmZmZmaokEBmZmZmZqiQQGZmZmZmqJBAzMzMzMwUm0BmZmZmZjKMQGZmZmZmqJBAMzMzMzP5lUBmZmZmZqiQQM3MzMzMUp1AMzMzMzNCoEBmZmZmZqiQQJqZmZmZyYxAmpmZmZlDoEBmZmZmZqiQQMzMzMzMaJRAmpmZmZlRkEBmZmZmZqiQQGZmZmZmqJBAAAAAAADARkAAAAAAAFiEQGZmZmZmsJVAMzMzMzOhnUCamZmZmf2WQMzMzMzMzHBAmpmZmZm3nUAzMzMzM1uWQMzMzMzMOIlAmpmZmZlRjkBmZmZmZqiQQAAAAAAA2H5AZmZmZmaokEDMzMzMzORxQGZmZmZmqJBAMzMzMzP/h0DMzMzMzAaUQGZmZmZmqJBAMzMzMzOXhUBmZmZmZpqXQJqZmZmZpZ5AZmZmZmaokEBmZmZmZqiQQMzMzMzMDHZAZmZmZmZgm0AzMzMzM0eUQGZmZmZmqJBAZmZmZmaWkUBmZmZmZp6GQJqZmZmZSZlAMzMzMzMjbUBmZmZmZqiQQDMzMzMzO4dAzMzMzMzqmkBmZmZmZqiQQM3MzMzMkI9AMzMzMzMfoEBmZmZmZqiQQGZmZmZmqJBAZmZmZmaokEBmZmZmZqiQQGZmZmZmqJBAzMzMzMz8iUBmZmZmZqiQQGZmZmZmqJBAmpmZmZkbk0BmZmZmZrqdQGZmZmZmqJBAZmZmZmYsmkDNzMzMzLCQQDMzMzMz94JAZmZmZmaokEBmZmZmZqqKQGZmZmZmqopAZmZmZmbcn0AAAAAAACSaQDMzMzMz80NAmpmZmZmZekBmZmZmZjydQGZmZmZmSo1AZmZmZmaedkBmZmZmZqiQQDMzMzMzEZdAMzMzMzMZlUBmZmZmZm6EQDMzMzMzc0dAZmZmZmZeeECamZmZma+RQGZmZmZmqJBAZmZmZmbSkECamZmZmU2YQAAAAAAADIJAZmZmZmaokEBmZmZmZqiQQGZmZmZmqJBAzMzMzMyemEDMzMzMzC6RQJqZmZmZk5FAZmZmZmaokEBmZmZmZqiQQDMzMzMzc5BAAAAAAADIe0CamZmZmYebQGZmZmZmqJBAZmZmZmaokEBmZmZmZqiQQGZmZmZmqJBAmZmZmZmJgEBmZmZmZqiQQGZmZmZmqJBAmpmZmZkfkkAzMzMzMwOgQGZmZmZmqJBAzczMzMzUnEBmZmZmZqiQQDMzMzMzd5ZAZmZmZmaokEAAAAAAACKXQGZmZmZmDp5AZmZmZmaokEAAAAAAAMKSQGZmZmZmqJBAmpmZmZlbmEBmZmZmZqiQQGZmZmZmqJBAmpmZmZlRjkDMzMzMzF6aQGZmZmZmqJBAzczMzMyinkBmZmZmZqiQQJmZmZmZsYtAZmZmZmaokEAAAAAAAIycQM3MzMzMjElAZmZmZmaokEDMzMzMzHqaQM3MzMzMeI5AZmZmZmYckECZmZmZmRmHQGZmZmZmqJBAZmZmZmaokEAzMzMzM8GcQGZmZmZmqJBAZmZmZmY4oEBmZmZmZqiQQGZmZmZm4J5AzczMzMw5oEAAAAAAALSZQGZmZmZmqJBAZmZmZmaokEBmZmZmZqiQQDMzMzMzi3hAZmZmZmaokEBmZmZmZqiQQJqZmZmZLZJAZmZmZmaokEBmZmZmZqiQQGZmZmZmqJBAzMzMzMwgmEDMzMzMzGKZQGZmZmZmqJBAZmZmZmaokEBmZmZmZiZvQM3MzMzMDG1AzczMzMw0ekBmZmZmZnqPQGZmZmZmqJBAzczMzMxqnkBmZmZmZqiQQGZmZmZmqJBAZmZmZmaokEBmZmZmZqiQQAAAAAAA+plAmZmZmZkRgkAAAAAAAECDQGZmZmZmfoBAzMzMzMzOk0AAAAAAAPCBQGZmZmZmqJBAZmZmZmaokEAAAAAAAASbQAAAAAAAvppAmpmZmZlpj0BmZmZmZqiQQGZmZmZmqJBAmpmZmZnznEDMzMzMzPCVQDMzMzMzy5ZAzMzMzMwolkAzMzMzMzeYQGZmZmZmqJBAZmZmZmaokEDMzMzMzICFQGZmZmZmjppAMzMzMzOjiUAzMzMzMx+OQDMzMzMzs3xAZmZmZmaokECZmZmZmWGKQGZmZmZmqJBAzMzMzMzYlEAAAAAAAAaeQJqZmZmZfZNAMzMzMzMTY0AzMzMzM0uTQJqZmZmZfZpAzczMzMzsbUDNzMzMzFygQJqZmZmZIXxAZmZmZmaokEBmZmZmZqiQQGZmZmZmlmhAMzMzMzMRnkAzMzMzM/t4QGZmZmZmqJBAZmZmZmYCmkBmZmZmZqiQQGZmZmZmqJBAZmZmZmaokEAzMzMzM/+HQGZmZmZmqJBAzMzMzMz4mkAzMzMzM3NHQDMzMzMzfZhAAAAAAADAdkBmZmZmZqiQQGZmZmZmqJBAAAAAAADmnkAzMzMzM/mcQAAAAAAATI5AAAAAAAAsgUBmZmZmZqiQQDMzMzMz83NAMzMzMzMTakBmZmZmZqiQQJqZmZmZ55hAZmZmZmaokECamZmZmaWQQJqZmZmZXZtAZmZmZmbmeUBmZmZmZqiQQGZmZmZmDpBAZmZmZmaokEAzMzMzMw2YQAAAAAAAIHtAMzMzMzMjbUCamZmZmbGbQGZmZmZmqJBAAAAAAAB8gkCamZmZmX2aQAAAAAAAG6BAZmZmZmY8nUAAAAAAADicQGZmZmZmuo1AAAAAAADgdUBmZmZmZqiQQMzMzMzMvpdAZmZmZmaokEAAAAAAAPSHQAAAAAAAEGFAMzMzMzNDhUBmZmZmZqiQQJmZmZmZDYNAAAAAAADYcEDMzMzMzKSTQDMzMzMz04tAzMzMzMzkkUBmZmZmZqiQQGZmZmZmPoJAMzMzMzOdl0BmZmZmZpafQJqZmZmZWZVAMzMzMzP7kUBmZmZmZqiQQDMzMzMzw59AAAAAAAA+oEBmZmZmZiibQGZmZmZm0p5AZmZmZmaokEBmZmZmZqiQQGZmZmZmqJBAZmZmZmaokEBmZmZmZqiQQGZmZmZmqJBAMzMzMzNXgEBmZmZmZqiQQGZmZmZmeo9AAAAAAACSnkBmZmZmZqiQQGZmZmZmqJBAzMzMzMzKm0DMzMzMzLx0QGZmZmZmqJBAMzMzMzNXjkCamZmZmYF5QAAAAAAAZptAmpmZmZndkEBmZmZmZqiQQGZmZmZmqJBAZmZmZmaokEBmZmZmZqiQQGZmZmZm5llAmpmZmZmNnUBmZmZmZqiQQMzMzMzMgIVAMzMzMzOPjkBmZmZmZn5+QMzMzMzMyIFAmpmZmZnBcEBmZmZmZqiQQGZmZmZmqJBAzMzMzMz0lECamZmZme+dQGZmZmZmqJBAZmZmZmYInEBmZmZmZqiQQDMzMzMznZBAzMzMzMxUkkDMzMzMzJiGQJqZmZmZ4Z1AAAAAAAB2nkAAAAAAADCgQJqZmZmZKXpAZmZmZmaokEAzMzMzM7t6QJqZmZmZiY5AZmZmZmaokEBmZmZmZqiQQDMzMzMzU1hAAAAAAABYi0BmZmZmZqiQQJqZmZmZI5hAZmZmZmaokECamZmZmXeYQMzMzMzMkJhAZmZmZmayn0BmZmZmZqiQQMzMzMzMGpZAZmZmZmaOk0BmZmZmZqiQQGZmZmZmqJBAZmZmZmaokEBmZmZmZqiQQGZmZmZmqJBAZmZmZmaokECamZmZmVigQGZmZmZmqJBAZmZmZmaokEBmZmZmZqiQQAAAAAAAfJlAZmZmZmaokEBmZmZmZqiQQGZmZmZmqJBAMzMzMzMlkkBmZmZmZqiQQGZmZmZmqJBAZmZmZmaokEBmZmZmZqiQQM3MzMzMJKBAZmZmZmaokEAzMzMzM4NqQGZmZmZmqJBAMzMzMzOPnkAzMzMzM4+AQJqZmZmZGW5AZmZmZmaokEAzMzMzM4mcQAAAAAAAJIpAAAAAAABgWUDMzMzMzNiEQGZmZmZmqJBAZmZmZmaokEAzMzMzM6uQQGZmZmZmqJBAZmZmZmaokEAAAAAAADegQJqZmZmZZZlAmpmZmZn5Z0BmZmZmZqiQQDMzMzMzt5RAZmZmZmbugEDNzMzMzESNQM3MzMzMXIBAZmZmZmaokEAAAAAAABidQDMzMzMzi39AZmZmZmaokEBmZmZmZqiQQJqZmZmZP5hAAAAAAAC8gEDNzMzMzAGgQDMzMzMzq4dAZmZmZmaokEBmZmZmZg53QGZmZmZmqJBAMzMzMzN1k0DMzMzMzDaWQGZmZmZmtm5AMzMzMzNzgEBmZmZmZqiQQGZmZmZmVoNAZmZmZmaokEBmZmZmZqiQQGZmZmZmXphAmpmZmZl5lEBmZmZmZqiQQGZmZmZmJm9AzMzMzMwClUDNzMzMzJCfQGZmZmZmxJdAZmZmZmaokEBmZmZmZqiQQJqZmZmZX6BAZmZmZmaokEBmZmZmZqiQQGZmZmZmqJBAZmZmZmaokEBmZmZmZvKNQGZmZmZmqJBAMzMzMzPVl0BmZmZmZqiQQGZmZmZmqJBAZmZmZmaokEBmZmZmZn53QM3MzMzMtHZAmZmZmZkhjEBmZmZmZqiQQAAAAAAA1ptAZmZmZmaokECamZmZma+RQDMzMzMzv4JAmpmZmZlvk0DMzMzMzGqXQAAAAAAAvppAMzMzMzMvg0BmZmZmZiCdQGZmZmZmqJBAMzMzMzNdmUBmZmZmZqiQQGZmZmZmqJBAZmZmZmaokEAAAAAAAAyCQGZmZmZmqJBAMzMzMzNTn0BmZmZmZqiQQGZmZmZmqJBAMzMzMzMzaUAAAAAAAPqSQM3MzMzMQJBAMzMzMzMTekAAAAAAAEyeQAAAAAAAQGNAZmZmZmaokEBmZmZmZqiQQAAAAAAA8pRAZmZmZmaokEBmZmZmZqiQQGZmZmZmqJBAZmZmZmaokEBmZmZmZqiQQGZmZmZmqJBAZmZmZmaokEAAAAAAAHKfQGZmZmZmqJBAzMzMzMy0lkBmZmZmZpqeQDMzMzMzi39AZmZmZmaokEBmZmZmZriaQGZmZmZmqJBAZmZmZmaokEBmZmZmZqiQQJmZmZmZkYVAZmZmZma4mkBmZmZmZiKZQJqZmZmZuZlAZmZmZmaokEAzMzMzMxNTQJqZmZmZIKBAZmZmZmaokEBmZmZmZqiQQGZmZmZmqJBAMzMzMzPbkkBmZmZmZqiQQGZmZmZmqJBAMzMzMzOrnkBmZmZmZv6KQGZmZmZmqJBAZmZmZmbgkEDNzMzMzPx5QGZmZmZmAKBAZmZmZmaokEBmZmZmZhyeQGZmZmZmqJBA",
          "dtype": "f8"
         },
         "xaxis": "x",
         "yaxis": "y"
        }
       ],
       "layout": {
        "barmode": "relative",
        "legend": {
         "tracegroupgap": 0
        },
        "template": {
         "data": {
          "bar": [
           {
            "error_x": {
             "color": "#2a3f5f"
            },
            "error_y": {
             "color": "#2a3f5f"
            },
            "marker": {
             "line": {
              "color": "#E5ECF6",
              "width": 0.5
             },
             "pattern": {
              "fillmode": "overlay",
              "size": 10,
              "solidity": 0.2
             }
            },
            "type": "bar"
           }
          ],
          "barpolar": [
           {
            "marker": {
             "line": {
              "color": "#E5ECF6",
              "width": 0.5
             },
             "pattern": {
              "fillmode": "overlay",
              "size": 10,
              "solidity": 0.2
             }
            },
            "type": "barpolar"
           }
          ],
          "carpet": [
           {
            "aaxis": {
             "endlinecolor": "#2a3f5f",
             "gridcolor": "white",
             "linecolor": "white",
             "minorgridcolor": "white",
             "startlinecolor": "#2a3f5f"
            },
            "baxis": {
             "endlinecolor": "#2a3f5f",
             "gridcolor": "white",
             "linecolor": "white",
             "minorgridcolor": "white",
             "startlinecolor": "#2a3f5f"
            },
            "type": "carpet"
           }
          ],
          "choropleth": [
           {
            "colorbar": {
             "outlinewidth": 0,
             "ticks": ""
            },
            "type": "choropleth"
           }
          ],
          "contour": [
           {
            "colorbar": {
             "outlinewidth": 0,
             "ticks": ""
            },
            "colorscale": [
             [
              0,
              "#0d0887"
             ],
             [
              0.1111111111111111,
              "#46039f"
             ],
             [
              0.2222222222222222,
              "#7201a8"
             ],
             [
              0.3333333333333333,
              "#9c179e"
             ],
             [
              0.4444444444444444,
              "#bd3786"
             ],
             [
              0.5555555555555556,
              "#d8576b"
             ],
             [
              0.6666666666666666,
              "#ed7953"
             ],
             [
              0.7777777777777778,
              "#fb9f3a"
             ],
             [
              0.8888888888888888,
              "#fdca26"
             ],
             [
              1,
              "#f0f921"
             ]
            ],
            "type": "contour"
           }
          ],
          "contourcarpet": [
           {
            "colorbar": {
             "outlinewidth": 0,
             "ticks": ""
            },
            "type": "contourcarpet"
           }
          ],
          "heatmap": [
           {
            "colorbar": {
             "outlinewidth": 0,
             "ticks": ""
            },
            "colorscale": [
             [
              0,
              "#0d0887"
             ],
             [
              0.1111111111111111,
              "#46039f"
             ],
             [
              0.2222222222222222,
              "#7201a8"
             ],
             [
              0.3333333333333333,
              "#9c179e"
             ],
             [
              0.4444444444444444,
              "#bd3786"
             ],
             [
              0.5555555555555556,
              "#d8576b"
             ],
             [
              0.6666666666666666,
              "#ed7953"
             ],
             [
              0.7777777777777778,
              "#fb9f3a"
             ],
             [
              0.8888888888888888,
              "#fdca26"
             ],
             [
              1,
              "#f0f921"
             ]
            ],
            "type": "heatmap"
           }
          ],
          "histogram": [
           {
            "marker": {
             "pattern": {
              "fillmode": "overlay",
              "size": 10,
              "solidity": 0.2
             }
            },
            "type": "histogram"
           }
          ],
          "histogram2d": [
           {
            "colorbar": {
             "outlinewidth": 0,
             "ticks": ""
            },
            "colorscale": [
             [
              0,
              "#0d0887"
             ],
             [
              0.1111111111111111,
              "#46039f"
             ],
             [
              0.2222222222222222,
              "#7201a8"
             ],
             [
              0.3333333333333333,
              "#9c179e"
             ],
             [
              0.4444444444444444,
              "#bd3786"
             ],
             [
              0.5555555555555556,
              "#d8576b"
             ],
             [
              0.6666666666666666,
              "#ed7953"
             ],
             [
              0.7777777777777778,
              "#fb9f3a"
             ],
             [
              0.8888888888888888,
              "#fdca26"
             ],
             [
              1,
              "#f0f921"
             ]
            ],
            "type": "histogram2d"
           }
          ],
          "histogram2dcontour": [
           {
            "colorbar": {
             "outlinewidth": 0,
             "ticks": ""
            },
            "colorscale": [
             [
              0,
              "#0d0887"
             ],
             [
              0.1111111111111111,
              "#46039f"
             ],
             [
              0.2222222222222222,
              "#7201a8"
             ],
             [
              0.3333333333333333,
              "#9c179e"
             ],
             [
              0.4444444444444444,
              "#bd3786"
             ],
             [
              0.5555555555555556,
              "#d8576b"
             ],
             [
              0.6666666666666666,
              "#ed7953"
             ],
             [
              0.7777777777777778,
              "#fb9f3a"
             ],
             [
              0.8888888888888888,
              "#fdca26"
             ],
             [
              1,
              "#f0f921"
             ]
            ],
            "type": "histogram2dcontour"
           }
          ],
          "mesh3d": [
           {
            "colorbar": {
             "outlinewidth": 0,
             "ticks": ""
            },
            "type": "mesh3d"
           }
          ],
          "parcoords": [
           {
            "line": {
             "colorbar": {
              "outlinewidth": 0,
              "ticks": ""
             }
            },
            "type": "parcoords"
           }
          ],
          "pie": [
           {
            "automargin": true,
            "type": "pie"
           }
          ],
          "scatter": [
           {
            "fillpattern": {
             "fillmode": "overlay",
             "size": 10,
             "solidity": 0.2
            },
            "type": "scatter"
           }
          ],
          "scatter3d": [
           {
            "line": {
             "colorbar": {
              "outlinewidth": 0,
              "ticks": ""
             }
            },
            "marker": {
             "colorbar": {
              "outlinewidth": 0,
              "ticks": ""
             }
            },
            "type": "scatter3d"
           }
          ],
          "scattercarpet": [
           {
            "marker": {
             "colorbar": {
              "outlinewidth": 0,
              "ticks": ""
             }
            },
            "type": "scattercarpet"
           }
          ],
          "scattergeo": [
           {
            "marker": {
             "colorbar": {
              "outlinewidth": 0,
              "ticks": ""
             }
            },
            "type": "scattergeo"
           }
          ],
          "scattergl": [
           {
            "marker": {
             "colorbar": {
              "outlinewidth": 0,
              "ticks": ""
             }
            },
            "type": "scattergl"
           }
          ],
          "scattermap": [
           {
            "marker": {
             "colorbar": {
              "outlinewidth": 0,
              "ticks": ""
             }
            },
            "type": "scattermap"
           }
          ],
          "scattermapbox": [
           {
            "marker": {
             "colorbar": {
              "outlinewidth": 0,
              "ticks": ""
             }
            },
            "type": "scattermapbox"
           }
          ],
          "scatterpolar": [
           {
            "marker": {
             "colorbar": {
              "outlinewidth": 0,
              "ticks": ""
             }
            },
            "type": "scatterpolar"
           }
          ],
          "scatterpolargl": [
           {
            "marker": {
             "colorbar": {
              "outlinewidth": 0,
              "ticks": ""
             }
            },
            "type": "scatterpolargl"
           }
          ],
          "scatterternary": [
           {
            "marker": {
             "colorbar": {
              "outlinewidth": 0,
              "ticks": ""
             }
            },
            "type": "scatterternary"
           }
          ],
          "surface": [
           {
            "colorbar": {
             "outlinewidth": 0,
             "ticks": ""
            },
            "colorscale": [
             [
              0,
              "#0d0887"
             ],
             [
              0.1111111111111111,
              "#46039f"
             ],
             [
              0.2222222222222222,
              "#7201a8"
             ],
             [
              0.3333333333333333,
              "#9c179e"
             ],
             [
              0.4444444444444444,
              "#bd3786"
             ],
             [
              0.5555555555555556,
              "#d8576b"
             ],
             [
              0.6666666666666666,
              "#ed7953"
             ],
             [
              0.7777777777777778,
              "#fb9f3a"
             ],
             [
              0.8888888888888888,
              "#fdca26"
             ],
             [
              1,
              "#f0f921"
             ]
            ],
            "type": "surface"
           }
          ],
          "table": [
           {
            "cells": {
             "fill": {
              "color": "#EBF0F8"
             },
             "line": {
              "color": "white"
             }
            },
            "header": {
             "fill": {
              "color": "#C8D4E3"
             },
             "line": {
              "color": "white"
             }
            },
            "type": "table"
           }
          ]
         },
         "layout": {
          "annotationdefaults": {
           "arrowcolor": "#2a3f5f",
           "arrowhead": 0,
           "arrowwidth": 1
          },
          "autotypenumbers": "strict",
          "coloraxis": {
           "colorbar": {
            "outlinewidth": 0,
            "ticks": ""
           }
          },
          "colorscale": {
           "diverging": [
            [
             0,
             "#8e0152"
            ],
            [
             0.1,
             "#c51b7d"
            ],
            [
             0.2,
             "#de77ae"
            ],
            [
             0.3,
             "#f1b6da"
            ],
            [
             0.4,
             "#fde0ef"
            ],
            [
             0.5,
             "#f7f7f7"
            ],
            [
             0.6,
             "#e6f5d0"
            ],
            [
             0.7,
             "#b8e186"
            ],
            [
             0.8,
             "#7fbc41"
            ],
            [
             0.9,
             "#4d9221"
            ],
            [
             1,
             "#276419"
            ]
           ],
           "sequential": [
            [
             0,
             "#0d0887"
            ],
            [
             0.1111111111111111,
             "#46039f"
            ],
            [
             0.2222222222222222,
             "#7201a8"
            ],
            [
             0.3333333333333333,
             "#9c179e"
            ],
            [
             0.4444444444444444,
             "#bd3786"
            ],
            [
             0.5555555555555556,
             "#d8576b"
            ],
            [
             0.6666666666666666,
             "#ed7953"
            ],
            [
             0.7777777777777778,
             "#fb9f3a"
            ],
            [
             0.8888888888888888,
             "#fdca26"
            ],
            [
             1,
             "#f0f921"
            ]
           ],
           "sequentialminus": [
            [
             0,
             "#0d0887"
            ],
            [
             0.1111111111111111,
             "#46039f"
            ],
            [
             0.2222222222222222,
             "#7201a8"
            ],
            [
             0.3333333333333333,
             "#9c179e"
            ],
            [
             0.4444444444444444,
             "#bd3786"
            ],
            [
             0.5555555555555556,
             "#d8576b"
            ],
            [
             0.6666666666666666,
             "#ed7953"
            ],
            [
             0.7777777777777778,
             "#fb9f3a"
            ],
            [
             0.8888888888888888,
             "#fdca26"
            ],
            [
             1,
             "#f0f921"
            ]
           ]
          },
          "colorway": [
           "#636efa",
           "#EF553B",
           "#00cc96",
           "#ab63fa",
           "#FFA15A",
           "#19d3f3",
           "#FF6692",
           "#B6E880",
           "#FF97FF",
           "#FECB52"
          ],
          "font": {
           "color": "#2a3f5f"
          },
          "geo": {
           "bgcolor": "white",
           "lakecolor": "white",
           "landcolor": "#E5ECF6",
           "showlakes": true,
           "showland": true,
           "subunitcolor": "white"
          },
          "hoverlabel": {
           "align": "left"
          },
          "hovermode": "closest",
          "mapbox": {
           "style": "light"
          },
          "paper_bgcolor": "white",
          "plot_bgcolor": "#E5ECF6",
          "polar": {
           "angularaxis": {
            "gridcolor": "white",
            "linecolor": "white",
            "ticks": ""
           },
           "bgcolor": "#E5ECF6",
           "radialaxis": {
            "gridcolor": "white",
            "linecolor": "white",
            "ticks": ""
           }
          },
          "scene": {
           "xaxis": {
            "backgroundcolor": "#E5ECF6",
            "gridcolor": "white",
            "gridwidth": 2,
            "linecolor": "white",
            "showbackground": true,
            "ticks": "",
            "zerolinecolor": "white"
           },
           "yaxis": {
            "backgroundcolor": "#E5ECF6",
            "gridcolor": "white",
            "gridwidth": 2,
            "linecolor": "white",
            "showbackground": true,
            "ticks": "",
            "zerolinecolor": "white"
           },
           "zaxis": {
            "backgroundcolor": "#E5ECF6",
            "gridcolor": "white",
            "gridwidth": 2,
            "linecolor": "white",
            "showbackground": true,
            "ticks": "",
            "zerolinecolor": "white"
           }
          },
          "shapedefaults": {
           "line": {
            "color": "#2a3f5f"
           }
          },
          "ternary": {
           "aaxis": {
            "gridcolor": "white",
            "linecolor": "white",
            "ticks": ""
           },
           "baxis": {
            "gridcolor": "white",
            "linecolor": "white",
            "ticks": ""
           },
           "bgcolor": "#E5ECF6",
           "caxis": {
            "gridcolor": "white",
            "linecolor": "white",
            "ticks": ""
           }
          },
          "title": {
           "x": 0.05
          },
          "xaxis": {
           "automargin": true,
           "gridcolor": "white",
           "linecolor": "white",
           "ticks": "",
           "title": {
            "standoff": 15
           },
           "zerolinecolor": "white",
           "zerolinewidth": 2
          },
          "yaxis": {
           "automargin": true,
           "gridcolor": "white",
           "linecolor": "white",
           "ticks": "",
           "title": {
            "standoff": 15
           },
           "zerolinecolor": "white",
           "zerolinewidth": 2
          }
         }
        },
        "title": {
         "text": "Répartition des prix moyens en 2020"
        },
        "xaxis": {
         "anchor": "y",
         "domain": [
          0,
          1
         ],
         "title": {
          "text": "Average Price 2020"
         }
        },
        "yaxis": {
         "anchor": "x",
         "domain": [
          0,
          1
         ],
         "title": {
          "text": "count"
         }
        }
       }
      }
     },
     "metadata": {},
     "output_type": "display_data"
    }
   ],
   "source": [
    "#Histogramme des prix moyens en 2020\n",
    "import plotly.express as px\n",
    "\n",
    "fig = px.histogram(data, x='Average Price 2020', nbins=20, title=\"Répartition des prix moyens en 2020\")\n",
    "fig.show()"
   ]
  },
  {
   "cell_type": "code",
   "execution_count": null,
   "metadata": {},
   "outputs": [
    {
     "data": {
      "application/vnd.plotly.v1+json": {
       "config": {
        "plotlyServerURL": "https://plot.ly"
       },
       "data": [
        {
         "alignmentgroup": "True",
         "hovertemplate": "Category=%{x}<br>Average Price 2020=%{y}<extra></extra>",
         "legendgroup": "",
         "marker": {
          "color": "#636efa"
         },
         "name": "",
         "notched": false,
         "offsetgroup": "",
         "orientation": "v",
         "showlegend": false,
         "type": "box",
         "x": [
          "Smartphone",
          "Smartphone",
          "Smartphone",
          "Smartphone",
          "Laptop",
          "Laptop",
          "Laptop",
          "Tablet",
          "Tablet",
          "Smart Speaker",
          "Smart Speaker",
          "Gaming Console",
          "Gaming Console",
          "Fitness Tracker",
          "Fitness Tracker",
          "Streaming Device",
          "Streaming Device",
          "Gaming Console",
          "Smart Ring",
          "Smart Ring",
          "Headphones",
          "Laptop",
          "Smart Speaker",
          "Smartwatch",
          "Headphones",
          "Smart Speaker",
          "Monitor",
          "Smartphone",
          "Smartwatch",
          "Smart Speaker",
          "Smartphone",
          "Smartwatch",
          "Smart Speaker",
          "Gaming Console",
          "Streaming Device",
          "Fitness Tracker",
          "Gaming Console",
          "Headphones",
          "Smartphone",
          "Smart Speaker",
          "Smartwatch",
          "Gaming Console",
          "Gaming Console",
          "Tablet",
          "Fitness Tracker",
          "Laptop",
          "Tablet",
          "Smartphone",
          "Laptop",
          "Headphones",
          "Fitness Tracker",
          "Smart Speaker",
          "Smartwatch",
          "Streaming Device",
          "Streaming Device",
          "Smartwatch",
          "Laptop",
          "Gaming Console",
          "Streaming Device",
          "Gaming Console",
          "Smartwatch",
          "Tablet",
          "Smartwatch",
          "Smart Speaker",
          "Laptop",
          "Streaming Device",
          "Laptop",
          "Smart Speaker",
          "Smartwatch",
          "Gaming Console",
          "Headphones",
          "Smartwatch",
          "Smartwatch",
          "Monitor",
          "Tablet",
          "Streaming Device",
          "Smartwatch",
          "Tablet",
          "Fitness Tracker",
          "Gaming Console",
          "Headphones",
          "Tablet",
          "Laptop",
          "Smartwatch",
          "Tablet",
          "Tablet",
          "Laptop",
          "Smartwatch",
          "Smartphone",
          "Smartphone",
          "Tablet",
          "Headphones",
          "Smartwatch",
          "Smart Speaker",
          "Smartphone",
          "Smart Speaker",
          "Tablet",
          "Gaming Console",
          "Smartwatch",
          "Streaming Device",
          "Tablet",
          "Streaming Device",
          "Streaming Device",
          "Tablet",
          "Fitness Tracker",
          "Headphones",
          "Headphones",
          "Tablet",
          "Laptop",
          "Smartwatch",
          "Streaming Device",
          "Monitor",
          "Gaming Console",
          "Streaming Device",
          "Smartphone",
          "Gaming Console",
          "Tablet",
          "Smartwatch",
          "Tablet",
          "Tablet",
          "Smartwatch",
          "Streaming Device",
          "Gaming Console",
          "Smartwatch",
          "Streaming Device",
          "Gaming Console",
          "Tablet",
          "Smart Speaker",
          "Monitor",
          "Fitness Tracker",
          "Smartphone",
          "Smartwatch",
          "Smartphone",
          "Smartphone",
          "Monitor",
          "Laptop",
          "Gaming Console",
          "Laptop",
          "Headphones",
          "Smart Speaker",
          "Laptop",
          "Laptop",
          "Gaming Console",
          "Monitor",
          "Laptop",
          "Headphones",
          "Gaming Console",
          "Smart Speaker",
          "Headphones",
          "Fitness Tracker",
          "Monitor",
          "Gaming Console",
          "Laptop",
          "Tablet",
          "Monitor",
          "Laptop",
          "Smart Speaker",
          "Gaming Console",
          "Laptop",
          "Laptop",
          "Laptop",
          "Headphones",
          "Smartphone",
          "Monitor",
          "Smart Speaker",
          "Smartphone",
          "Headphones",
          "Monitor",
          "Laptop",
          "Tablet",
          "Smartwatch",
          "Gaming Console",
          "Streaming Device",
          "Smartwatch",
          "Smartphone",
          "Gaming Console",
          "Smartwatch",
          "Fitness Tracker",
          "Fitness Tracker",
          "Smartphone",
          "Smartwatch",
          "Smart Speaker",
          "Laptop",
          "Monitor",
          "Smartphone",
          "Streaming Device",
          "Laptop",
          "Streaming Device",
          "Tablet",
          "Fitness Tracker",
          "Smart Speaker",
          "Headphones",
          "Smartwatch",
          "Fitness Tracker",
          "Laptop",
          "Streaming Device",
          "Laptop",
          "Fitness Tracker",
          "Monitor",
          "Smartwatch",
          "Fitness Tracker",
          "Smartphone",
          "Smart Speaker",
          "Tablet",
          "Smartwatch",
          "Tablet",
          "Laptop",
          "Gaming Console",
          "Smartwatch",
          "Monitor",
          "Tablet",
          "Smartphone",
          "Monitor",
          "Monitor",
          "Gaming Console",
          "Streaming Device",
          "Laptop",
          "Smart Speaker",
          "Monitor",
          "Fitness Tracker",
          "Fitness Tracker",
          "Laptop",
          "Headphones",
          "Smartphone",
          "Tablet",
          "Monitor",
          "Monitor",
          "Smartphone",
          "Streaming Device",
          "Smartphone",
          "Smart Speaker",
          "Tablet",
          "Monitor",
          "Smart Speaker",
          "Tablet",
          "Tablet",
          "Fitness Tracker",
          "Laptop",
          "Smart Speaker",
          "Gaming Console",
          "Headphones",
          "Laptop",
          "Smartwatch",
          "Headphones",
          "Streaming Device",
          "Tablet",
          "Smartphone",
          "Smart Speaker",
          "Tablet",
          "Fitness Tracker",
          "Tablet",
          "Streaming Device",
          "Smartphone",
          "Smartwatch",
          "Tablet",
          "Headphones",
          "Smartwatch",
          "Gaming Console",
          "Smartphone",
          "Smartwatch",
          "Streaming Device",
          "Monitor",
          "Headphones",
          "Streaming Device",
          "Fitness Tracker",
          "Gaming Console",
          "Gaming Console",
          "Headphones",
          "Laptop",
          "Fitness Tracker",
          "Gaming Console",
          "Laptop",
          "Smartwatch",
          "Fitness Tracker",
          "Fitness Tracker",
          "Monitor",
          "Laptop",
          "Gaming Console",
          "Smart Speaker",
          "Laptop",
          "Tablet",
          "Smartphone",
          "Smartwatch",
          "Monitor",
          "Streaming Device",
          "Laptop",
          "Tablet",
          "Headphones",
          "Streaming Device",
          "Streaming Device",
          "Smartphone",
          "Smartphone",
          "Laptop",
          "Fitness Tracker",
          "Monitor",
          "Smartphone",
          "Smartwatch",
          "Smart Speaker",
          "Tablet",
          "Headphones",
          "Streaming Device",
          "Smart Speaker",
          "Laptop",
          "Monitor",
          "Smartwatch",
          "Streaming Device",
          "Gaming Console",
          "Tablet",
          "Fitness Tracker",
          "Gaming Console",
          "Monitor",
          "Gaming Console",
          "Tablet",
          "Smartwatch",
          "Laptop",
          "Smart Speaker",
          "Smartwatch",
          "Fitness Tracker",
          "Smartphone",
          "Smartwatch",
          "Streaming Device",
          "Headphones",
          "Smartphone",
          "Smart Speaker",
          "Headphones",
          "Smart Speaker",
          "Smartwatch",
          "Smart Speaker",
          "Fitness Tracker",
          "Smartphone",
          "Headphones",
          "Fitness Tracker",
          "Headphones",
          "Gaming Console",
          "Fitness Tracker",
          "Fitness Tracker",
          "Tablet",
          "Gaming Console",
          "Laptop",
          "Smartwatch",
          "Smart Speaker",
          "Tablet",
          "Smartphone",
          "Monitor",
          "Laptop",
          "Laptop",
          "Fitness Tracker",
          "Smartwatch",
          "Tablet",
          "Monitor",
          "Smartwatch",
          "Smart Speaker",
          "Monitor",
          "Laptop",
          "Tablet",
          "Smart Speaker",
          "Fitness Tracker",
          "Tablet",
          "Smartphone",
          "Smart Speaker",
          "Smartwatch",
          "Smart Speaker",
          "Headphones",
          "Laptop",
          "Headphones",
          "Monitor",
          "Streaming Device",
          "Fitness Tracker",
          "Headphones",
          "Fitness Tracker",
          "Smartphone",
          "Streaming Device",
          "Laptop",
          "Smartwatch",
          "Tablet",
          "Fitness Tracker",
          "Tablet",
          "Laptop",
          "Streaming Device",
          "Gaming Console",
          "Gaming Console",
          "Laptop",
          "Gaming Console",
          "Headphones",
          "Monitor",
          "Monitor",
          "Streaming Device",
          "Monitor",
          "Fitness Tracker",
          "Smart Speaker",
          "Tablet",
          "Headphones",
          "Streaming Device",
          "Monitor",
          "Laptop",
          "Fitness Tracker",
          "Smartphone",
          "Tablet",
          "Smartphone",
          "Tablet",
          "Streaming Device",
          "Headphones",
          "Smartwatch",
          "Fitness Tracker",
          "Streaming Device",
          "Monitor",
          "Headphones",
          "Monitor",
          "Tablet",
          "Monitor",
          "Smartwatch",
          "Smartwatch",
          "Monitor",
          "Gaming Console",
          "Fitness Tracker",
          "Streaming Device",
          "Monitor",
          "Tablet",
          "Monitor",
          "Fitness Tracker",
          "Smartphone",
          "Laptop",
          "Fitness Tracker",
          "Streaming Device",
          "Fitness Tracker",
          "Smartphone",
          "Tablet",
          "Headphones",
          "Smartwatch",
          "Fitness Tracker",
          "Tablet",
          "Monitor",
          "Smartwatch",
          "Smart Speaker",
          "Smartphone",
          "Smart Speaker",
          "Smart Speaker",
          "Fitness Tracker",
          "Laptop",
          "Streaming Device",
          "Fitness Tracker",
          "Streaming Device",
          "Tablet",
          "Tablet",
          "Streaming Device",
          "Smartwatch",
          "Smartwatch",
          "Smart Speaker",
          "Fitness Tracker",
          "Streaming Device",
          "Monitor",
          "Smart Speaker",
          "Fitness Tracker",
          "Tablet",
          "Gaming Console",
          "Tablet",
          "Streaming Device",
          "Streaming Device",
          "Gaming Console",
          "Smartphone",
          "Headphones",
          "Headphones",
          "Smartwatch",
          "Laptop",
          "Monitor",
          "Smartwatch",
          "Tablet",
          "Smartphone",
          "Streaming Device",
          "Monitor",
          "Monitor",
          "Tablet",
          "Laptop",
          "Streaming Device",
          "Fitness Tracker",
          "Monitor",
          "Smart Speaker",
          "Smart Speaker",
          "Monitor",
          "Headphones",
          "Laptop",
          "Gaming Console",
          "Laptop",
          "Gaming Console",
          "Gaming Console",
          "Streaming Device",
          "Monitor",
          "Fitness Tracker",
          "Tablet",
          "Fitness Tracker",
          "Smartphone",
          "Fitness Tracker",
          "Headphones",
          "Laptop",
          "Streaming Device",
          "Smart Speaker",
          "Tablet",
          "Laptop",
          "Tablet",
          "Headphones",
          "Gaming Console",
          "Smartphone",
          "Headphones",
          "Headphones",
          "Streaming Device",
          "Streaming Device",
          "Streaming Device",
          "Tablet",
          "Smartwatch",
          "Smartphone",
          "Laptop",
          "Smartwatch",
          "Laptop",
          "Laptop",
          "Fitness Tracker",
          "Fitness Tracker",
          "Fitness Tracker",
          "Laptop",
          "Laptop",
          "Streaming Device",
          "Smart Speaker",
          "Tablet",
          "Laptop",
          "Gaming Console",
          "Headphones",
          "Smartphone",
          "Smartwatch",
          "Streaming Device",
          "Tablet",
          "Smartphone",
          "Smart Speaker",
          "Smartphone",
          "Headphones",
          "Headphones",
          "Monitor",
          "Laptop",
          "Smartphone",
          "Tablet",
          "Monitor",
          "Smartphone",
          "Smartwatch",
          "Smartphone",
          "Smartwatch",
          "Fitness Tracker",
          "Streaming Device",
          "Fitness Tracker",
          "Gaming Console",
          "Smartphone",
          "Laptop",
          "Smartwatch",
          "Monitor",
          "Smartwatch",
          "Gaming Console",
          "Fitness Tracker",
          "Laptop",
          "Gaming Console",
          "Laptop",
          "Headphones",
          "Tablet",
          "Fitness Tracker",
          "Headphones",
          "Tablet",
          "Streaming Device",
          "Laptop",
          "Headphones",
          "Fitness Tracker",
          "Fitness Tracker",
          "Laptop",
          "Headphones",
          "Streaming Device",
          "Gaming Console",
          "Headphones",
          "Smartwatch",
          "Gaming Console",
          "Smartphone",
          "Fitness Tracker",
          "Laptop",
          "Smartwatch",
          "Fitness Tracker",
          "Streaming Device",
          "Streaming Device",
          "Tablet",
          "Gaming Console",
          "Headphones",
          "Fitness Tracker",
          "Smart Speaker",
          "Tablet",
          "Monitor",
          "Streaming Device",
          "Headphones",
          "Monitor",
          "Laptop",
          "Tablet",
          "Smartphone",
          "Gaming Console",
          "Gaming Console",
          "Headphones",
          "Headphones",
          "Tablet",
          "Smartphone",
          "Tablet",
          "Monitor",
          "Smart Speaker",
          "Monitor",
          "Smartphone",
          "Monitor",
          "Laptop",
          "Smartphone",
          "Streaming Device",
          "Tablet",
          "Smart Speaker",
          "Tablet",
          "Laptop",
          "Smartwatch",
          "Streaming Device",
          "Tablet",
          "Tablet",
          "Monitor",
          "Streaming Device",
          "Monitor",
          "Smartwatch",
          "Smartwatch",
          "Tablet",
          "Smart Speaker",
          "Headphones",
          "Smartwatch",
          "Streaming Device",
          "Tablet",
          "Headphones",
          "Smartwatch",
          "Smartphone",
          "Laptop",
          "Smartphone",
          "Smartphone",
          "Tablet",
          "Smartphone",
          "Streaming Device",
          "Streaming Device",
          "Headphones",
          "Headphones",
          "Monitor",
          "Laptop",
          "Gaming Console",
          "Fitness Tracker",
          "Monitor",
          "Tablet",
          "Smartwatch",
          "Smart Speaker",
          "Monitor",
          "Headphones",
          "Monitor",
          "Headphones",
          "Smartphone",
          "Fitness Tracker",
          "Gaming Console",
          "Laptop",
          "Monitor",
          "Headphones",
          "Gaming Console",
          "Smart Speaker",
          "Smart Speaker",
          "Streaming Device",
          "Smartphone",
          "Fitness Tracker",
          "Streaming Device",
          "Smart Speaker",
          "Gaming Console",
          "Monitor",
          "Gaming Console",
          "Smartwatch",
          "Tablet",
          "Smartphone",
          "Fitness Tracker",
          "Fitness Tracker",
          "Monitor",
          "Tablet",
          "Smartphone",
          "Smartwatch",
          "Smartwatch",
          "Tablet",
          "Smart Speaker",
          "Tablet",
          "Smartwatch",
          "Laptop",
          "Streaming Device",
          "Headphones",
          "Smartphone",
          "Tablet",
          "Tablet",
          "Smart Speaker",
          "Gaming Console",
          "Laptop",
          "Smartwatch",
          "Fitness Tracker",
          "Smartwatch",
          "Smartphone",
          "Smartwatch",
          "Gaming Console",
          "Fitness Tracker",
          "Tablet",
          "Smart Speaker",
          "Gaming Console",
          "Smartphone",
          "Smartwatch",
          "Headphones",
          "Smart Speaker",
          "Laptop",
          "Tablet",
          "Smart Speaker",
          "Smartwatch",
          "Smartphone",
          "Smart Speaker",
          "Tablet",
          "Smartwatch",
          "Fitness Tracker",
          "Gaming Console",
          "Monitor",
          "Laptop",
          "Laptop",
          "Smartphone",
          "Tablet",
          "Fitness Tracker",
          "Monitor",
          "Laptop",
          "Smartwatch",
          "Smart Speaker",
          "Smartphone",
          "Tablet",
          "Monitor",
          "Streaming Device",
          "Laptop",
          "Smartwatch",
          "Laptop",
          "Smartwatch",
          "Headphones",
          "Tablet",
          "Tablet",
          "Fitness Tracker",
          "Streaming Device",
          "Smartphone",
          "Smartwatch",
          "Smartphone",
          "Monitor",
          "Laptop",
          "Streaming Device",
          "Smartwatch",
          "Smart Speaker",
          "Gaming Console",
          "Smartphone",
          "Smart Speaker",
          "Smartphone",
          "Smartphone",
          "Headphones",
          "Gaming Console",
          "Smartphone",
          "Smart Speaker",
          "Smart Speaker",
          "Gaming Console",
          "Laptop",
          "Smart Speaker",
          "Laptop",
          "Headphones",
          "Laptop",
          "Smartphone",
          "Smart Speaker",
          "Laptop",
          "Streaming Device",
          "Smartphone",
          "Smartwatch",
          "Monitor",
          "Laptop",
          "Smart Speaker",
          "Smartwatch",
          "Headphones",
          "Streaming Device",
          "Gaming Console",
          "Laptop",
          "Smart Speaker",
          "Smartphone",
          "Smartwatch",
          "Smartphone",
          "Smart Speaker",
          "Smart Speaker",
          "Fitness Tracker",
          "Tablet",
          "Streaming Device",
          "Monitor",
          "Laptop",
          "Monitor",
          "Headphones",
          "Headphones",
          "Gaming Console",
          "Laptop",
          "Smartwatch",
          "Fitness Tracker",
          "Smartwatch",
          "Headphones",
          "Gaming Console",
          "Gaming Console",
          "Smartwatch",
          "Tablet",
          "Laptop",
          "Gaming Console",
          "Monitor",
          "Smart Speaker",
          "Headphones",
          "Smartphone",
          "Fitness Tracker",
          "Smart Speaker",
          "Tablet",
          "Laptop",
          "Tablet",
          "Headphones",
          "Streaming Device",
          "Headphones",
          "Tablet",
          "Tablet",
          "Fitness Tracker",
          "Smart Speaker",
          "Smart Speaker",
          "Gaming Console",
          "Smartphone",
          "Laptop",
          "Streaming Device",
          "Fitness Tracker",
          "Laptop",
          "Monitor",
          "Smart Speaker",
          "Headphones",
          "Smartphone",
          "Smartphone",
          "Monitor",
          "Smartwatch",
          "Smartwatch",
          "Gaming Console",
          "Smartwatch",
          "Tablet",
          "Streaming Device",
          "Smart Speaker",
          "Smartwatch",
          "Headphones",
          "Fitness Tracker",
          "Tablet",
          "Gaming Console",
          "Smartphone",
          "Smart Speaker",
          "Gaming Console",
          "Headphones",
          "Monitor",
          "Monitor",
          "Smart Speaker",
          "Smart Speaker",
          "Headphones",
          "Monitor",
          "Streaming Device",
          "Headphones",
          "Fitness Tracker",
          "Laptop",
          "Streaming Device",
          "Streaming Device",
          "Fitness Tracker",
          "Gaming Console",
          "Fitness Tracker",
          "Smart Speaker",
          "Headphones",
          "Smart Speaker",
          "Smartphone",
          "Laptop",
          "Smart Speaker",
          "Gaming Console",
          "Smartwatch",
          "Headphones",
          "Streaming Device",
          "Tablet",
          "Fitness Tracker",
          "Monitor",
          "Smartwatch",
          "Laptop",
          "Laptop",
          "Smart Speaker",
          "Smartphone",
          "Laptop",
          "Tablet",
          "Smartphone",
          "Streaming Device",
          "Headphones",
          "Smart Speaker",
          "Smartphone",
          "Fitness Tracker",
          "Headphones",
          "Smartwatch",
          "Smartwatch",
          "Monitor",
          "Smartwatch",
          "Smartphone",
          "Smartphone",
          "Monitor",
          "Fitness Tracker",
          "Smart Speaker",
          "Smart Speaker",
          "Smartphone",
          "Fitness Tracker",
          "Smart Speaker",
          "Smartwatch",
          "Headphones",
          "Laptop",
          "Monitor",
          "Headphones",
          "Smartphone",
          "Gaming Console",
          "Monitor",
          "Gaming Console",
          "Gaming Console",
          "Smartphone",
          "Smart Speaker",
          "Streaming Device",
          "Monitor",
          "Smartwatch",
          "Streaming Device",
          "Smartphone",
          "Laptop",
          "Smartwatch",
          "Smartphone",
          "Smart Speaker",
          "Smartphone",
          "Monitor",
          "Smartwatch",
          "Smart Speaker",
          "Laptop",
          "Tablet",
          "Headphones",
          "Monitor",
          "Fitness Tracker",
          "Laptop",
          "Fitness Tracker",
          "Monitor",
          "Monitor",
          "Gaming Console",
          "Smart Speaker",
          "Smartwatch",
          "Headphones",
          "Laptop",
          "Smartphone",
          "Gaming Console",
          "Monitor",
          "Gaming Console",
          "Smart Speaker",
          "Smart Speaker",
          "Gaming Console",
          "Smartwatch",
          "Gaming Console",
          "Smart Speaker",
          "Streaming Device",
          "Streaming Device",
          "Smartphone",
          "Tablet",
          "Laptop",
          "Tablet",
          "Smartwatch",
          "Streaming Device",
          "Smart Speaker",
          "Gaming Console",
          "Streaming Device",
          "Gaming Console",
          "Laptop",
          "Monitor",
          "Monitor",
          "Fitness Tracker",
          "Smartwatch",
          "Gaming Console",
          "Streaming Device",
          "Smartwatch",
          "Smartwatch",
          "Smartphone",
          "Monitor",
          "Tablet",
          "Smartphone",
          "Gaming Console",
          "Laptop",
          "Smartphone",
          "Fitness Tracker",
          "Fitness Tracker",
          "Smartphone",
          "Smart Speaker",
          "Fitness Tracker",
          "Laptop",
          "Smartwatch",
          "Laptop",
          "Monitor",
          "Fitness Tracker",
          "Tablet",
          "Smartphone",
          "Smartwatch",
          "Smartphone",
          "Laptop",
          "Headphones",
          "Smartphone",
          "Gaming Console",
          "Streaming Device",
          "Gaming Console",
          "Smartwatch",
          "Monitor",
          "Smartphone",
          "Monitor",
          "Gaming Console",
          "Headphones",
          "Headphones",
          "Headphones",
          "Headphones",
          "Fitness Tracker",
          "Tablet",
          "Tablet",
          "Fitness Tracker",
          "Monitor",
          "Smartphone",
          "Streaming Device",
          "Fitness Tracker",
          "Smartphone",
          "Smartwatch",
          "Tablet"
         ],
         "x0": " ",
         "xaxis": "x",
         "y": {
          "bdata": "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",
          "dtype": "f8"
         },
         "y0": " ",
         "yaxis": "y"
        }
       ],
       "layout": {
        "boxmode": "group",
        "legend": {
         "tracegroupgap": 0
        },
        "template": {
         "data": {
          "bar": [
           {
            "error_x": {
             "color": "#2a3f5f"
            },
            "error_y": {
             "color": "#2a3f5f"
            },
            "marker": {
             "line": {
              "color": "#E5ECF6",
              "width": 0.5
             },
             "pattern": {
              "fillmode": "overlay",
              "size": 10,
              "solidity": 0.2
             }
            },
            "type": "bar"
           }
          ],
          "barpolar": [
           {
            "marker": {
             "line": {
              "color": "#E5ECF6",
              "width": 0.5
             },
             "pattern": {
              "fillmode": "overlay",
              "size": 10,
              "solidity": 0.2
             }
            },
            "type": "barpolar"
           }
          ],
          "carpet": [
           {
            "aaxis": {
             "endlinecolor": "#2a3f5f",
             "gridcolor": "white",
             "linecolor": "white",
             "minorgridcolor": "white",
             "startlinecolor": "#2a3f5f"
            },
            "baxis": {
             "endlinecolor": "#2a3f5f",
             "gridcolor": "white",
             "linecolor": "white",
             "minorgridcolor": "white",
             "startlinecolor": "#2a3f5f"
            },
            "type": "carpet"
           }
          ],
          "choropleth": [
           {
            "colorbar": {
             "outlinewidth": 0,
             "ticks": ""
            },
            "type": "choropleth"
           }
          ],
          "contour": [
           {
            "colorbar": {
             "outlinewidth": 0,
             "ticks": ""
            },
            "colorscale": [
             [
              0,
              "#0d0887"
             ],
             [
              0.1111111111111111,
              "#46039f"
             ],
             [
              0.2222222222222222,
              "#7201a8"
             ],
             [
              0.3333333333333333,
              "#9c179e"
             ],
             [
              0.4444444444444444,
              "#bd3786"
             ],
             [
              0.5555555555555556,
              "#d8576b"
             ],
             [
              0.6666666666666666,
              "#ed7953"
             ],
             [
              0.7777777777777778,
              "#fb9f3a"
             ],
             [
              0.8888888888888888,
              "#fdca26"
             ],
             [
              1,
              "#f0f921"
             ]
            ],
            "type": "contour"
           }
          ],
          "contourcarpet": [
           {
            "colorbar": {
             "outlinewidth": 0,
             "ticks": ""
            },
            "type": "contourcarpet"
           }
          ],
          "heatmap": [
           {
            "colorbar": {
             "outlinewidth": 0,
             "ticks": ""
            },
            "colorscale": [
             [
              0,
              "#0d0887"
             ],
             [
              0.1111111111111111,
              "#46039f"
             ],
             [
              0.2222222222222222,
              "#7201a8"
             ],
             [
              0.3333333333333333,
              "#9c179e"
             ],
             [
              0.4444444444444444,
              "#bd3786"
             ],
             [
              0.5555555555555556,
              "#d8576b"
             ],
             [
              0.6666666666666666,
              "#ed7953"
             ],
             [
              0.7777777777777778,
              "#fb9f3a"
             ],
             [
              0.8888888888888888,
              "#fdca26"
             ],
             [
              1,
              "#f0f921"
             ]
            ],
            "type": "heatmap"
           }
          ],
          "histogram": [
           {
            "marker": {
             "pattern": {
              "fillmode": "overlay",
              "size": 10,
              "solidity": 0.2
             }
            },
            "type": "histogram"
           }
          ],
          "histogram2d": [
           {
            "colorbar": {
             "outlinewidth": 0,
             "ticks": ""
            },
            "colorscale": [
             [
              0,
              "#0d0887"
             ],
             [
              0.1111111111111111,
              "#46039f"
             ],
             [
              0.2222222222222222,
              "#7201a8"
             ],
             [
              0.3333333333333333,
              "#9c179e"
             ],
             [
              0.4444444444444444,
              "#bd3786"
             ],
             [
              0.5555555555555556,
              "#d8576b"
             ],
             [
              0.6666666666666666,
              "#ed7953"
             ],
             [
              0.7777777777777778,
              "#fb9f3a"
             ],
             [
              0.8888888888888888,
              "#fdca26"
             ],
             [
              1,
              "#f0f921"
             ]
            ],
            "type": "histogram2d"
           }
          ],
          "histogram2dcontour": [
           {
            "colorbar": {
             "outlinewidth": 0,
             "ticks": ""
            },
            "colorscale": [
             [
              0,
              "#0d0887"
             ],
             [
              0.1111111111111111,
              "#46039f"
             ],
             [
              0.2222222222222222,
              "#7201a8"
             ],
             [
              0.3333333333333333,
              "#9c179e"
             ],
             [
              0.4444444444444444,
              "#bd3786"
             ],
             [
              0.5555555555555556,
              "#d8576b"
             ],
             [
              0.6666666666666666,
              "#ed7953"
             ],
             [
              0.7777777777777778,
              "#fb9f3a"
             ],
             [
              0.8888888888888888,
              "#fdca26"
             ],
             [
              1,
              "#f0f921"
             ]
            ],
            "type": "histogram2dcontour"
           }
          ],
          "mesh3d": [
           {
            "colorbar": {
             "outlinewidth": 0,
             "ticks": ""
            },
            "type": "mesh3d"
           }
          ],
          "parcoords": [
           {
            "line": {
             "colorbar": {
              "outlinewidth": 0,
              "ticks": ""
             }
            },
            "type": "parcoords"
           }
          ],
          "pie": [
           {
            "automargin": true,
            "type": "pie"
           }
          ],
          "scatter": [
           {
            "fillpattern": {
             "fillmode": "overlay",
             "size": 10,
             "solidity": 0.2
            },
            "type": "scatter"
           }
          ],
          "scatter3d": [
           {
            "line": {
             "colorbar": {
              "outlinewidth": 0,
              "ticks": ""
             }
            },
            "marker": {
             "colorbar": {
              "outlinewidth": 0,
              "ticks": ""
             }
            },
            "type": "scatter3d"
           }
          ],
          "scattercarpet": [
           {
            "marker": {
             "colorbar": {
              "outlinewidth": 0,
              "ticks": ""
             }
            },
            "type": "scattercarpet"
           }
          ],
          "scattergeo": [
           {
            "marker": {
             "colorbar": {
              "outlinewidth": 0,
              "ticks": ""
             }
            },
            "type": "scattergeo"
           }
          ],
          "scattergl": [
           {
            "marker": {
             "colorbar": {
              "outlinewidth": 0,
              "ticks": ""
             }
            },
            "type": "scattergl"
           }
          ],
          "scattermap": [
           {
            "marker": {
             "colorbar": {
              "outlinewidth": 0,
              "ticks": ""
             }
            },
            "type": "scattermap"
           }
          ],
          "scattermapbox": [
           {
            "marker": {
             "colorbar": {
              "outlinewidth": 0,
              "ticks": ""
             }
            },
            "type": "scattermapbox"
           }
          ],
          "scatterpolar": [
           {
            "marker": {
             "colorbar": {
              "outlinewidth": 0,
              "ticks": ""
             }
            },
            "type": "scatterpolar"
           }
          ],
          "scatterpolargl": [
           {
            "marker": {
             "colorbar": {
              "outlinewidth": 0,
              "ticks": ""
             }
            },
            "type": "scatterpolargl"
           }
          ],
          "scatterternary": [
           {
            "marker": {
             "colorbar": {
              "outlinewidth": 0,
              "ticks": ""
             }
            },
            "type": "scatterternary"
           }
          ],
          "surface": [
           {
            "colorbar": {
             "outlinewidth": 0,
             "ticks": ""
            },
            "colorscale": [
             [
              0,
              "#0d0887"
             ],
             [
              0.1111111111111111,
              "#46039f"
             ],
             [
              0.2222222222222222,
              "#7201a8"
             ],
             [
              0.3333333333333333,
              "#9c179e"
             ],
             [
              0.4444444444444444,
              "#bd3786"
             ],
             [
              0.5555555555555556,
              "#d8576b"
             ],
             [
              0.6666666666666666,
              "#ed7953"
             ],
             [
              0.7777777777777778,
              "#fb9f3a"
             ],
             [
              0.8888888888888888,
              "#fdca26"
             ],
             [
              1,
              "#f0f921"
             ]
            ],
            "type": "surface"
           }
          ],
          "table": [
           {
            "cells": {
             "fill": {
              "color": "#EBF0F8"
             },
             "line": {
              "color": "white"
             }
            },
            "header": {
             "fill": {
              "color": "#C8D4E3"
             },
             "line": {
              "color": "white"
             }
            },
            "type": "table"
           }
          ]
         },
         "layout": {
          "annotationdefaults": {
           "arrowcolor": "#2a3f5f",
           "arrowhead": 0,
           "arrowwidth": 1
          },
          "autotypenumbers": "strict",
          "coloraxis": {
           "colorbar": {
            "outlinewidth": 0,
            "ticks": ""
           }
          },
          "colorscale": {
           "diverging": [
            [
             0,
             "#8e0152"
            ],
            [
             0.1,
             "#c51b7d"
            ],
            [
             0.2,
             "#de77ae"
            ],
            [
             0.3,
             "#f1b6da"
            ],
            [
             0.4,
             "#fde0ef"
            ],
            [
             0.5,
             "#f7f7f7"
            ],
            [
             0.6,
             "#e6f5d0"
            ],
            [
             0.7,
             "#b8e186"
            ],
            [
             0.8,
             "#7fbc41"
            ],
            [
             0.9,
             "#4d9221"
            ],
            [
             1,
             "#276419"
            ]
           ],
           "sequential": [
            [
             0,
             "#0d0887"
            ],
            [
             0.1111111111111111,
             "#46039f"
            ],
            [
             0.2222222222222222,
             "#7201a8"
            ],
            [
             0.3333333333333333,
             "#9c179e"
            ],
            [
             0.4444444444444444,
             "#bd3786"
            ],
            [
             0.5555555555555556,
             "#d8576b"
            ],
            [
             0.6666666666666666,
             "#ed7953"
            ],
            [
             0.7777777777777778,
             "#fb9f3a"
            ],
            [
             0.8888888888888888,
             "#fdca26"
            ],
            [
             1,
             "#f0f921"
            ]
           ],
           "sequentialminus": [
            [
             0,
             "#0d0887"
            ],
            [
             0.1111111111111111,
             "#46039f"
            ],
            [
             0.2222222222222222,
             "#7201a8"
            ],
            [
             0.3333333333333333,
             "#9c179e"
            ],
            [
             0.4444444444444444,
             "#bd3786"
            ],
            [
             0.5555555555555556,
             "#d8576b"
            ],
            [
             0.6666666666666666,
             "#ed7953"
            ],
            [
             0.7777777777777778,
             "#fb9f3a"
            ],
            [
             0.8888888888888888,
             "#fdca26"
            ],
            [
             1,
             "#f0f921"
            ]
           ]
          },
          "colorway": [
           "#636efa",
           "#EF553B",
           "#00cc96",
           "#ab63fa",
           "#FFA15A",
           "#19d3f3",
           "#FF6692",
           "#B6E880",
           "#FF97FF",
           "#FECB52"
          ],
          "font": {
           "color": "#2a3f5f"
          },
          "geo": {
           "bgcolor": "white",
           "lakecolor": "white",
           "landcolor": "#E5ECF6",
           "showlakes": true,
           "showland": true,
           "subunitcolor": "white"
          },
          "hoverlabel": {
           "align": "left"
          },
          "hovermode": "closest",
          "mapbox": {
           "style": "light"
          },
          "paper_bgcolor": "white",
          "plot_bgcolor": "#E5ECF6",
          "polar": {
           "angularaxis": {
            "gridcolor": "white",
            "linecolor": "white",
            "ticks": ""
           },
           "bgcolor": "#E5ECF6",
           "radialaxis": {
            "gridcolor": "white",
            "linecolor": "white",
            "ticks": ""
           }
          },
          "scene": {
           "xaxis": {
            "backgroundcolor": "#E5ECF6",
            "gridcolor": "white",
            "gridwidth": 2,
            "linecolor": "white",
            "showbackground": true,
            "ticks": "",
            "zerolinecolor": "white"
           },
           "yaxis": {
            "backgroundcolor": "#E5ECF6",
            "gridcolor": "white",
            "gridwidth": 2,
            "linecolor": "white",
            "showbackground": true,
            "ticks": "",
            "zerolinecolor": "white"
           },
           "zaxis": {
            "backgroundcolor": "#E5ECF6",
            "gridcolor": "white",
            "gridwidth": 2,
            "linecolor": "white",
            "showbackground": true,
            "ticks": "",
            "zerolinecolor": "white"
           }
          },
          "shapedefaults": {
           "line": {
            "color": "#2a3f5f"
           }
          },
          "ternary": {
           "aaxis": {
            "gridcolor": "white",
            "linecolor": "white",
            "ticks": ""
           },
           "baxis": {
            "gridcolor": "white",
            "linecolor": "white",
            "ticks": ""
           },
           "bgcolor": "#E5ECF6",
           "caxis": {
            "gridcolor": "white",
            "linecolor": "white",
            "ticks": ""
           }
          },
          "title": {
           "x": 0.05
          },
          "xaxis": {
           "automargin": true,
           "gridcolor": "white",
           "linecolor": "white",
           "ticks": "",
           "title": {
            "standoff": 15
           },
           "zerolinecolor": "white",
           "zerolinewidth": 2
          },
          "yaxis": {
           "automargin": true,
           "gridcolor": "white",
           "linecolor": "white",
           "ticks": "",
           "title": {
            "standoff": 15
           },
           "zerolinecolor": "white",
           "zerolinewidth": 2
          }
         }
        },
        "title": {
         "text": "Distribution des prix par catégorie de produit"
        },
        "xaxis": {
         "anchor": "y",
         "domain": [
          0,
          1
         ],
         "title": {
          "text": "Category"
         }
        },
        "yaxis": {
         "anchor": "x",
         "domain": [
          0,
          1
         ],
         "title": {
          "text": "Average Price 2020"
         }
        }
       }
      }
     },
     "metadata": {},
     "output_type": "display_data"
    }
   ],
   "source": [
    "# Boxplot des prix moyens par catégorie\n",
    "fig = px.box(data, x='Category', y='Average Price 2020', title=\"Distribution des prix par catégorie de produit\")\n",
    "fig.show()"
   ]
  },
  {
   "cell_type": "code",
   "execution_count": 63,
   "metadata": {},
   "outputs": [
    {
     "name": "stdout",
     "output_type": "stream",
     "text": [
      "Collecting plotnine\n",
      "  Downloading plotnine-0.12.4-py3-none-any.whl (1.3 MB)\n",
      "Requirement already satisfied: matplotlib>=3.6.0 in c:\\users\\dell 3510\\appdata\\local\\programs\\python\\python38\\lib\\site-packages (from plotnine) (3.7.5)\n",
      "Collecting mizani<0.10.0,>0.9.0\n",
      "  Downloading mizani-0.9.3-py3-none-any.whl (73 kB)\n",
      "Requirement already satisfied: patsy>=0.5.1 in c:\\users\\dell 3510\\appdata\\local\\programs\\python\\python38\\lib\\site-packages (from plotnine) (1.0.1)\n",
      "Requirement already satisfied: scipy>=1.5.0 in c:\\users\\dell 3510\\appdata\\local\\programs\\python\\python38\\lib\\site-packages (from plotnine) (1.10.1)\n",
      "Requirement already satisfied: numpy>=1.23.0 in c:\\users\\dell 3510\\appdata\\local\\programs\\python\\python38\\lib\\site-packages (from plotnine) (1.24.3)\n",
      "Requirement already satisfied: pandas>=1.5.0 in c:\\users\\dell 3510\\appdata\\local\\programs\\python\\python38\\lib\\site-packages (from plotnine) (2.0.3)\n",
      "Requirement already satisfied: statsmodels>=0.14.0 in c:\\users\\dell 3510\\appdata\\local\\programs\\python\\python38\\lib\\site-packages (from plotnine) (0.14.1)\n",
      "Requirement already satisfied: python-dateutil>=2.7 in c:\\users\\dell 3510\\appdata\\roaming\\python\\python38\\site-packages (from matplotlib>=3.6.0->plotnine) (2.9.0.post0)\n",
      "Requirement already satisfied: fonttools>=4.22.0 in c:\\users\\dell 3510\\appdata\\local\\programs\\python\\python38\\lib\\site-packages (from matplotlib>=3.6.0->plotnine) (4.56.0)\n",
      "Requirement already satisfied: pyparsing>=2.3.1 in c:\\users\\dell 3510\\appdata\\local\\programs\\python\\python38\\lib\\site-packages (from matplotlib>=3.6.0->plotnine) (3.1.4)\n",
      "Requirement already satisfied: packaging>=20.0 in c:\\users\\dell 3510\\appdata\\roaming\\python\\python38\\site-packages (from matplotlib>=3.6.0->plotnine) (24.2)\n",
      "Requirement already satisfied: importlib-resources>=3.2.0 in c:\\users\\dell 3510\\appdata\\local\\programs\\python\\python38\\lib\\site-packages (from matplotlib>=3.6.0->plotnine) (6.4.5)\n",
      "Requirement already satisfied: contourpy>=1.0.1 in c:\\users\\dell 3510\\appdata\\local\\programs\\python\\python38\\lib\\site-packages (from matplotlib>=3.6.0->plotnine) (1.1.1)\n",
      "Requirement already satisfied: kiwisolver>=1.0.1 in c:\\users\\dell 3510\\appdata\\local\\programs\\python\\python38\\lib\\site-packages (from matplotlib>=3.6.0->plotnine) (1.4.7)\n",
      "Requirement already satisfied: pillow>=6.2.0 in c:\\users\\dell 3510\\appdata\\local\\programs\\python\\python38\\lib\\site-packages (from matplotlib>=3.6.0->plotnine) (10.4.0)\n",
      "Requirement already satisfied: cycler>=0.10 in c:\\users\\dell 3510\\appdata\\local\\programs\\python\\python38\\lib\\site-packages (from matplotlib>=3.6.0->plotnine) (0.12.1)\n",
      "Requirement already satisfied: zipp>=3.1.0 in c:\\users\\dell 3510\\appdata\\roaming\\python\\python38\\site-packages (from importlib-resources>=3.2.0->matplotlib>=3.6.0->plotnine) (3.20.2)\n",
      "Collecting backports.zoneinfo\n",
      "  Downloading backports.zoneinfo-0.2.1-cp38-cp38-win_amd64.whl (38 kB)\n",
      "Requirement already satisfied: tzdata in c:\\users\\dell 3510\\appdata\\local\\programs\\python\\python38\\lib\\site-packages (from mizani<0.10.0,>0.9.0->plotnine) (2025.1)\n",
      "Requirement already satisfied: pytz>=2020.1 in c:\\users\\dell 3510\\appdata\\local\\programs\\python\\python38\\lib\\site-packages (from pandas>=1.5.0->plotnine) (2025.1)\n",
      "Requirement already satisfied: six>=1.5 in c:\\users\\dell 3510\\appdata\\roaming\\python\\python38\\site-packages (from python-dateutil>=2.7->matplotlib>=3.6.0->plotnine) (1.17.0)\n",
      "Installing collected packages: backports.zoneinfo, mizani, plotnine\n",
      "Successfully installed backports.zoneinfo-0.2.1 mizani-0.9.3 plotnine-0.12.4\n",
      "Note: you may need to restart the kernel to use updated packages.\n"
     ]
    },
    {
     "name": "stderr",
     "output_type": "stream",
     "text": [
      "WARNING: You are using pip version 21.1.1; however, version 25.0.1 is available.\n",
      "You should consider upgrading via the 'c:\\Users\\DELL 3510\\AppData\\Local\\Programs\\Python\\Python38\\python.exe -m pip install --upgrade pip' command.\n"
     ]
    }
   ],
   "source": [
    "pip install plotnine"
   ]
  },
  {
   "cell_type": "code",
   "execution_count": null,
   "metadata": {},
   "outputs": [
    {
     "data": {
      "image/png": "[encoded data removed]",
      "text/plain": [
       "<Figure size 640x480 with 1 Axes>"
      ]
     },
     "metadata": {
      "image/png": {
       "height": 480,
       "width": 640
      }
     },
     "output_type": "display_data"
    },
    {
     "name": "stdout",
     "output_type": "stream",
     "text": [
      "\n"
     ]
    },
    {
     "data": {
      "image/png": "[encoded data removed]",
      "text/plain": [
       "<Figure size 640x480 with 1 Axes>"
      ]
     },
     "metadata": {
      "image/png": {
       "height": 480,
       "width": 640
      }
     },
     "output_type": "display_data"
    },
    {
     "name": "stdout",
     "output_type": "stream",
     "text": [
      "\n"
     ]
    },
    {
     "data": {
      "image/png": "[encoded data removed]",
      "text/plain": [
       "<Figure size 640x480 with 1 Axes>"
      ]
     },
     "metadata": {
      "image/png": {
       "height": 480,
       "width": 640
      }
     },
     "output_type": "display_data"
    },
    {
     "name": "stdout",
     "output_type": "stream",
     "text": [
      "\n"
     ]
    }
   ],
   "source": [
    "\n",
    "from plotnine import ggplot, aes, geom_histogram, geom_boxplot, geom_line, facet_wrap, labs\n",
    "\n",
    "# Histogramme des prix en 2020 avec Plotnine\n",
    "plot1 = (\n",
    "    ggplot(data, aes(x='Average Price 2020')) +\n",
    "    geom_histogram(binwidth=100, fill='blue', alpha=0.7) +\n",
    "    labs(title=\"Répartition des prix moyens en 2020\", x=\"Prix\", y=\"Nombre de produits\")\n",
    ")\n",
    "print(plot1)\n",
    "\n",
    "#Boxplot des prix par catégorie avec Plotnine\n",
    "plot2 = (\n",
    "    ggplot(data, aes(x='Category', y='Average Price 2020')) +\n",
    "    geom_boxplot(fill='red', alpha=0.7) +\n",
    "    labs(title=\"Distribution des prix par catégorie\", x=\"Catégorie\", y=\"Prix moyen en 2020\")\n",
    ")\n",
    "print(plot2)\n",
    "\n",
    "#Évolution des prix moyens au fil du temps avec Plotnine\n",
    "data_melted = data.melt(id_vars=['Release Year'], value_vars=['Average Price 2015', 'Average Price 2020', 'Average Price 2025'], \n",
    "                         var_name='Year', value_name='Price')\n",
    "\n",
    "plot3 = (\n",
    "    ggplot(data_melted, aes(x='Release Year', y='Price', color='Year')) +\n",
    "    geom_line() +\n",
    "    labs(title=\"Évolution des prix moyens\", x=\"Année de sortie\", y=\"Prix moyen\")\n",
    ")\n",
    "print(plot3)\n"
   ]
  },
  {
   "cell_type": "code",
   "execution_count": null,
   "metadata": {},
   "outputs": [
    {
     "name": "stdout",
     "output_type": "stream",
     "text": [
      "Moyenne: 1073.94\n",
      "Médiane: 1066.10\n",
      "Écart-type: 476.70\n",
      "Prix minimum: 38.5\n",
      "Prix maximum: 2095.8\n"
     ]
    }
   ],
   "source": [
    "import numpy as np\n",
    "\n",
    "# Calcul des statistiques pour Average Price 2020\n",
    "mean_price = np.mean(data['Average Price 2020'])\n",
    "median_price = np.median(data['Average Price 2020'])\n",
    "std_dev_price = np.std(data['Average Price 2020'])\n",
    "min_price = np.min(data['Average Price 2020'])\n",
    "max_price = np.max(data['Average Price 2020'])\n",
    "\n",
    "print(f\"Moyenne: {mean_price:.2f}\")\n",
    "print(f\"Médiane: {median_price:.2f}\")\n",
    "print(f\"Écart-type: {std_dev_price:.2f}\")\n",
    "print(f\"Prix minimum: {min_price}\")\n",
    "print(f\"Prix maximum: {max_price}\")\n",
    "#calculer des mesures importantesMoyenne, médiane, écart-type des prixMinimum et maximum pour voir la plage des prix\n"
   ]
  },
  {
   "cell_type": "code",
   "execution_count": null,
   "metadata": {},
   "outputs": [
    {
     "name": "stdout",
     "output_type": "stream",
     "text": [
      "Statistique de Shapiro-Wilk: 0.9280, p-value: 0.0000\n",
      "Les données ne suivent PAS une distribution normale.\n"
     ]
    }
   ],
   "source": [
    "from scipy.stats import shapiro\n",
    "\n",
    "stat, p_value = shapiro(data['Average Price 2020'])\n",
    "print(f\"Statistique de Shapiro-Wilk: {stat:.4f}, p-value: {p_value:.4f}\")\n",
    "\n",
    "if p_value > 0.05:\n",
    "    print(\"Les données suivent une distribution normale.\")\n",
    "else:\n",
    "    print(\"Les données ne suivent PAS une distribution normale.\")\n",
    "#On teste si les prix moyens en 2020 suivent une distribution normale."
   ]
  },
  {
   "cell_type": "code",
   "execution_count": null,
   "metadata": {},
   "outputs": [
    {
     "name": "stdout",
     "output_type": "stream",
     "text": [
      "Statistique de test ANOVA: 0.7945, p-value: 0.6342\n",
      "Aucune différence significative entre les catégories de produits.\n"
     ]
    }
   ],
   "source": [
    "from scipy.stats import f_oneway\n",
    "\n",
    "# Séparer les prix par catégorie\n",
    "categories = data['Category'].unique()\n",
    "price_groups = [data[data['Category'] == cat]['Average Price 2020'] for cat in categories]\n",
    "\n",
    "# Test ANOVA\n",
    "stat, p_value = f_oneway(*price_groups)\n",
    "print(f\"Statistique de test ANOVA: {stat:.4f}, p-value: {p_value:.4f}\")\n",
    "\n",
    "if p_value < 0.05:\n",
    "    print(\"Il existe une différence significative entre les prix des différentes catégories.\")\n",
    "else:\n",
    "    print(\"Aucune différence significative entre les catégories de produits.\")\n",
    "#On utilise ANOVA pour tester si la moyenne des prix varie significativement entre différentes catégories de produits."
   ]
  },
  {
   "cell_type": "code",
   "execution_count": 68,
   "metadata": {},
   "outputs": [
    {
     "name": "stdout",
     "output_type": "stream",
     "text": [
      "Produits populaires: ['Sony Tablet Model 556', 'Apple Laptop Model 289', 'Google Smart Speaker Model 323', 'Fitbit Smartphone Model 387', 'Amazon Smart Speaker Model 758']\n"
     ]
    }
   ],
   "source": [
    "#Trouver les produits les plus vendus\n",
    "popular_products = data['Product Name'].value_counts().head(5).index.tolist()\n",
    "print(\"Produits populaires:\", popular_products)"
   ]
  },
  {
   "cell_type": "code",
   "execution_count": 69,
   "metadata": {},
   "outputs": [
    {
     "data": {
      "application/vnd.plotly.v1+json": {
       "config": {
        "plotlyServerURL": "https://plot.ly"
       },
       "data": [
        {
         "hovertemplate": "Product Name=Google Smart Speaker Model 323<br>Year=%{x}<br>Price=%{y}<extra></extra>",
         "legendgroup": "Google Smart Speaker Model 323",
         "line": {
          "color": "#636efa",
          "dash": "solid"
         },
         "marker": {
          "symbol": "circle"
         },
         "mode": "lines+markers",
         "name": "Google Smart Speaker Model 323",
         "orientation": "v",
         "showlegend": true,
         "type": "scatter",
         "x": {
          "bdata": "3wcAAN8HAADkBwAA5AcAAOkHAADpBwAA",
          "dtype": "i4"
         },
         "xaxis": "x",
         "y": {
          "bdata": "AAAAAAAImkAAAAAAAAiaQDMzMzMzSaBAMzMzMzOTdkAAAAAAAESXQAAAAAAAIHBA",
          "dtype": "f8"
         },
         "yaxis": "y"
        },
        {
         "hovertemplate": "Product Name=Sony Tablet Model 556<br>Year=%{x}<br>Price=%{y}<extra></extra>",
         "legendgroup": "Sony Tablet Model 556",
         "line": {
          "color": "#EF553B",
          "dash": "solid"
         },
         "marker": {
          "symbol": "circle"
         },
         "mode": "lines+markers",
         "name": "Sony Tablet Model 556",
         "orientation": "v",
         "showlegend": true,
         "type": "scatter",
         "x": {
          "bdata": "3wcAAN8HAADkBwAA5AcAAOkHAADpBwAA",
          "dtype": "i4"
         },
         "xaxis": "x",
         "y": {
          "bdata": "AAAAAACqpkAAAAAAAAiaQM3MzMzMup9AZmZmZmY+gkAAAAAAAKqWQAAAAAAAEHpA",
          "dtype": "f8"
         },
         "yaxis": "y"
        },
        {
         "hovertemplate": "Product Name=Apple Laptop Model 289<br>Year=%{x}<br>Price=%{y}<extra></extra>",
         "legendgroup": "Apple Laptop Model 289",
         "line": {
          "color": "#00cc96",
          "dash": "solid"
         },
         "marker": {
          "symbol": "circle"
         },
         "mode": "lines+markers",
         "name": "Apple Laptop Model 289",
         "orientation": "v",
         "showlegend": true,
         "type": "scatter",
         "x": {
          "bdata": "3wcAAN8HAADkBwAA5AcAAOkHAADpBwAA",
          "dtype": "i4"
         },
         "xaxis": "x",
         "y": {
          "bdata": "AAAAAAAImkAAAAAAAAiaQGZmZmZmqJBAZmZmZmaokEAAAAAAAJyIQAAAAAAA4pFA",
          "dtype": "f8"
         },
         "yaxis": "y"
        },
        {
         "hovertemplate": "Product Name=Fitbit Smartphone Model 387<br>Year=%{x}<br>Price=%{y}<extra></extra>",
         "legendgroup": "Fitbit Smartphone Model 387",
         "line": {
          "color": "#ab63fa",
          "dash": "solid"
         },
         "marker": {
          "symbol": "circle"
         },
         "mode": "lines+markers",
         "name": "Fitbit Smartphone Model 387",
         "orientation": "v",
         "showlegend": true,
         "type": "scatter",
         "x": {
          "bdata": "3wcAAOQHAADpBwAA",
          "dtype": "i4"
         },
         "xaxis": "x",
         "y": {
          "bdata": "AAAAAAAOpkBmZmZmZuCeQAAAAAAADpZA",
          "dtype": "f8"
         },
         "yaxis": "y"
        },
        {
         "hovertemplate": "Product Name=Amazon Smart Speaker Model 758<br>Year=%{x}<br>Price=%{y}<extra></extra>",
         "legendgroup": "Amazon Smart Speaker Model 758",
         "line": {
          "color": "#FFA15A",
          "dash": "solid"
         },
         "marker": {
          "symbol": "circle"
         },
         "mode": "lines+markers",
         "name": "Amazon Smart Speaker Model 758",
         "orientation": "v",
         "showlegend": true,
         "type": "scatter",
         "x": {
          "bdata": "3wcAAOQHAADpBwAA",
          "dtype": "i4"
         },
         "xaxis": "x",
         "y": {
          "bdata": "AAAAAAAImkAAAAAAALSZQAAAAAAAXJJA",
          "dtype": "f8"
         },
         "yaxis": "y"
        }
       ],
       "layout": {
        "legend": {
         "title": {
          "text": "Product Name"
         },
         "tracegroupgap": 0
        },
        "template": {
         "data": {
          "bar": [
           {
            "error_x": {
             "color": "#2a3f5f"
            },
            "error_y": {
             "color": "#2a3f5f"
            },
            "marker": {
             "line": {
              "color": "#E5ECF6",
              "width": 0.5
             },
             "pattern": {
              "fillmode": "overlay",
              "size": 10,
              "solidity": 0.2
             }
            },
            "type": "bar"
           }
          ],
          "barpolar": [
           {
            "marker": {
             "line": {
              "color": "#E5ECF6",
              "width": 0.5
             },
             "pattern": {
              "fillmode": "overlay",
              "size": 10,
              "solidity": 0.2
             }
            },
            "type": "barpolar"
           }
          ],
          "carpet": [
           {
            "aaxis": {
             "endlinecolor": "#2a3f5f",
             "gridcolor": "white",
             "linecolor": "white",
             "minorgridcolor": "white",
             "startlinecolor": "#2a3f5f"
            },
            "baxis": {
             "endlinecolor": "#2a3f5f",
             "gridcolor": "white",
             "linecolor": "white",
             "minorgridcolor": "white",
             "startlinecolor": "#2a3f5f"
            },
            "type": "carpet"
           }
          ],
          "choropleth": [
           {
            "colorbar": {
             "outlinewidth": 0,
             "ticks": ""
            },
            "type": "choropleth"
           }
          ],
          "contour": [
           {
            "colorbar": {
             "outlinewidth": 0,
             "ticks": ""
            },
            "colorscale": [
             [
              0,
              "#0d0887"
             ],
             [
              0.1111111111111111,
              "#46039f"
             ],
             [
              0.2222222222222222,
              "#7201a8"
             ],
             [
              0.3333333333333333,
              "#9c179e"
             ],
             [
              0.4444444444444444,
              "#bd3786"
             ],
             [
              0.5555555555555556,
              "#d8576b"
             ],
             [
              0.6666666666666666,
              "#ed7953"
             ],
             [
              0.7777777777777778,
              "#fb9f3a"
             ],
             [
              0.8888888888888888,
              "#fdca26"
             ],
             [
              1,
              "#f0f921"
             ]
            ],
            "type": "contour"
           }
          ],
          "contourcarpet": [
           {
            "colorbar": {
             "outlinewidth": 0,
             "ticks": ""
            },
            "type": "contourcarpet"
           }
          ],
          "heatmap": [
           {
            "colorbar": {
             "outlinewidth": 0,
             "ticks": ""
            },
            "colorscale": [
             [
              0,
              "#0d0887"
             ],
             [
              0.1111111111111111,
              "#46039f"
             ],
             [
              0.2222222222222222,
              "#7201a8"
             ],
             [
              0.3333333333333333,
              "#9c179e"
             ],
             [
              0.4444444444444444,
              "#bd3786"
             ],
             [
              0.5555555555555556,
              "#d8576b"
             ],
             [
              0.6666666666666666,
              "#ed7953"
             ],
             [
              0.7777777777777778,
              "#fb9f3a"
             ],
             [
              0.8888888888888888,
              "#fdca26"
             ],
             [
              1,
              "#f0f921"
             ]
            ],
            "type": "heatmap"
           }
          ],
          "histogram": [
           {
            "marker": {
             "pattern": {
              "fillmode": "overlay",
              "size": 10,
              "solidity": 0.2
             }
            },
            "type": "histogram"
           }
          ],
          "histogram2d": [
           {
            "colorbar": {
             "outlinewidth": 0,
             "ticks": ""
            },
            "colorscale": [
             [
              0,
              "#0d0887"
             ],
             [
              0.1111111111111111,
              "#46039f"
             ],
             [
              0.2222222222222222,
              "#7201a8"
             ],
             [
              0.3333333333333333,
              "#9c179e"
             ],
             [
              0.4444444444444444,
              "#bd3786"
             ],
             [
              0.5555555555555556,
              "#d8576b"
             ],
             [
              0.6666666666666666,
              "#ed7953"
             ],
             [
              0.7777777777777778,
              "#fb9f3a"
             ],
             [
              0.8888888888888888,
              "#fdca26"
             ],
             [
              1,
              "#f0f921"
             ]
            ],
            "type": "histogram2d"
           }
          ],
          "histogram2dcontour": [
           {
            "colorbar": {
             "outlinewidth": 0,
             "ticks": ""
            },
            "colorscale": [
             [
              0,
              "#0d0887"
             ],
             [
              0.1111111111111111,
              "#46039f"
             ],
             [
              0.2222222222222222,
              "#7201a8"
             ],
             [
              0.3333333333333333,
              "#9c179e"
             ],
             [
              0.4444444444444444,
              "#bd3786"
             ],
             [
              0.5555555555555556,
              "#d8576b"
             ],
             [
              0.6666666666666666,
              "#ed7953"
             ],
             [
              0.7777777777777778,
              "#fb9f3a"
             ],
             [
              0.8888888888888888,
              "#fdca26"
             ],
             [
              1,
              "#f0f921"
             ]
            ],
            "type": "histogram2dcontour"
           }
          ],
          "mesh3d": [
           {
            "colorbar": {
             "outlinewidth": 0,
             "ticks": ""
            },
            "type": "mesh3d"
           }
          ],
          "parcoords": [
           {
            "line": {
             "colorbar": {
              "outlinewidth": 0,
              "ticks": ""
             }
            },
            "type": "parcoords"
           }
          ],
          "pie": [
           {
            "automargin": true,
            "type": "pie"
           }
          ],
          "scatter": [
           {
            "fillpattern": {
             "fillmode": "overlay",
             "size": 10,
             "solidity": 0.2
            },
            "type": "scatter"
           }
          ],
          "scatter3d": [
           {
            "line": {
             "colorbar": {
              "outlinewidth": 0,
              "ticks": ""
             }
            },
            "marker": {
             "colorbar": {
              "outlinewidth": 0,
              "ticks": ""
             }
            },
            "type": "scatter3d"
           }
          ],
          "scattercarpet": [
           {
            "marker": {
             "colorbar": {
              "outlinewidth": 0,
              "ticks": ""
             }
            },
            "type": "scattercarpet"
           }
          ],
          "scattergeo": [
           {
            "marker": {
             "colorbar": {
              "outlinewidth": 0,
              "ticks": ""
             }
            },
            "type": "scattergeo"
           }
          ],
          "scattergl": [
           {
            "marker": {
             "colorbar": {
              "outlinewidth": 0,
              "ticks": ""
             }
            },
            "type": "scattergl"
           }
          ],
          "scattermap": [
           {
            "marker": {
             "colorbar": {
              "outlinewidth": 0,
              "ticks": ""
             }
            },
            "type": "scattermap"
           }
          ],
          "scattermapbox": [
           {
            "marker": {
             "colorbar": {
              "outlinewidth": 0,
              "ticks": ""
             }
            },
            "type": "scattermapbox"
           }
          ],
          "scatterpolar": [
           {
            "marker": {
             "colorbar": {
              "outlinewidth": 0,
              "ticks": ""
             }
            },
            "type": "scatterpolar"
           }
          ],
          "scatterpolargl": [
           {
            "marker": {
             "colorbar": {
              "outlinewidth": 0,
              "ticks": ""
             }
            },
            "type": "scatterpolargl"
           }
          ],
          "scatterternary": [
           {
            "marker": {
             "colorbar": {
              "outlinewidth": 0,
              "ticks": ""
             }
            },
            "type": "scatterternary"
           }
          ],
          "surface": [
           {
            "colorbar": {
             "outlinewidth": 0,
             "ticks": ""
            },
            "colorscale": [
             [
              0,
              "#0d0887"
             ],
             [
              0.1111111111111111,
              "#46039f"
             ],
             [
              0.2222222222222222,
              "#7201a8"
             ],
             [
              0.3333333333333333,
              "#9c179e"
             ],
             [
              0.4444444444444444,
              "#bd3786"
             ],
             [
              0.5555555555555556,
              "#d8576b"
             ],
             [
              0.6666666666666666,
              "#ed7953"
             ],
             [
              0.7777777777777778,
              "#fb9f3a"
             ],
             [
              0.8888888888888888,
              "#fdca26"
             ],
             [
              1,
              "#f0f921"
             ]
            ],
            "type": "surface"
           }
          ],
          "table": [
           {
            "cells": {
             "fill": {
              "color": "#EBF0F8"
             },
             "line": {
              "color": "white"
             }
            },
            "header": {
             "fill": {
              "color": "#C8D4E3"
             },
             "line": {
              "color": "white"
             }
            },
            "type": "table"
           }
          ]
         },
         "layout": {
          "annotationdefaults": {
           "arrowcolor": "#2a3f5f",
           "arrowhead": 0,
           "arrowwidth": 1
          },
          "autotypenumbers": "strict",
          "coloraxis": {
           "colorbar": {
            "outlinewidth": 0,
            "ticks": ""
           }
          },
          "colorscale": {
           "diverging": [
            [
             0,
             "#8e0152"
            ],
            [
             0.1,
             "#c51b7d"
            ],
            [
             0.2,
             "#de77ae"
            ],
            [
             0.3,
             "#f1b6da"
            ],
            [
             0.4,
             "#fde0ef"
            ],
            [
             0.5,
             "#f7f7f7"
            ],
            [
             0.6,
             "#e6f5d0"
            ],
            [
             0.7,
             "#b8e186"
            ],
            [
             0.8,
             "#7fbc41"
            ],
            [
             0.9,
             "#4d9221"
            ],
            [
             1,
             "#276419"
            ]
           ],
           "sequential": [
            [
             0,
             "#0d0887"
            ],
            [
             0.1111111111111111,
             "#46039f"
            ],
            [
             0.2222222222222222,
             "#7201a8"
            ],
            [
             0.3333333333333333,
             "#9c179e"
            ],
            [
             0.4444444444444444,
             "#bd3786"
            ],
            [
             0.5555555555555556,
             "#d8576b"
            ],
            [
             0.6666666666666666,
             "#ed7953"
            ],
            [
             0.7777777777777778,
             "#fb9f3a"
            ],
            [
             0.8888888888888888,
             "#fdca26"
            ],
            [
             1,
             "#f0f921"
            ]
           ],
           "sequentialminus": [
            [
             0,
             "#0d0887"
            ],
            [
             0.1111111111111111,
             "#46039f"
            ],
            [
             0.2222222222222222,
             "#7201a8"
            ],
            [
             0.3333333333333333,
             "#9c179e"
            ],
            [
             0.4444444444444444,
             "#bd3786"
            ],
            [
             0.5555555555555556,
             "#d8576b"
            ],
            [
             0.6666666666666666,
             "#ed7953"
            ],
            [
             0.7777777777777778,
             "#fb9f3a"
            ],
            [
             0.8888888888888888,
             "#fdca26"
            ],
            [
             1,
             "#f0f921"
            ]
           ]
          },
          "colorway": [
           "#636efa",
           "#EF553B",
           "#00cc96",
           "#ab63fa",
           "#FFA15A",
           "#19d3f3",
           "#FF6692",
           "#B6E880",
           "#FF97FF",
           "#FECB52"
          ],
          "font": {
           "color": "#2a3f5f"
          },
          "geo": {
           "bgcolor": "white",
           "lakecolor": "white",
           "landcolor": "#E5ECF6",
           "showlakes": true,
           "showland": true,
           "subunitcolor": "white"
          },
          "hoverlabel": {
           "align": "left"
          },
          "hovermode": "closest",
          "mapbox": {
           "style": "light"
          },
          "paper_bgcolor": "white",
          "plot_bgcolor": "#E5ECF6",
          "polar": {
           "angularaxis": {
            "gridcolor": "white",
            "linecolor": "white",
            "ticks": ""
           },
           "bgcolor": "#E5ECF6",
           "radialaxis": {
            "gridcolor": "white",
            "linecolor": "white",
            "ticks": ""
           }
          },
          "scene": {
           "xaxis": {
            "backgroundcolor": "#E5ECF6",
            "gridcolor": "white",
            "gridwidth": 2,
            "linecolor": "white",
            "showbackground": true,
            "ticks": "",
            "zerolinecolor": "white"
           },
           "yaxis": {
            "backgroundcolor": "#E5ECF6",
            "gridcolor": "white",
            "gridwidth": 2,
            "linecolor": "white",
            "showbackground": true,
            "ticks": "",
            "zerolinecolor": "white"
           },
           "zaxis": {
            "backgroundcolor": "#E5ECF6",
            "gridcolor": "white",
            "gridwidth": 2,
            "linecolor": "white",
            "showbackground": true,
            "ticks": "",
            "zerolinecolor": "white"
           }
          },
          "shapedefaults": {
           "line": {
            "color": "#2a3f5f"
           }
          },
          "ternary": {
           "aaxis": {
            "gridcolor": "white",
            "linecolor": "white",
            "ticks": ""
           },
           "baxis": {
            "gridcolor": "white",
            "linecolor": "white",
            "ticks": ""
           },
           "bgcolor": "#E5ECF6",
           "caxis": {
            "gridcolor": "white",
            "linecolor": "white",
            "ticks": ""
           }
          },
          "title": {
           "x": 0.05
          },
          "xaxis": {
           "automargin": true,
           "gridcolor": "white",
           "linecolor": "white",
           "ticks": "",
           "title": {
            "standoff": 15
           },
           "zerolinecolor": "white",
           "zerolinewidth": 2
          },
          "yaxis": {
           "automargin": true,
           "gridcolor": "white",
           "linecolor": "white",
           "ticks": "",
           "title": {
            "standoff": 15
           },
           "zerolinecolor": "white",
           "zerolinewidth": 2
          }
         }
        },
        "title": {
         "text": "Évolution des prix des produits populaires"
        },
        "xaxis": {
         "anchor": "y",
         "domain": [
          0,
          1
         ],
         "title": {
          "text": "Year"
         }
        },
        "yaxis": {
         "anchor": "x",
         "domain": [
          0,
          1
         ],
         "title": {
          "text": "Price"
         }
        }
       }
      }
     },
     "metadata": {},
     "output_type": "display_data"
    }
   ],
   "source": [
    "import plotly.express as px\n",
    "\n",
    "# Filtrer les produits populaires\n",
    "df_popular = data[data['Product Name'].isin(popular_products)]\n",
    "\n",
    "# Transformation des données en format long pour l'affichage\n",
    "df_melted = df_popular.melt(id_vars=['Product Name', 'Release Year'],\n",
    "                            value_vars=['Average Price 2015', 'Average Price 2020', 'Average Price 2025'],\n",
    "                            var_name='Year', value_name='Price')\n",
    "\n",
    "# Remettre les années sous forme d'entiers\n",
    "df_melted['Year'] = df_melted['Year'].str.extract(r'(\\d+)').astype(int)\n",
    "\n",
    "# Tracer l'évolution des prix\n",
    "fig = px.line(df_melted, x='Year', y='Price', color='Product Name', \n",
    "              title=\"Évolution des prix des produits populaires\",\n",
    "              markers=True)\n",
    "fig.show()"
   ]
  }
 ],
 "metadata": {
  "kernelspec": {
   "display_name": "Python 3",
   "language": "python",
   "name": "python3"
  },
  "language_info": {
   "codemirror_mode": {
    "name": "ipython",
    "version": 3
   },
   "file_extension": ".py",
   "mimetype": "text/x-python",
   "name": "python",
   "nbconvert_exporter": "python",
   "pygments_lexer": "ipython3",
   "version": "3.8.10"
  }
 },
 "nbformat": 4,
 "nbformat_minor": 2
}
