{
 "cells": [
  {
   "cell_type": "code",
   "execution_count": 3,
   "metadata": {},
   "outputs": [],
   "source": [
    "#exo1\n",
    "from scipy import stats\n",
    "import numpy as np\n",
    "import pandas as pd\n"
   ]
  },
  {
   "cell_type": "code",
   "execution_count": 4,
   "metadata": {},
   "outputs": [
    {
     "name": "stdout",
     "output_type": "stream",
     "text": [
      "\n",
      "Mean Price: 16.62\n",
      "Median Price: 16.50\n",
      "Variance of Price: 17.12\n",
      "Standard Deviation of Price: 4.14\n",
      "Skewness of Price: 0.07\n",
      "Kurtosis of Price: -1.65\n"
     ]
    }
   ],
   "source": [
    "#exo2\n",
    "data = [12, 15, 13, 12, 18, 20, 22, 21]\n",
    "mean_price = stats.tmean(data)\n",
    "median_price = np.median(data)  # SciPy does not have a direct median function, so we use NumPy\n",
    "variance_price = stats.tvar(data)\n",
    "std_dev_price = stats.tstd(data)\n",
    "skewness_price = stats.skew(data)\n",
    "kurtosis_price = stats.kurtosis(data)\n",
    "\n",
    "print(f\"\\nMean Price: {mean_price:.2f}\")\n",
    "print(f\"Median Price: {median_price:.2f}\")\n",
    "print(f\"Variance of Price: {variance_price:.2f}\")\n",
    "print(f\"Standard Deviation of Price: {std_dev_price:.2f}\")\n",
    "print(f\"Skewness of Price: {skewness_price:.2f}\")\n",
    "print(f\"Kurtosis of Price: {kurtosis_price:.2f}\")"
   ]
  },
  {
   "cell_type": "code",
   "execution_count": 5,
   "metadata": {},
   "outputs": [],
   "source": [
    "import numpy as np\n",
    "import matplotlib.pyplot as plt\n",
    "from scipy.stats import norm"
   ]
  },
  {
   "cell_type": "code",
   "execution_count": null,
   "metadata": {},
   "outputs": [
    {
     "name": "stdout",
     "output_type": "stream",
     "text": [
      "PDF at x=10: 1.3383022576488537e-05\n"
     ]
    }
   ],
   "source": [
    "#exo3 avec une moyenne de 50 et un écart type de 10. Tracer cette distribution.\n",
    "# Gaussian Distribution\n",
    "mu, sigma = 50, 10  # mean and standard deviation\n",
    "gaussian_dist = stats.norm(mu, sigma)\n",
    "print(\"PDF at x=10:\", gaussian_dist.pdf(10))"
   ]
  },
  {
   "cell_type": "code",
   "execution_count": 10,
   "metadata": {},
   "outputs": [
    {
     "name": "stdout",
     "output_type": "stream",
     "text": [
      "T-statistic: -7.687391910982177\n",
      "P-value: 6.861821595941403e-13\n",
      "Il y a une différence significative entre les deux groupes.\n"
     ]
    }
   ],
   "source": [
    "#Exo4\n",
    "data1 = np.random.normal(50, 10, 100)\n",
    "data2 = np.random.normal(60, 10, 100)\n",
    "\n",
    "# complete your code here\n",
    "# Test T de Student pour comparer les moyennes des deux échantillons\n",
    "t_statistic, p_value = stats.ttest_ind(data1, data2, equal_var=False)  # Welch's t-test si variances inégales\n",
    "\n",
    "print(\"T-statistic:\", t_statistic)\n",
    "print(\"P-value:\", p_value)\n",
    "\n",
    "# Interprétation des résultats\n",
    "if p_value < 0.05:\n",
    "    print(\"Il y a une différence significative entre les deux groupes.\")\n",
    "else:\n",
    "    print(\"Aucune différence significative entre les deux groupes.\")"
   ]
  },
  {
   "cell_type": "code",
   "execution_count": 13,
   "metadata": {},
   "outputs": [
    {
     "name": "stdout",
     "output_type": "stream",
     "text": [
      "F-value: 28.52631578947368\n",
      "P-value: 2.7542672098048448e-05\n",
      "Les engrais ont des effets significativement différents sur la croissance des plantes.\n"
     ]
    }
   ],
   "source": [
    "#Exo6\n",
    "# Sample data from three different groups\n",
    "\n",
    "fertilizer_1 =[5, 6, 7, 6, 5]\n",
    "fertilizer_2 =[7, 8, 7, 9, 8]\n",
    "fertilizer_3 =[4, 5, 4, 3, 4]\n",
    "\n",
    "# Performing one-way ANOVA\n",
    "f_value, p_value = stats.f_oneway(fertilizer_1, fertilizer_2, fertilizer_3)\n",
    "print(\"F-value:\", f_value)\n",
    "print(\"P-value:\", p_value)\n",
    "alpha = 0.05  # Seuil de signification (5%)\n",
    "if p_value < alpha:\n",
    "    print(\"Les engrais ont des effets significativement différents sur la croissance des plantes.\")\n",
    "else:\n",
    "    print(\"Aucune différence significative entre les engrais.\")"
   ]
  },
  {
   "cell_type": "code",
   "execution_count": null,
   "metadata": {},
   "outputs": [
    {
     "name": "stdout",
     "output_type": "stream",
     "text": [
      "PMF at 5 successes: 0.24609375\n"
     ]
    }
   ],
   "source": [
    "#exo7\n",
    "# Binomial Distribution\n",
    "n, p = 10, 0.5  # number of trials, probability of each trial\n",
    "binom_dist = stats.binom(n, p)\n",
    "print(\"PMF at 5 successes:\", binom_dist.pmf(5))"
   ]
  },
  {
   "cell_type": "code",
   "execution_count": null,
   "metadata": {},
   "outputs": [
    {
     "name": "stdout",
     "output_type": "stream",
     "text": [
      "Pearson Correlation Coefficient: 1.00\n",
      "Spearman Correlation Coefficient: 1.00\n"
     ]
    }
   ],
   "source": [
    "#exo8\n",
    "from scipy.stats import pearsonr, spearmanr\n",
    "data = pd.DataFrame({'age': [23, 25, 30, 35, 40], 'income': [35000, 40000, 50000, 60000, 70000]})\n",
    "# Calculate Pearson spearmanr Correlation between Monthly Income and Online Purchase Frequency\n",
    "Pearson_corr, _ = pearsonr(data['age'], data['income'])\n",
    "print(f'Pearson Correlation Coefficient: {Pearson_corr:.2f}')\n",
    "\n",
    "Spearman_corr, _ = spearmanr(data['age'], data['income'])\n",
    "print(f'Spearman Correlation Coefficient: {Spearman_corr:.2f}')"
   ]
  }
 ],
 "metadata": {
  "kernelspec": {
   "display_name": "Python 3",
   "language": "python",
   "name": "python3"
  },
  "language_info": {
   "codemirror_mode": {
    "name": "ipython",
    "version": 3
   },
   "file_extension": ".py",
   "mimetype": "text/x-python",
   "name": "python",
   "nbconvert_exporter": "python",
   "pygments_lexer": "ipython3",
   "version": "3.8.10"
  }
 },
 "nbformat": 4,
 "nbformat_minor": 2
}
