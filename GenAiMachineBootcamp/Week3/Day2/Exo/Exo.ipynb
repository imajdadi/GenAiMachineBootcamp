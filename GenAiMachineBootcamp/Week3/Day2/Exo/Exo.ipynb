{
 "cells": [
  {
   "cell_type": "code",
   "execution_count": null,
   "metadata": {},
   "outputs": [
    {
     "name": "stdout",
     "output_type": "stream",
     "text": [
      "Déterminant : 0.0\n",
      "La matrice n'est pas inversible.\n"
     ]
    }
   ],
   "source": [
    "#Exo1\n",
    "import numpy as np\n",
    "\n",
    "\n",
    "# Creating array matrix 3*3\n",
    "array1 = np.array([[0, 1, 2], [3, 4, 5],[6, 7, 8]])\n",
    "#Calculer le determinant \n",
    "determinant = np.linalg.det(array1)\n",
    "print(\"Déterminant :\", determinant)\n",
    "#inverser et verification \n",
    "if np.linalg.det(array1) != 0:\n",
    "    inverse = np.linalg.inv(array1)\n",
    "    print(\"Matrice inverse :\\n\", inverse)\n",
    "else:\n",
    "    print(\"La matrice n'est pas inversible.\")\n",
    "\n"
   ]
  },
  {
   "cell_type": "code",
   "execution_count": 18,
   "metadata": {},
   "outputs": [
    {
     "name": "stdout",
     "output_type": "stream",
     "text": [
      "Moyenne (SciPy) : 0.46925886220216867\n",
      "la mediane (SciPy)  0.4736063551586559\n",
      "Écart type (SciPy) : 0.27398281025924653\n"
     ]
    }
   ],
   "source": [
    "#Exo2\n",
    "from scipy import stats\n",
    "import time \n",
    "import numpy as np\n",
    "from scipy.stats import skew, kurtosis\n",
    "\n",
    "# Creating array de 50 nombres aléatoires\n",
    "stat_array = np.random.rand(50)\n",
    "# Calcul de la moyenne\n",
    "mean_value_scipy = np.mean(stat_array) \n",
    "# Calcul de la mediane\n",
    "median_value_scipy = np.median(stat_array)\n",
    "std_dev_scipy = stats.tstd(stat_array)  # Calcul de l'écart type\n",
    "#afficher\n",
    "print(\"Moyenne (SciPy) :\", mean_value_scipy)\n",
    "print(\"la mediane (SciPy) \", median_value_scipy)\n",
    "print(\"Écart type (SciPy) :\", std_dev_scipy)\n"
   ]
  },
  {
   "cell_type": "code",
   "execution_count": 27,
   "metadata": {},
   "outputs": [
    {
     "name": "stdout",
     "output_type": "stream",
     "text": [
      "January 2020 Dates:\n",
      " ['2023-01-01' '2023-01-02' '2023-01-03' '2023-01-04' '2023-01-05'\n",
      " '2023-01-06' '2023-01-07' '2023-01-08' '2023-01-09' '2023-01-10'\n",
      " '2023-01-11' '2023-01-12' '2023-01-13' '2023-01-14' '2023-01-15'\n",
      " '2023-01-16' '2023-01-17' '2023-01-18' '2023-01-19' '2023-01-20'\n",
      " '2023-01-21' '2023-01-22' '2023-01-23' '2023-01-24' '2023-01-25'\n",
      " '2023-01-26' '2023-01-27' '2023-01-28' '2023-01-29' '2023-01-30'\n",
      " '2023-01-31']\n",
      "['2023/01/01' '2023/01/02' '2023/01/03' '2023/01/04' '2023/01/05'\n",
      " '2023/01/06' '2023/01/07' '2023/01/08' '2023/01/09' '2023/01/10'\n",
      " '2023/01/11' '2023/01/12' '2023/01/13' '2023/01/14' '2023/01/15'\n",
      " '2023/01/16' '2023/01/17' '2023/01/18' '2023/01/19' '2023/01/20'\n",
      " '2023/01/21' '2023/01/22' '2023/01/23' '2023/01/24' '2023/01/25'\n",
      " '2023/01/26' '2023/01/27' '2023/01/28' '2023/01/29' '2023/01/30'\n",
      " '2023/01/31']\n"
     ]
    }
   ],
   "source": [
    "import numpy as np\n",
    "import pandas as pd\n",
    "\n",
    "# Create date range for January 2020\n",
    "dates = np.arange('2023-01-01', '2023-02-01', dtype='datetime64[D]')\n",
    "print(\"January 2020 Dates:\\n\", dates)\n",
    "\n",
    "# Conversion en format spécifique avec Pandas\n",
    "# Converting dates to a different format\n",
    "formatted_dates = np.array(dates, dtype='datetime64[D]').astype(str)\n",
    "formatted_dates = np.char.replace(formatted_dates, '-', '/')\n",
    "print(formatted_dates) "
   ]
  },
  {
   "cell_type": "code",
   "execution_count": 34,
   "metadata": {},
   "outputs": [
    {
     "name": "stdout",
     "output_type": "stream",
     "text": [
      "DataFrame initial:\n",
      "    Column1  Column2  Column3  Column4  Column5  Column6\n",
      "0       79       77        7       16        7       72\n",
      "1       28       50       86       35       65       82\n",
      "2       43       75       34       75       21       36\n",
      "3       32        8       50       16       23       49\n",
      "4       13       91       78        7       43       71\n",
      "5       61       63       80       36        1        5\n",
      "6       87       53       67       24       40       78\n",
      "7       63       14       83        2       73        2\n",
      "8       72       78       84       16       72       37\n",
      "9       46       89       19       40       38       85\n",
      "DataFrame avec des valeurs supérieures à 70 :\n",
      "    Column1  Column2  Column3  Column4  Column5  Column6\n",
      "0     79.0     77.0      NaN      NaN      NaN     72.0\n",
      "1      NaN      NaN     86.0      NaN      NaN     82.0\n",
      "2      NaN     75.0      NaN     75.0      NaN      NaN\n",
      "3      NaN      NaN      NaN      NaN      NaN      NaN\n",
      "4      NaN     91.0     78.0      NaN      NaN     71.0\n",
      "5      NaN      NaN     80.0      NaN      NaN      NaN\n",
      "6     87.0      NaN      NaN      NaN      NaN     78.0\n",
      "7      NaN      NaN     83.0      NaN     73.0      NaN\n",
      "8     72.0     78.0     84.0      NaN     72.0      NaN\n",
      "9      NaN     89.0      NaN      NaN      NaN     85.0\n"
     ]
    }
   ],
   "source": [
    "#Exo4\n",
    "import numpy as np\n",
    "import pandas as pd\n",
    "\n",
    "# Create date range for January 2020\n",
    "array_2d = np.random.randint(1, 100, size=(10, 6))\n",
    "columns = ['Column1', 'Column2', 'Column3', 'Column4', 'Column5','Column6']\n",
    "df = pd.DataFrame(array_2d, columns=columns)\n",
    "print(\"DataFrame initial:\\n\", df)\n",
    "\n",
    "# sélectionner les valeurs supérieures à 70\n",
    "condition = df > 70\n",
    "\n",
    "# Appliquer la condition et afficher le DataFrame filtré\n",
    "filtered_df = df[condition]\n",
    "print(\"DataFrame avec des valeurs supérieures à 70 :\\n\", filtered_df)\n",
    "\n"
   ]
  }
 ],
 "metadata": {
  "kernelspec": {
   "display_name": "Python 3",
   "language": "python",
   "name": "python3"
  },
  "language_info": {
   "codemirror_mode": {
    "name": "ipython",
    "version": 3
   },
   "file_extension": ".py",
   "mimetype": "text/x-python",
   "name": "python",
   "nbconvert_exporter": "python",
   "pygments_lexer": "ipython3",
   "version": "3.8.10"
  }
 },
 "nbformat": 4,
 "nbformat_minor": 2
}
