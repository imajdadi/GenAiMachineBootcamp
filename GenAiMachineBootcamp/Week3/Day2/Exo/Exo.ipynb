{
 "cells": [
  {
   "cell_type": "code",
   "execution_count": null,
   "metadata": {},
   "outputs": [
    {
     "name": "stdout",
     "output_type": "stream",
     "text": [
      "Déterminant : 0.0\n",
      "La matrice n'est pas inversible.\n"
     ]
    }
   ],
   "source": [
    "#Exo1\n",
    "import numpy as np\n",
    "\n",
    "\n",
    "# Creating array matrix 3*3\n",
    "array1 = np.array([[0, 1, 2], [3, 4, 5],[6, 7, 8]])\n",
    "#Calculer le determinant \n",
    "determinant = np.linalg.det(array1)\n",
    "print(\"Déterminant :\", determinant)\n",
    "#inverser et verification \n",
    "if np.linalg.det(array1) != 0:\n",
    "    inverse = np.linalg.inv(array1)\n",
    "    print(\"Matrice inverse :\\n\", inverse)\n",
    "else:\n",
    "    print(\"La matrice n'est pas inversible.\")\n",
    "\n"
   ]
  },
  {
   "cell_type": "code",
   "execution_count": 18,
   "metadata": {},
   "outputs": [
    {
     "name": "stdout",
     "output_type": "stream",
     "text": [
      "Moyenne (SciPy) : 0.46925886220216867\n",
      "la mediane (SciPy)  0.4736063551586559\n",
      "Écart type (SciPy) : 0.27398281025924653\n"
     ]
    }
   ],
   "source": [
    "#Exo2\n",
    "from scipy import stats\n",
    "import time \n",
    "import numpy as np\n",
    "from scipy.stats import skew, kurtosis\n",
    "\n",
    "# Creating array de 50 nombres aléatoires\n",
    "stat_array = np.random.rand(50)\n",
    "# Calcul de la moyenne\n",
    "mean_value_scipy = np.mean(stat_array) \n",
    "# Calcul de la mediane\n",
    "median_value_scipy = np.median(stat_array)\n",
    "std_dev_scipy = stats.tstd(stat_array)  # Calcul de l'écart type\n",
    "#afficher\n",
    "print(\"Moyenne (SciPy) :\", mean_value_scipy)\n",
    "print(\"la mediane (SciPy) \", median_value_scipy)\n",
    "print(\"Écart type (SciPy) :\", std_dev_scipy)\n"
   ]
  },
  {
   "cell_type": "code",
   "execution_count": 27,
   "metadata": {},
   "outputs": [
    {
     "name": "stdout",
     "output_type": "stream",
     "text": [
      "January 2020 Dates:\n",
      " ['2023-01-01' '2023-01-02' '2023-01-03' '2023-01-04' '2023-01-05'\n",
      " '2023-01-06' '2023-01-07' '2023-01-08' '2023-01-09' '2023-01-10'\n",
      " '2023-01-11' '2023-01-12' '2023-01-13' '2023-01-14' '2023-01-15'\n",
      " '2023-01-16' '2023-01-17' '2023-01-18' '2023-01-19' '2023-01-20'\n",
      " '2023-01-21' '2023-01-22' '2023-01-23' '2023-01-24' '2023-01-25'\n",
      " '2023-01-26' '2023-01-27' '2023-01-28' '2023-01-29' '2023-01-30'\n",
      " '2023-01-31']\n",
      "['2023/01/01' '2023/01/02' '2023/01/03' '2023/01/04' '2023/01/05'\n",
      " '2023/01/06' '2023/01/07' '2023/01/08' '2023/01/09' '2023/01/10'\n",
      " '2023/01/11' '2023/01/12' '2023/01/13' '2023/01/14' '2023/01/15'\n",
      " '2023/01/16' '2023/01/17' '2023/01/18' '2023/01/19' '2023/01/20'\n",
      " '2023/01/21' '2023/01/22' '2023/01/23' '2023/01/24' '2023/01/25'\n",
      " '2023/01/26' '2023/01/27' '2023/01/28' '2023/01/29' '2023/01/30'\n",
      " '2023/01/31']\n"
     ]
    }
   ],
   "source": [
    "import numpy as np\n",
    "import pandas as pd\n",
    "\n",
    "# Create date range for January 2020\n",
    "dates = np.arange('2023-01-01', '2023-02-01', dtype='datetime64[D]')\n",
    "print(\"January 2020 Dates:\\n\", dates)\n",
    "\n",
    "# Conversion en format spécifique avec Pandas\n",
    "# Converting dates to a different format\n",
    "formatted_dates = np.array(dates, dtype='datetime64[D]').astype(str)\n",
    "formatted_dates = np.char.replace(formatted_dates, '-', '/')\n",
    "print(formatted_dates) "
   ]
  },
  {
   "cell_type": "code",
   "execution_count": 34,
   "metadata": {},
   "outputs": [
    {
     "name": "stdout",
     "output_type": "stream",
     "text": [
      "DataFrame initial:\n",
      "    Column1  Column2  Column3  Column4  Column5  Column6\n",
      "0       79       77        7       16        7       72\n",
      "1       28       50       86       35       65       82\n",
      "2       43       75       34       75       21       36\n",
      "3       32        8       50       16       23       49\n",
      "4       13       91       78        7       43       71\n",
      "5       61       63       80       36        1        5\n",
      "6       87       53       67       24       40       78\n",
      "7       63       14       83        2       73        2\n",
      "8       72       78       84       16       72       37\n",
      "9       46       89       19       40       38       85\n",
      "DataFrame avec des valeurs supérieures à 70 :\n",
      "    Column1  Column2  Column3  Column4  Column5  Column6\n",
      "0     79.0     77.0      NaN      NaN      NaN     72.0\n",
      "1      NaN      NaN     86.0      NaN      NaN     82.0\n",
      "2      NaN     75.0      NaN     75.0      NaN      NaN\n",
      "3      NaN      NaN      NaN      NaN      NaN      NaN\n",
      "4      NaN     91.0     78.0      NaN      NaN     71.0\n",
      "5      NaN      NaN     80.0      NaN      NaN      NaN\n",
      "6     87.0      NaN      NaN      NaN      NaN     78.0\n",
      "7      NaN      NaN     83.0      NaN     73.0      NaN\n",
      "8     72.0     78.0     84.0      NaN     72.0      NaN\n",
      "9      NaN     89.0      NaN      NaN      NaN     85.0\n"
     ]
    }
   ],
   "source": [
    "#Exo4\n",
    "import numpy as np\n",
    "import pandas as pd\n",
    "\n",
    "# Create date range for January 2020\n",
    "array_2d = np.random.randint(1, 100, size=(10, 6))\n",
    "columns = ['Column1', 'Column2', 'Column3', 'Column4', 'Column5','Column6']\n",
    "df = pd.DataFrame(array_2d, columns=columns)\n",
    "print(\"DataFrame initial:\\n\", df)\n",
    "\n",
    "# sélectionner les valeurs supérieures à 70\n",
    "condition = df > 70\n",
    "\n",
    "# Appliquer la condition et afficher le DataFrame filtré\n",
    "filtered_df = df[condition]\n",
    "print(\"DataFrame avec des valeurs supérieures à 70 :\\n\", filtered_df)\n",
    "\n"
   ]
  },
  {
   "cell_type": "code",
   "execution_count": null,
   "metadata": {},
   "outputs": [
    {
     "data": {
      "image/png": "[encoded data removed]",
      "text/plain": [
       "<Figure size 640x480 with 1 Axes>"
      ]
     },
     "metadata": {},
     "output_type": "display_data"
    }
   ],
   "source": [
    "#Exo5\n",
    "import numpy as np\n",
    "import matplotlib.pyplot as plt\n",
    "#création d'une image en niveaux de gris 5x5\n",
    "image_gray = np.random.randint(0, 256, (5, 5) , dtype=np.uint8)\n",
    "# Affichage de l'image en niveaux de gris\n",
    "plt.imshow(image_gray, cmap='gray', interpolation='nearest')\n",
    "plt.title(\"Image en Niveaux de Gris 5x5\")\n",
    "plt.axis('off')  # Désactive les axes pour une meilleure visibilité\n",
    "plt.show()"
   ]
  },
  {
   "cell_type": "code",
   "execution_count": null,
   "metadata": {},
   "outputs": [
    {
     "name": "stdout",
     "output_type": "stream",
     "text": [
      "Productivité moyenne avant la formation : 51.19\n",
      "Productivité moyenne après la formation : 56.98\n",
      "T-statistique : -9.37\n",
      "Valeur p : 0.0000\n",
      "Reject the null hypothesis\n"
     ]
    }
   ],
   "source": [
    "#Exo6\n",
    "import numpy as np\n",
    "\n",
    "# Productivity scores of employees before the training program\n",
    "productivity_before = np.random.normal(loc=50, scale=10, size=30)\n",
    "\n",
    "# Productivity scores of the same employees after the training program\n",
    "productivity_after = productivity_before + np.random.normal(loc=5, scale=3, size=30)\n",
    "\n",
    "# Calcul de la moyenne avant et après la formation\n",
    "mean_before = np.mean(productivity_before)\n",
    "mean_after = np.mean(productivity_after)\n",
    "\n",
    "\n",
    "# Your task is to formulate a hypothesis regarding the training program's effectiveness \n",
    "# and test it using basic statistical functions in NumPy.\n",
    "\n",
    "t_statistic, p_value = stats.ttest_rel(productivity_before, productivity_after)\n",
    "# Affichage des résultats\n",
    "print(f\"Productivité moyenne avant la formation : {mean_before:.2f}\")\n",
    "print(f\"Productivité moyenne après la formation : {mean_after:.2f}\")\n",
    "print(f\"T-statistique : {t_statistic:.2f}\")\n",
    "print(f\"Valeur p : {p_value:.4f}\")\n",
    "# Interpreting the result\n",
    "alpha = 0.05  # Significance level\n",
    "if p_value < alpha:\n",
    "    print(\"Reject the null hypothesis\")\n",
    "else:\n",
    "    print(\"Fail to reject the null hypothesis\")"
   ]
  },
  {
   "cell_type": "code",
   "execution_count": 54,
   "metadata": {},
   "outputs": [
    {
     "name": "stdout",
     "output_type": "stream",
     "text": [
      "Tableau 1 : [10 20 30 40 50]\n",
      "Tableau 2 : [27 10 80 35 55]\n",
      "Résultat de la comparaison : [False  True False  True False]\n"
     ]
    }
   ],
   "source": [
    "#Exo7\n",
    "import numpy as np\n",
    "\n",
    "# Création d'un tableau de nombres\n",
    "tab_1 = np.array([10, 20, 30, 40, 50])\n",
    "tab_2 = np.array([27, 10, 80, 35, 55])\n",
    "\n",
    "# Comparaison élément par élément !output is a boolean array\n",
    "comparison_elem = tab_1 > tab_2\n",
    "\n",
    "# Affichage des tableaux et du résultat booléen\n",
    "print(\"Tableau 1 :\", tab_1)\n",
    "print(\"Tableau 2 :\", tab_2)\n",
    "print(\"Résultat de la comparaison :\", comparison_elem)\n"
   ]
  },
  {
   "cell_type": "code",
   "execution_count": 58,
   "metadata": {},
   "outputs": [
    {
     "name": "stdout",
     "output_type": "stream",
     "text": [
      "Janvier à Mars : ['2023-01-01' '2023-01-02' '2023-01-03' '2023-01-04' '2023-01-05'\n",
      " '2023-01-06' '2023-01-07' '2023-01-08' '2023-01-09' '2023-01-10'\n",
      " '2023-01-11' '2023-01-12' '2023-01-13' '2023-01-14' '2023-01-15'\n",
      " '2023-01-16' '2023-01-17' '2023-01-18' '2023-01-19' '2023-01-20'\n",
      " '2023-01-21' '2023-01-22' '2023-01-23' '2023-01-24' '2023-01-25'\n",
      " '2023-01-26' '2023-01-27' '2023-01-28' '2023-01-29' '2023-01-30'\n",
      " '2023-01-31' '2023-02-01' '2023-02-02' '2023-02-03' '2023-02-04'\n",
      " '2023-02-05' '2023-02-06' '2023-02-07' '2023-02-08' '2023-02-09'\n",
      " '2023-02-10' '2023-02-11' '2023-02-12' '2023-02-13' '2023-02-14'\n",
      " '2023-02-15' '2023-02-16' '2023-02-17' '2023-02-18' '2023-02-19'\n",
      " '2023-02-20' '2023-02-21' '2023-02-22' '2023-02-23' '2023-02-24'\n",
      " '2023-02-25' '2023-02-26' '2023-02-27' '2023-02-28' '2023-03-01'\n",
      " '2023-03-02' '2023-03-03' '2023-03-04' '2023-03-05' '2023-03-06'\n",
      " '2023-03-07' '2023-03-08' '2023-03-09' '2023-03-10' '2023-03-11'\n",
      " '2023-03-12' '2023-03-13' '2023-03-14' '2023-03-15' '2023-03-16'\n",
      " '2023-03-17' '2023-03-18' '2023-03-19' '2023-03-20' '2023-03-21'\n",
      " '2023-03-22' '2023-03-23' '2023-03-24' '2023-03-25' '2023-03-26'\n",
      " '2023-03-27' '2023-03-28' '2023-03-29' '2023-03-30' '2023-03-31']\n",
      "Avril à Juin : ['2023-04-01' '2023-04-02' '2023-04-03' '2023-04-04' '2023-04-05'\n",
      " '2023-04-06' '2023-04-07' '2023-04-08' '2023-04-09' '2023-04-10'\n",
      " '2023-04-11' '2023-04-12' '2023-04-13' '2023-04-14' '2023-04-15'\n",
      " '2023-04-16' '2023-04-17' '2023-04-18' '2023-04-19' '2023-04-20'\n",
      " '2023-04-21' '2023-04-22' '2023-04-23' '2023-04-24' '2023-04-25'\n",
      " '2023-04-26' '2023-04-27' '2023-04-28' '2023-04-29' '2023-04-30'\n",
      " '2023-05-01' '2023-05-02' '2023-05-03' '2023-05-04' '2023-05-05'\n",
      " '2023-05-06' '2023-05-07' '2023-05-08' '2023-05-09' '2023-05-10'\n",
      " '2023-05-11' '2023-05-12' '2023-05-13' '2023-05-14' '2023-05-15'\n",
      " '2023-05-16' '2023-05-17' '2023-05-18' '2023-05-19' '2023-05-20'\n",
      " '2023-05-21' '2023-05-22' '2023-05-23' '2023-05-24' '2023-05-25'\n",
      " '2023-05-26' '2023-05-27' '2023-05-28' '2023-05-29' '2023-05-30'\n",
      " '2023-05-31' '2023-06-01' '2023-06-02' '2023-06-03' '2023-06-04'\n",
      " '2023-06-05' '2023-06-06' '2023-06-07' '2023-06-08' '2023-06-09'\n",
      " '2023-06-10' '2023-06-11' '2023-06-12' '2023-06-13' '2023-06-14'\n",
      " '2023-06-15' '2023-06-16' '2023-06-17' '2023-06-18' '2023-06-19'\n",
      " '2023-06-20' '2023-06-21' '2023-06-22' '2023-06-23' '2023-06-24'\n",
      " '2023-06-25' '2023-06-26' '2023-06-27' '2023-06-28' '2023-06-29'\n",
      " '2023-06-30']\n",
      "Juillet à Septembre : ['2023-07-01' '2023-07-02' '2023-07-03' '2023-07-04' '2023-07-05'\n",
      " '2023-07-06' '2023-07-07' '2023-07-08' '2023-07-09' '2023-07-10'\n",
      " '2023-07-11' '2023-07-12' '2023-07-13' '2023-07-14' '2023-07-15'\n",
      " '2023-07-16' '2023-07-17' '2023-07-18' '2023-07-19' '2023-07-20'\n",
      " '2023-07-21' '2023-07-22' '2023-07-23' '2023-07-24' '2023-07-25'\n",
      " '2023-07-26' '2023-07-27' '2023-07-28' '2023-07-29' '2023-07-30'\n",
      " '2023-07-31' '2023-08-01' '2023-08-02' '2023-08-03' '2023-08-04'\n",
      " '2023-08-05' '2023-08-06' '2023-08-07' '2023-08-08' '2023-08-09'\n",
      " '2023-08-10' '2023-08-11' '2023-08-12' '2023-08-13' '2023-08-14'\n",
      " '2023-08-15' '2023-08-16' '2023-08-17' '2023-08-18' '2023-08-19'\n",
      " '2023-08-20' '2023-08-21' '2023-08-22' '2023-08-23' '2023-08-24'\n",
      " '2023-08-25' '2023-08-26' '2023-08-27' '2023-08-28' '2023-08-29'\n",
      " '2023-08-30' '2023-08-31' '2023-09-01' '2023-09-02' '2023-09-03'\n",
      " '2023-09-04' '2023-09-05' '2023-09-06' '2023-09-07' '2023-09-08'\n",
      " '2023-09-09' '2023-09-10' '2023-09-11' '2023-09-12' '2023-09-13'\n",
      " '2023-09-14' '2023-09-15' '2023-09-16' '2023-09-17' '2023-09-18'\n",
      " '2023-09-19' '2023-09-20' '2023-09-21' '2023-09-22' '2023-09-23'\n",
      " '2023-09-24' '2023-09-25' '2023-09-26' '2023-09-27' '2023-09-28'\n",
      " '2023-09-29' '2023-09-30']\n",
      "Octobre à Décembre : ['2023-10-01' '2023-10-02' '2023-10-03' '2023-10-04' '2023-10-05'\n",
      " '2023-10-06' '2023-10-07' '2023-10-08' '2023-10-09' '2023-10-10'\n",
      " '2023-10-11' '2023-10-12' '2023-10-13' '2023-10-14' '2023-10-15'\n",
      " '2023-10-16' '2023-10-17' '2023-10-18' '2023-10-19' '2023-10-20'\n",
      " '2023-10-21' '2023-10-22' '2023-10-23' '2023-10-24' '2023-10-25'\n",
      " '2023-10-26' '2023-10-27' '2023-10-28' '2023-10-29' '2023-10-30'\n",
      " '2023-10-31' '2023-11-01' '2023-11-02' '2023-11-03' '2023-11-04'\n",
      " '2023-11-05' '2023-11-06' '2023-11-07' '2023-11-08' '2023-11-09'\n",
      " '2023-11-10' '2023-11-11' '2023-11-12' '2023-11-13' '2023-11-14'\n",
      " '2023-11-15' '2023-11-16' '2023-11-17' '2023-11-18' '2023-11-19'\n",
      " '2023-11-20' '2023-11-21' '2023-11-22' '2023-11-23' '2023-11-24'\n",
      " '2023-11-25' '2023-11-26' '2023-11-27' '2023-11-28' '2023-11-29'\n",
      " '2023-11-30' '2023-12-01' '2023-12-02' '2023-12-03' '2023-12-04'\n",
      " '2023-12-05' '2023-12-06' '2023-12-07' '2023-12-08' '2023-12-09'\n",
      " '2023-12-10' '2023-12-11' '2023-12-12' '2023-12-13' '2023-12-14'\n",
      " '2023-12-15' '2023-12-16' '2023-12-17' '2023-12-18' '2023-12-19'\n",
      " '2023-12-20' '2023-12-21' '2023-12-22' '2023-12-23' '2023-12-24'\n",
      " '2023-12-25' '2023-12-26' '2023-12-27' '2023-12-28' '2023-12-29'\n",
      " '2023-12-30' '2023-12-31']\n"
     ]
    }
   ],
   "source": [
    "#Exo8\n",
    "import numpy as np\n",
    "import pandas as pd\n",
    "\n",
    "# Create date range for January 2020\n",
    "dates = np.arange('2023-01-01', '2024-02-01', dtype='datetime64[D]')\n",
    "# Convertir les bornes en datetime pour éviter les erreurs\n",
    "start1, end1 = pd.to_datetime(\"2023-01-01\"), pd.to_datetime(\"2023-03-31\")\n",
    "start2, end2 = pd.to_datetime(\"2023-04-01\"), pd.to_datetime(\"2023-06-30\")\n",
    "start3, end3 = pd.to_datetime(\"2023-07-01\"), pd.to_datetime(\"2023-09-30\")\n",
    "start4, end4 = pd.to_datetime(\"2023-10-01\"), pd.to_datetime(\"2023-12-31\")\n",
    "\n",
    "# Découpage par trimestres\n",
    "jan_mars = dates[(dates >= start1) & (dates <= end1)]\n",
    "avr_juin = dates[(dates >= start2) & (dates <= end2)]\n",
    "juil_sept = dates[(dates >= start3) & (dates <= end3)]\n",
    "oct_dec = dates[(dates >= start4) & (dates <= end4)]\n",
    "\n",
    "# Affichage des résultats\n",
    "print(\"Janvier à Mars :\", jan_mars)\n",
    "print(\"Avril à Juin :\", avr_juin)\n",
    "print(\"Juillet à Septembre :\", juil_sept)\n",
    "print(\"Octobre à Décembre :\", oct_dec)"
   ]
  },
  {
   "cell_type": "code",
   "execution_count": 62,
   "metadata": {},
   "outputs": [
    {
     "name": "stdout",
     "output_type": "stream",
     "text": [
      "   A  B  C\n",
      "0  1  2  3\n",
      "1  4  5  6\n",
      "[[1 2 3]\n",
      " [4 5 6]]\n"
     ]
    }
   ],
   "source": [
    "#ExO9\n",
    "#Démontrer comment convertir un tableau NumPy en un DataFrame Pandas et vice versa.\n",
    "#voila un exemple simple # Création d'un tableau NumPy\n",
    "array = np.array([[1, 2, 3], [4, 5, 6]])\n",
    "# Conversion en DataFrame Pandas\n",
    "df = pd.DataFrame(array, columns=['A', 'B', 'C'])\n",
    "print(df)\n",
    "#et pour convertir un DataFrame to numpy il faut utiliser simplement to_numpy\n",
    "array = df.to_numpy() \n",
    "print(array)"
   ]
  },
  {
   "cell_type": "code",
   "execution_count": 77,
   "metadata": {},
   "outputs": [
    {
     "data": {
      "image/png": "[encoded data removed]",
      "text/plain": [
       "<Figure size 640x480 with 1 Axes>"
      ]
     },
     "metadata": {},
     "output_type": "display_data"
    }
   ],
   "source": [
    "#Exo10\n",
    "# Générer des données aléatoires\n",
    "array_1 = np.arange(10)\n",
    "array_2 = np.random.randint(10, 200, size=10)\n",
    "# Créer le graphique linéaire\n",
    "plt.plot(array_2,array_1, label='Données aléatoires', color='blue')\n",
    "#afficher \n",
    "plt.title('Graphique linéaire')\n",
    "plt.xlabel('valeurs aléatoires')\n",
    "plt.ylabel('valeurs')\n",
    "plt.legend()\n",
    "plt.show()\n",
    "\n"
   ]
  }
 ],
 "metadata": {
  "kernelspec": {
   "display_name": "Python 3",
   "language": "python",
   "name": "python3"
  },
  "language_info": {
   "codemirror_mode": {
    "name": "ipython",
    "version": 3
   },
   "file_extension": ".py",
   "mimetype": "text/x-python",
   "name": "python",
   "nbconvert_exporter": "python",
   "pygments_lexer": "ipython3",
   "version": "3.8.10"
  }
 },
 "nbformat": 4,
 "nbformat_minor": 2
}
