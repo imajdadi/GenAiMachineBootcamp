{
 "cells": [
  {
   "cell_type": "code",
   "execution_count": 6,
   "metadata": {},
   "outputs": [
    {
     "name": "stdout",
     "output_type": "stream",
     "text": [
      "Simulated Data :\n",
      "         Date  temperature   humidity\n",
      "0 2022-01-01    19.374316  17.227917\n",
      "1 2022-01-02    25.481774  34.204639\n",
      "2 2022-01-03    27.537732  16.261920\n",
      "3 2022-01-04    10.702399  10.973521\n",
      "4 2022-01-05    11.744237  10.663467\n"
     ]
    }
   ],
   "source": [
    "import numpy as np\n",
    "import pandas as pd\n",
    "#cours3 exo vert\n",
    "# Creating date ranges\n",
    "dates = np.arange('2022-01', '2022-12', dtype='datetime64[D]')\n",
    "\n",
    "# Générer des températures aléatoires entre 10 et 35°C pour 365 jours\n",
    "temperatures = np.random.uniform(low =10, high = 35, size=len(dates))\n",
    "humidity = np.random.uniform(low =10, high = 35, size=len(dates))\n",
    "\n",
    "df = pd.DataFrame({\n",
    "    'Date' : dates,\n",
    "    'temperature' : temperatures,\n",
    "    'humidity' : humidity,\n",
    "})\n",
    "print(\"Simulated Data :\\n\", df.head())                               \n"
   ]
  },
  {
   "cell_type": "code",
   "execution_count": 7,
   "metadata": {},
   "outputs": [
    {
     "name": "stdout",
     "output_type": "stream",
     "text": [
      "Requirement already satisfied: scipy in c:\\users\\dell 3510\\appdata\\local\\programs\\python\\python38\\lib\\site-packages (1.10.1)\n",
      "Requirement already satisfied: numpy<1.27.0,>=1.19.5 in c:\\users\\dell 3510\\appdata\\local\\programs\\python\\python38\\lib\\site-packages (from scipy) (1.24.3)\n",
      "Note: you may need to restart the kernel to use updated packages.\n"
     ]
    },
    {
     "name": "stderr",
     "output_type": "stream",
     "text": [
      "WARNING: You are using pip version 21.1.1; however, version 25.0.1 is available.\n",
      "You should consider upgrading via the 'c:\\Users\\DELL 3510\\AppData\\Local\\Programs\\Python\\Python38\\python.exe -m pip install --upgrade pip' command.\n"
     ]
    }
   ],
   "source": [
    "pip install scipy"
   ]
  },
  {
   "cell_type": "code",
   "execution_count": 8,
   "metadata": {},
   "outputs": [
    {
     "name": "stdout",
     "output_type": "stream",
     "text": [
      "Integral of x^2 from 0 to 1: 0.33333333333333337\n"
     ]
    }
   ],
   "source": [
    "import numpy as np\n",
    "from scipy import integrate\n",
    "\n",
    "# Define a simple function\n",
    "def integrand(x):\n",
    "    return x**2\n",
    "\n",
    "# Compute the integral of the function\n",
    "result, _ = integrate.quad(integrand, 0, 1)\n",
    "print(\"Integral of x^2 from 0 to 1:\", result)"
   ]
  },
  {
   "cell_type": "code",
   "execution_count": 16,
   "metadata": {},
   "outputs": [
    {
     "name": "stdout",
     "output_type": "stream",
     "text": [
      "[0.39634937 0.65699332 0.50950297 ... 0.05351609 0.14137711 0.88330478]\n"
     ]
    }
   ],
   "source": [
    "import numpy as np\n",
    "from scipy import integrate\n",
    "#Créer un grand tableau 1000x1000 avec des nombres flottants entre 0 et 1\n",
    "large_array = np.random.rand(10**6)\n",
    "\n",
    "# Afficher quelques valeurs\n",
    "print(large_array)"
   ]
  },
  {
   "cell_type": "code",
   "execution_count": 18,
   "metadata": {},
   "outputs": [
    {
     "name": "stdout",
     "output_type": "stream",
     "text": [
      "Moyenne (SciPy) : 0.5001045414621316\n",
      "Écart type (SciPy) : 0.28859827444162744\n"
     ]
    }
   ],
   "source": [
    "from scipy import stats\n",
    "import time \n",
    "import numpy as np\n",
    "# Calculer la moyenne et l'écart type avec SciPy\n",
    "mean_value_scipy = np.mean(large_array)  # SciPy n'a pas de fonction moyenne dédiée\n",
    "std_dev_scipy = stats.tstd(large_array)  # Calcul de l'écart type corrigé\n",
    "#time_scipy = time.\n",
    "\n",
    "print(\"Moyenne (SciPy) :\", mean_value_scipy)\n",
    "print(\"Écart type (SciPy) :\", std_dev_scipy)"
   ]
  },
  {
   "cell_type": "code",
   "execution_count": 20,
   "metadata": {},
   "outputs": [
    {
     "name": "stdout",
     "output_type": "stream",
     "text": [
      "        Date  DVLPRS_Price\n",
      "0 2023-01-01    117.640523\n",
      "1 2023-01-02    104.001572\n",
      "2 2023-01-03    109.787380\n",
      "3 2023-01-04    122.408932\n",
      "4 2023-01-05    118.675580\n"
     ]
    }
   ],
   "source": [
    "import pandas as pd\n",
    "import numpy as np\n",
    "\n",
    "# Simulating stock prices for a non-existent stock (DVLPRS)\n",
    "np.random.seed(0)  # For reproducibility\n",
    "\n",
    "# Generating 100 days of stock prices\n",
    "dates = pd.date_range(start='2023-01-01', periods=100)\n",
    "prices = np.random.normal(loc=100, scale=10, size=len(dates))  # Assume a mean price of 100 with a standard deviation of 10\n",
    "\n",
    "# Creating a DataFrame\n",
    "stock_data = pd.DataFrame({\n",
    "    'Date': dates,\n",
    "    'DVLPRS_Price': prices\n",
    "})\n",
    "\n",
    "# Displaying the first few rows of the simulated data\n",
    "print(stock_data.head())"
   ]
  },
  {
   "cell_type": "code",
   "execution_count": 27,
   "metadata": {},
   "outputs": [
    {
     "name": "stdout",
     "output_type": "stream",
     "text": [
      "[[117.64052346]\n",
      " [104.00157208]\n",
      " [109.78737984]\n",
      " [122.40893199]\n",
      " [118.6755799 ]\n",
      " [ 90.2272212 ]\n",
      " [109.50088418]\n",
      " [ 98.48642792]\n",
      " [ 98.96781148]\n",
      " [104.10598502]\n",
      " [101.44043571]\n",
      " [114.54273507]\n",
      " [107.61037725]\n",
      " [101.21675016]\n",
      " [104.43863233]\n",
      " [103.33674327]\n",
      " [114.94079073]\n",
      " [ 97.94841736]\n",
      " [103.13067702]\n",
      " [ 91.45904261]\n",
      " [ 74.47010184]\n",
      " [106.53618595]\n",
      " [108.64436199]\n",
      " [ 92.5783498 ]\n",
      " [122.69754624]\n",
      " [ 85.45634325]\n",
      " [100.45758517]\n",
      " [ 98.1281615 ]\n",
      " [115.32779214]\n",
      " [114.6935877 ]\n",
      " [101.54947426]\n",
      " [103.7816252 ]\n",
      " [ 91.12214252]\n",
      " [ 80.19203532]\n",
      " [ 96.52087851]\n",
      " [101.56348969]\n",
      " [112.30290681]\n",
      " [112.02379849]\n",
      " [ 96.12673183]\n",
      " [ 96.97697249]\n",
      " [ 89.51447035]\n",
      " [ 85.79982063]\n",
      " [ 82.93729809]\n",
      " [119.50775395]\n",
      " [ 94.90347818]\n",
      " [ 95.61925698]\n",
      " [ 87.4720464 ]\n",
      " [107.77490356]\n",
      " [ 83.86102152]\n",
      " [ 97.8725972 ]\n",
      " [ 91.04533439]\n",
      " [103.86902498]\n",
      " [ 94.89194862]\n",
      " [ 88.19367816]\n",
      " [ 99.71817772]\n",
      " [104.28331871]\n",
      " [100.66517222]\n",
      " [103.02471898]\n",
      " [ 93.65677906]\n",
      " [ 96.37258834]\n",
      " [ 93.27539552]\n",
      " [ 96.40446838]\n",
      " [ 91.86853718]\n",
      " [ 82.73717398]\n",
      " [101.77426142]\n",
      " [ 95.98219064]\n",
      " [ 83.69801653]\n",
      " [104.62782256]\n",
      " [ 90.92701636]\n",
      " [100.51945396]\n",
      " [107.29090562]\n",
      " [101.28982911]\n",
      " [111.39400685]\n",
      " [ 87.6517418 ]\n",
      " [104.02341641]\n",
      " [ 93.15189909]\n",
      " [ 91.29202851]\n",
      " [ 94.21150335]\n",
      " [ 96.88447468]\n",
      " [100.56165342]\n",
      " [ 88.34850159]\n",
      " [109.00826487]\n",
      " [104.6566244 ]\n",
      " [ 84.63756314]\n",
      " [114.88252194]\n",
      " [118.95889176]\n",
      " [111.78779571]\n",
      " [ 98.20075164]\n",
      " [ 89.29247378]\n",
      " [110.54451727]\n",
      " [ 95.96823053]\n",
      " [112.2244507 ]\n",
      " [102.08274978]\n",
      " [109.76639036]\n",
      " [103.56366397]\n",
      " [107.06573168]\n",
      " [100.10500021]\n",
      " [117.85870494]\n",
      " [101.26912093]\n",
      " [104.01989363]]\n"
     ]
    }
   ],
   "source": [
    "subset_array = stock_data[['DVLPRS_Price']].to_numpy()\n",
    "\n",
    "\n",
    "print(subset_array)"
   ]
  },
  {
   "cell_type": "code",
   "execution_count": null,
   "metadata": {},
   "outputs": [
    {
     "name": "stdout",
     "output_type": "stream",
     "text": [
      "Variance of the investment returns: 101.58266192149313\n",
      "Moyenne (SciPy) : 100.59808015534487\n",
      "Écart type (SciPy) : [10.12959769]\n",
      "Skewness: [0.00517184]\n",
      "Kurtosis: [-0.37835456]\n"
     ]
    }
   ],
   "source": [
    "from scipy import stats\n",
    "import time \n",
    "import numpy as np\n",
    "from scipy.stats import skew, kurtosis\n",
    "\n",
    "mean_value_scipy = np.mean(subset_array)  # SciPy n'a pas de fonction moyenne dédiée\n",
    "std_dev_scipy = stats.tstd(subset_array)  # Calcul de l'écart type corrigé\n",
    "# Calculating skewness and kurtosis\n",
    "skewness = skew(subset_array)\n",
    "kurtosis_value = kurtosis(subset_array)\n",
    "# Calculating variance\n",
    "variance = np.var(subset_array)\n",
    "print(\"Variance of the investment returns:\", variance)\n",
    "print(\"Moyenne (SciPy) :\", mean_value_scipy)\n",
    "print(\"Écart type (SciPy) :\", std_dev_scipy)\n",
    "print(\"Skewness:\", skewness)\n",
    "print(\"Kurtosis:\", kurtosis_value)"
   ]
  },
  {
   "cell_type": "code",
   "execution_count": null,
   "metadata": {},
   "outputs": [],
   "source": []
  }
 ],
 "metadata": {
  "kernelspec": {
   "display_name": "Python 3",
   "language": "python",
   "name": "python3"
  },
  "language_info": {
   "codemirror_mode": {
    "name": "ipython",
    "version": 3
   },
   "file_extension": ".py",
   "mimetype": "text/x-python",
   "name": "python",
   "nbconvert_exporter": "python",
   "pygments_lexer": "ipython3",
   "version": "3.8.10"
  }
 },
 "nbformat": 4,
 "nbformat_minor": 2
}
