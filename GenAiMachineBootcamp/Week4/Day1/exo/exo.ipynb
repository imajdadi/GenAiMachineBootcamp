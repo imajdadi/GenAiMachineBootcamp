{
 "cells": [
  {
   "cell_type": "markdown",
   "metadata": {},
   "source": [
    "1.L’apprentissage profond utilise des réseaux neuronaux pour apprendre directement à partir de données brutes, surpassant ainsi l’apprentissage automatique traditionnel qui repose sur l’ingénierie des caractéristiques. Cela a conduit à des avancées majeures dans des domaines comme la vision par ordinateur et le traitement du langage naturel..\n",
    "2.Les réseaux de neurones artificiels (RNA) imitent le cerveau humain en traitant l’information à travers des neurones artificiels connectés, similaires aux neurones biologiques reliés par des synapses. Organisés en couches (entrée, cachées et sortie), ils ajustent leurs pondérations via la rétropropagation pour apprendre des modèles complexes.\n",
    "3.L’apprentissage profond est plus performant sur de grands ensembles de données car il apprend automatiquement des représentations complexes sans nécessiter d’ingénierie des caractéristiques. Grâce aux réseaux de neurones profonds, il capture des modèles subtils et améliore sa précision à mesure que la quantité de données augmente, tandis que les algorithmes d’apprentissage automatique traditionnel atteignent souvent un plateau de performance.\n",
    "4.Les défis du deep learning incluent le besoin de données massives, de puissance de calcul et une faible interprétabilité. Ils sont relevés par l’optimisation des modèles, la régularisation et le transfert d’apprentissage.\n",
    "5.L’ingénierie des fonctionnalités sert à transformer les données pour améliorer un modèle. En apprentissage profond, elle est inutile car les réseaux apprennent eux-mêmes les caractéristiques. Cela automatise l’extraction des informations pertinentes\n",
    "6.Les couches cachées d’un modèle d’apprentissage profond extraient et transforment progressivement les caractéristiques des données. Chaque couche apprend des représentations de plus en plus abstraites, captant des motifs complexes. Elles permettent ainsi au réseau de généraliser et de reconnaître des structures sans intervention humaine.\n",
    "7.Une fonction d’activation ajoute de la non-linéarité au réseau neuronal. Elle permet d’apprendre des relations complexes entre les données. Sans elle, le réseau serait limité aux modèles linéaires.\n",
    "\n",
    "\n"
   ]
  },
  {
   "cell_type": "code",
   "execution_count": 1,
   "metadata": {},
   "outputs": [
    {
     "name": "stdout",
     "output_type": "stream",
     "text": [
      "Requirement already satisfied: tensorflow in c:\\users\\dell 3510\\appdata\\local\\programs\\python\\python38\\lib\\site-packages (2.13.0)\n",
      "Requirement already satisfied: tensorflow-intel==2.13.0 in c:\\users\\dell 3510\\appdata\\local\\programs\\python\\python38\\lib\\site-packages (from tensorflow) (2.13.0)\n",
      "Requirement already satisfied: gast<=0.4.0,>=0.2.1 in c:\\users\\dell 3510\\appdata\\local\\programs\\python\\python38\\lib\\site-packages (from tensorflow-intel==2.13.0->tensorflow) (0.4.0)\n",
      "Requirement already satisfied: setuptools in c:\\users\\dell 3510\\appdata\\local\\programs\\python\\python38\\lib\\site-packages (from tensorflow-intel==2.13.0->tensorflow) (56.0.0)\n",
      "Requirement already satisfied: grpcio<2.0,>=1.24.3 in c:\\users\\dell 3510\\appdata\\local\\programs\\python\\python38\\lib\\site-packages (from tensorflow-intel==2.13.0->tensorflow) (1.70.0)\n",
      "Requirement already satisfied: tensorflow-estimator<2.14,>=2.13.0 in c:\\users\\dell 3510\\appdata\\local\\programs\\python\\python38\\lib\\site-packages (from tensorflow-intel==2.13.0->tensorflow) (2.13.0)\n",
      "Requirement already satisfied: typing-extensions<4.6.0,>=3.6.6 in c:\\users\\dell 3510\\appdata\\local\\programs\\python\\python38\\lib\\site-packages (from tensorflow-intel==2.13.0->tensorflow) (4.5.0)\n",
      "Requirement already satisfied: protobuf!=4.21.0,!=4.21.1,!=4.21.2,!=4.21.3,!=4.21.4,!=4.21.5,<5.0.0dev,>=3.20.3 in c:\\users\\dell 3510\\appdata\\local\\programs\\python\\python38\\lib\\site-packages (from tensorflow-intel==2.13.0->tensorflow) (4.25.6)\n",
      "Requirement already satisfied: termcolor>=1.1.0 in c:\\users\\dell 3510\\appdata\\local\\programs\\python\\python38\\lib\\site-packages (from tensorflow-intel==2.13.0->tensorflow) (2.4.0)\n",
      "Requirement already satisfied: opt-einsum>=2.3.2 in c:\\users\\dell 3510\\appdata\\local\\programs\\python\\python38\\lib\\site-packages (from tensorflow-intel==2.13.0->tensorflow) (3.4.0)\n",
      "Requirement already satisfied: packaging in c:\\users\\dell 3510\\appdata\\roaming\\python\\python38\\site-packages (from tensorflow-intel==2.13.0->tensorflow) (24.2)\n",
      "Requirement already satisfied: absl-py>=1.0.0 in c:\\users\\dell 3510\\appdata\\local\\programs\\python\\python38\\lib\\site-packages (from tensorflow-intel==2.13.0->tensorflow) (2.1.0)\n",
      "Requirement already satisfied: six>=1.12.0 in c:\\users\\dell 3510\\appdata\\roaming\\python\\python38\\site-packages (from tensorflow-intel==2.13.0->tensorflow) (1.17.0)\n",
      "Requirement already satisfied: wrapt>=1.11.0 in c:\\users\\dell 3510\\appdata\\local\\programs\\python\\python38\\lib\\site-packages (from tensorflow-intel==2.13.0->tensorflow) (1.17.2)\n",
      "Requirement already satisfied: tensorflow-io-gcs-filesystem>=0.23.1 in c:\\users\\dell 3510\\appdata\\local\\programs\\python\\python38\\lib\\site-packages (from tensorflow-intel==2.13.0->tensorflow) (0.31.0)\n",
      "Requirement already satisfied: h5py>=2.9.0 in c:\\users\\dell 3510\\appdata\\local\\programs\\python\\python38\\lib\\site-packages (from tensorflow-intel==2.13.0->tensorflow) (3.11.0)\n",
      "Requirement already satisfied: astunparse>=1.6.0 in c:\\users\\dell 3510\\appdata\\local\\programs\\python\\python38\\lib\\site-packages (from tensorflow-intel==2.13.0->tensorflow) (1.6.3)\n",
      "Requirement already satisfied: google-pasta>=0.1.1 in c:\\users\\dell 3510\\appdata\\local\\programs\\python\\python38\\lib\\site-packages (from tensorflow-intel==2.13.0->tensorflow) (0.2.0)\n",
      "Requirement already satisfied: libclang>=13.0.0 in c:\\users\\dell 3510\\appdata\\local\\programs\\python\\python38\\lib\\site-packages (from tensorflow-intel==2.13.0->tensorflow) (18.1.1)\n",
      "Requirement already satisfied: flatbuffers>=23.1.21 in c:\\users\\dell 3510\\appdata\\local\\programs\\python\\python38\\lib\\site-packages (from tensorflow-intel==2.13.0->tensorflow) (25.2.10)\n",
      "Requirement already satisfied: keras<2.14,>=2.13.1 in c:\\users\\dell 3510\\appdata\\local\\programs\\python\\python38\\lib\\site-packages (from tensorflow-intel==2.13.0->tensorflow) (2.13.1)\n",
      "Requirement already satisfied: tensorboard<2.14,>=2.13 in c:\\users\\dell 3510\\appdata\\local\\programs\\python\\python38\\lib\\site-packages (from tensorflow-intel==2.13.0->tensorflow) (2.13.0)\n",
      "Requirement already satisfied: numpy<=1.24.3,>=1.22 in c:\\users\\dell 3510\\appdata\\local\\programs\\python\\python38\\lib\\site-packages (from tensorflow-intel==2.13.0->tensorflow) (1.24.3)\n",
      "Requirement already satisfied: wheel<1.0,>=0.23.0 in c:\\users\\dell 3510\\appdata\\local\\programs\\python\\python38\\lib\\site-packages (from astunparse>=1.6.0->tensorflow-intel==2.13.0->tensorflow) (0.45.1)\n",
      "Requirement already satisfied: google-auth-oauthlib<1.1,>=0.5 in c:\\users\\dell 3510\\appdata\\local\\programs\\python\\python38\\lib\\site-packages (from tensorboard<2.14,>=2.13->tensorflow-intel==2.13.0->tensorflow) (1.0.0)\n",
      "Requirement already satisfied: requests<3,>=2.21.0 in c:\\users\\dell 3510\\appdata\\local\\programs\\python\\python38\\lib\\site-packages (from tensorboard<2.14,>=2.13->tensorflow-intel==2.13.0->tensorflow) (2.32.3)\n",
      "Requirement already satisfied: markdown>=2.6.8 in c:\\users\\dell 3510\\appdata\\local\\programs\\python\\python38\\lib\\site-packages (from tensorboard<2.14,>=2.13->tensorflow-intel==2.13.0->tensorflow) (3.7)\n",
      "Requirement already satisfied: werkzeug>=1.0.1 in c:\\users\\dell 3510\\appdata\\local\\programs\\python\\python38\\lib\\site-packages (from tensorboard<2.14,>=2.13->tensorflow-intel==2.13.0->tensorflow) (3.0.6)\n",
      "Requirement already satisfied: tensorboard-data-server<0.8.0,>=0.7.0 in c:\\users\\dell 3510\\appdata\\local\\programs\\python\\python38\\lib\\site-packages (from tensorboard<2.14,>=2.13->tensorflow-intel==2.13.0->tensorflow) (0.7.2)\n",
      "Requirement already satisfied: google-auth<3,>=1.6.3 in c:\\users\\dell 3510\\appdata\\local\\programs\\python\\python38\\lib\\site-packages (from tensorboard<2.14,>=2.13->tensorflow-intel==2.13.0->tensorflow) (2.38.0)\n",
      "Requirement already satisfied: cachetools<6.0,>=2.0.0 in c:\\users\\dell 3510\\appdata\\local\\programs\\python\\python38\\lib\\site-packages (from google-auth<3,>=1.6.3->tensorboard<2.14,>=2.13->tensorflow-intel==2.13.0->tensorflow) (5.5.1)\n",
      "Requirement already satisfied: rsa<5,>=3.1.4 in c:\\users\\dell 3510\\appdata\\local\\programs\\python\\python38\\lib\\site-packages (from google-auth<3,>=1.6.3->tensorboard<2.14,>=2.13->tensorflow-intel==2.13.0->tensorflow) (4.9)\n",
      "Requirement already satisfied: pyasn1-modules>=0.2.1 in c:\\users\\dell 3510\\appdata\\local\\programs\\python\\python38\\lib\\site-packages (from google-auth<3,>=1.6.3->tensorboard<2.14,>=2.13->tensorflow-intel==2.13.0->tensorflow) (0.4.1)\n",
      "Requirement already satisfied: requests-oauthlib>=0.7.0 in c:\\users\\dell 3510\\appdata\\local\\programs\\python\\python38\\lib\\site-packages (from google-auth-oauthlib<1.1,>=0.5->tensorboard<2.14,>=2.13->tensorflow-intel==2.13.0->tensorflow) (2.0.0)\n",
      "Requirement already satisfied: importlib-metadata>=4.4 in c:\\users\\dell 3510\\appdata\\roaming\\python\\python38\\site-packages (from markdown>=2.6.8->tensorboard<2.14,>=2.13->tensorflow-intel==2.13.0->tensorflow) (8.5.0)\n",
      "Requirement already satisfied: zipp>=3.20 in c:\\users\\dell 3510\\appdata\\roaming\\python\\python38\\site-packages (from importlib-metadata>=4.4->markdown>=2.6.8->tensorboard<2.14,>=2.13->tensorflow-intel==2.13.0->tensorflow) (3.20.2)\n",
      "Requirement already satisfied: pyasn1<0.7.0,>=0.4.6 in c:\\users\\dell 3510\\appdata\\local\\programs\\python\\python38\\lib\\site-packages (from pyasn1-modules>=0.2.1->google-auth<3,>=1.6.3->tensorboard<2.14,>=2.13->tensorflow-intel==2.13.0->tensorflow) (0.6.1)\n",
      "Requirement already satisfied: idna<4,>=2.5 in c:\\users\\dell 3510\\appdata\\local\\programs\\python\\python38\\lib\\site-packages (from requests<3,>=2.21.0->tensorboard<2.14,>=2.13->tensorflow-intel==2.13.0->tensorflow) (3.10)\n",
      "Requirement already satisfied: urllib3<3,>=1.21.1 in c:\\users\\dell 3510\\appdata\\local\\programs\\python\\python38\\lib\\site-packages (from requests<3,>=2.21.0->tensorboard<2.14,>=2.13->tensorflow-intel==2.13.0->tensorflow) (2.2.3)\n",
      "Requirement already satisfied: certifi>=2017.4.17 in c:\\users\\dell 3510\\appdata\\local\\programs\\python\\python38\\lib\\site-packages (from requests<3,>=2.21.0->tensorboard<2.14,>=2.13->tensorflow-intel==2.13.0->tensorflow) (2025.1.31)\n",
      "Requirement already satisfied: charset-normalizer<4,>=2 in c:\\users\\dell 3510\\appdata\\local\\programs\\python\\python38\\lib\\site-packages (from requests<3,>=2.21.0->tensorboard<2.14,>=2.13->tensorflow-intel==2.13.0->tensorflow) (3.4.1)\n",
      "Requirement already satisfied: oauthlib>=3.0.0 in c:\\users\\dell 3510\\appdata\\local\\programs\\python\\python38\\lib\\site-packages (from requests-oauthlib>=0.7.0->google-auth-oauthlib<1.1,>=0.5->tensorboard<2.14,>=2.13->tensorflow-intel==2.13.0->tensorflow) (3.2.2)\n",
      "Requirement already satisfied: MarkupSafe>=2.1.1 in c:\\users\\dell 3510\\appdata\\local\\programs\\python\\python38\\lib\\site-packages (from werkzeug>=1.0.1->tensorboard<2.14,>=2.13->tensorflow-intel==2.13.0->tensorflow) (2.1.5)\n",
      "Note: you may need to restart the kernel to use updated packages.\n"
     ]
    },
    {
     "name": "stderr",
     "output_type": "stream",
     "text": [
      "WARNING: You are using pip version 21.1.1; however, version 25.0.1 is available.\n",
      "You should consider upgrading via the 'c:\\Users\\DELL 3510\\AppData\\Local\\Programs\\Python\\Python38\\python.exe -m pip install --upgrade pip' command.\n"
     ]
    }
   ],
   "source": [
    "pip install tensorflow"
   ]
  },
  {
   "cell_type": "code",
   "execution_count": null,
   "metadata": {},
   "outputs": [
    {
     "name": "stderr",
     "output_type": "stream",
     "text": [
      "'pip' n'est pas reconnu en tant que commande interne\n",
      "ou externe, un programme ex�cutable ou un fichier de commandes.\n"
     ]
    }
   ],
   "source": [
    "#Cas 1 : Température = 70°F, Pluvieux = 0 (Non)\n",
    "44=(70×0,6)+(0×0,4)+2=42+0+2\n",
    "#Cas 2 : Température = 50°F, Pluvieux = 1 (Oui)\n",
    "(50×0,6)+(1×0,4)+2=0,4+2=32,4\n",
    "#Cas 3 : Température = 30°F, Pluvieux = 1 (Oui)\n",
    "(30×0,6)+(1×0,4)+2=18+0,4+2=20,4"
   ]
  },
  {
   "cell_type": "code",
   "execution_count": 6,
   "metadata": {},
   "outputs": [
    {
     "name": "stdout",
     "output_type": "stream",
     "text": [
      "Somme pondérée : 20.4\n",
      "Sortie = 1 (Oui, aller à l'extérieur)\n"
     ]
    }
   ],
   "source": [
    "# Définir les valeurs des entrées\n",
    "temperature = 30  # Température en °F\n",
    "pluie = 1         # Pluie (1 pour oui, 0 pour non)\n",
    "biais = 2         # Biais\n",
    "\n",
    "# Poids\n",
    "poids_temperature = 0.6\n",
    "poids_pluie = 0.4\n",
    "\n",
    "# Calcul de la somme pondérée\n",
    "somme_ponderee = (temperature * poids_temperature) + (pluie * poids_pluie) + biais\n",
    "\n",
    "# Afficher la somme pondérée\n",
    "print(\"Somme pondérée :\", somme_ponderee)\n",
    "\n",
    "# Appliquer la fonction d'activation\n",
    "if somme_ponderee > 20:\n",
    "    print(\"Sortie = 1 (Oui, aller à l'extérieur)\")\n",
    "else:\n",
    "    print(\"Sortie = 0 (Non, rester à l'intérieur)\")\n"
   ]
  },
  {
   "cell_type": "code",
   "execution_count": 5,
   "metadata": {},
   "outputs": [
    {
     "name": "stdout",
     "output_type": "stream",
     "text": [
      "Résultats pour Cas 1:\n",
      "Somme pondérée pour Température = 70°F, Pluie = 0: 44.0\n",
      "Sortie = 1 (Oui, aller à l'extérieur)\n",
      "\n",
      "Résultats pour Cas 2:\n",
      "Somme pondérée pour Température = 50°F, Pluie = 1: 32.4\n",
      "Sortie = 1 (Oui, aller à l'extérieur)\n"
     ]
    }
   ],
   "source": [
    "# Définir les valeurs des entrées pour chaque cas\n",
    "cas_1 = {\"temperature\": 70, \"pluie\": 0}  # Cas 1 : Température = 70°F, Pluie = 0 (Non)\n",
    "cas_2 = {\"temperature\": 50, \"pluie\": 1}  # Cas 2 : Température = 50°F, Pluie = 1 (Oui)\n",
    "biais = 2  # Biais\n",
    "\n",
    "# Poids\n",
    "poids_temperature = 0.6\n",
    "poids_pluie = 0.4\n",
    "\n",
    "# Fonction pour calculer la somme pondérée et appliquer la fonction d'activation\n",
    "def calculer_decision(cas):\n",
    "    temperature = cas[\"temperature\"]\n",
    "    pluie = cas[\"pluie\"]\n",
    "    \n",
    "    # Calcul de la somme pondérée\n",
    "    somme_ponderee = (temperature * poids_temperature) + (pluie * poids_pluie) + biais\n",
    "    \n",
    "    # Afficher la somme pondérée\n",
    "    print(f\"Somme pondérée pour Température = {temperature}°F, Pluie = {pluie}: {somme_ponderee}\")\n",
    "    \n",
    "    # Appliquer la fonction d'activation\n",
    "    if somme_ponderee > 20:\n",
    "        print(\"Sortie = 1 (Oui, aller à l'extérieur)\")\n",
    "    else:\n",
    "        print(\"Sortie = 0 (Non, rester à l'intérieur)\")\n",
    "\n",
    "# Calculer pour chaque cas\n",
    "print(\"Résultats pour Cas 1:\")\n",
    "calculer_decision(cas_1)\n",
    "\n",
    "print(\"\\nRésultats pour Cas 2:\")\n",
    "calculer_decision(cas_2)\n"
   ]
  },
  {
   "cell_type": "code",
   "execution_count": null,
   "metadata": {},
   "outputs": [],
   "source": [
    "import tensorflow as tf\n",
    "from tensorflow import keras\n"
   ]
  },
  {
   "cell_type": "code",
   "execution_count": 10,
   "metadata": {},
   "outputs": [],
   "source": [
    "from tensorflow.keras.datasets import mnist"
   ]
  },
  {
   "cell_type": "code",
   "execution_count": 11,
   "metadata": {},
   "outputs": [
    {
     "name": "stdout",
     "output_type": "stream",
     "text": [
      "Downloading data from https://storage.googleapis.com/tensorflow/tf-keras-datasets/train-labels-idx1-ubyte.gz\n",
      "29515/29515 [==============================] - 0s 1us/step\n",
      "Downloading data from https://storage.googleapis.com/tensorflow/tf-keras-datasets/train-images-idx3-ubyte.gz\n",
      "26421880/26421880 [==============================] - 11s 0us/step\n",
      "Downloading data from https://storage.googleapis.com/tensorflow/tf-keras-datasets/t10k-labels-idx1-ubyte.gz\n",
      "5148/5148 [==============================] - 0s 0s/step\n",
      "Downloading data from https://storage.googleapis.com/tensorflow/tf-keras-datasets/t10k-images-idx3-ubyte.gz\n",
      "4422102/4422102 [==============================] - 2s 0us/step\n"
     ]
    }
   ],
   "source": [
    "(x_train_data, y_train_data), (x_val_data, y_val_data) = keras.datasets.fashion_mnist.load_data()"
   ]
  },
  {
   "cell_type": "code",
   "execution_count": null,
   "metadata": {},
   "outputs": [],
   "source": [
    "#My_model = keras.Sequential([\n",
    "    #keras.layers.Reshape(target_shape=(28 * 28,), input_shape=(28, 28)),  # Flatten the input\n",
    "    #keras.layers.Dense(units=128, activation='relu'),                    # Hidden layer 1 : A layer with 256 neurons and the ReLU activation function.\n",
    "    #keras.layers.Dense(units=128, activation='relu'),                    # Hidden layer 2\n",
    "    #keras.layers.Dense(units=128, activation='relu'),                    # Hidden layer 3 : A layer with 128 neurons for more learning power.\n",
    "    #keras.layers.Dense(units=10, activation='softmax')                   # Output layer :  Outputs 10 probabilities (one for each class).])\n"
   ]
  },
  {
   "cell_type": "code",
   "execution_count": null,
   "metadata": {},
   "outputs": [
    {
     "name": "stdout",
     "output_type": "stream",
     "text": [
      "Downloading data from https://storage.googleapis.com/tensorflow/tf-keras-datasets/mnist.npz\n",
      "11490434/11490434 [==============================] - 6s 0us/step\n",
      "Epoch 1/5\n",
      "1875/1875 [==============================] - 4s 2ms/step - loss: 0.2542 - accuracy: 0.9286 - val_loss: 0.1438 - val_accuracy: 0.9563\n",
      "Epoch 2/5\n",
      "1875/1875 [==============================] - 3s 2ms/step - loss: 0.1151 - accuracy: 0.9661 - val_loss: 0.1120 - val_accuracy: 0.9649\n",
      "Epoch 3/5\n",
      "1875/1875 [==============================] - 3s 2ms/step - loss: 0.0790 - accuracy: 0.9765 - val_loss: 0.0968 - val_accuracy: 0.9690\n",
      "Epoch 4/5\n",
      "1875/1875 [==============================] - 3s 2ms/step - loss: 0.0613 - accuracy: 0.9816 - val_loss: 0.0991 - val_accuracy: 0.9700\n",
      "Epoch 5/5\n",
      "1875/1875 [==============================] - 4s 2ms/step - loss: 0.0452 - accuracy: 0.9869 - val_loss: 0.0929 - val_accuracy: 0.9725\n",
      "313/313 [==============================] - 0s 1ms/step - loss: 0.0929 - accuracy: 0.9725\n",
      "Test accuracy: 0.9725000262260437\n"
     ]
    }
   ],
   "source": [
    "import tensorflow as tf\n",
    "from tensorflow.keras import layers, models\n",
    "from tensorflow.keras.datasets import mnist\n",
    "\n",
    "# Fonction de prétraitement\n",
    "def preprocessing_function(x_new, y_new):\n",
    "    x_new = tf.cast(x_new, tf.float32) / 255.0  # Normaliser les valeurs des pixels\n",
    "    y_new = tf.cast(y_new, tf.int64)            # Convertir les étiquettes en entiers\n",
    "    return x_new, y_new\n",
    "\n",
    "# Fonction de création du dataset\n",
    "def func_creating_dataset(xs_data, ys_data, num_classes=10):\n",
    "    ys_data = tf.one_hot(ys_data, depth=num_classes)  # Encodage one-hot des labels\n",
    "    return tf.data.Dataset.from_tensor_slices((xs_data, ys_data)) \\\n",
    "        .map(preprocessing_function) \\\n",
    "        .shuffle(buffer_size=1000) \\\n",
    "        .batch(32)\n",
    "\n",
    "# Charger l'ensemble de données MNIST\n",
    "(x_train, y_train), (x_test, y_test) = mnist.load_data()\n",
    "\n",
    "# Créer les datasets d'entraînement et de test en utilisant la fonction de prétraitement\n",
    "train_dataset = func_creating_dataset(x_train, y_train)\n",
    "test_dataset = func_creating_dataset(x_test, y_test)\n",
    "\n",
    "# Créer le modèle\n",
    "model = models.Sequential([\n",
    "    layers.Flatten(input_shape=(28, 28)),              # Couche d'entrée : Aplatir l'entrée 28x28 en un vecteur\n",
    "    layers.Dense(units=128, activation='relu'),        # Couche cachée avec 128 neurones et activation ReLU\n",
    "    layers.Dense(units=10, activation='softmax')       # Couche de sortie avec 10 neurones (softmax pour la classification)\n",
    "])\n",
    "\n",
    "# Compiler le modèle\n",
    "model.compile(optimizer='adam',\n",
    "              loss='categorical_crossentropy',    # Utilisation de la perte categorical_crossentropy pour les problèmes multi-classes\n",
    "              metrics=['accuracy'])\n",
    "\n",
    "# Entraîner le modèle\n",
    "model.fit(train_dataset, epochs=5, validation_data=test_dataset)\n",
    "\n",
    "# Évaluer le modèle\n",
    "test_loss, test_acc = model.evaluate(test_dataset)\n",
    "print(f\"Test accuracy: {test_acc}\")\n"
   ]
  }
 ],
 "metadata": {
  "kernelspec": {
   "display_name": "Python 3",
   "language": "python",
   "name": "python3"
  },
  "language_info": {
   "codemirror_mode": {
    "name": "ipython",
    "version": 3
   },
   "file_extension": ".py",
   "mimetype": "text/x-python",
   "name": "python",
   "nbconvert_exporter": "python",
   "pygments_lexer": "ipython3",
   "version": "3.8.10"
  }
 },
 "nbformat": 4,
 "nbformat_minor": 2
}
