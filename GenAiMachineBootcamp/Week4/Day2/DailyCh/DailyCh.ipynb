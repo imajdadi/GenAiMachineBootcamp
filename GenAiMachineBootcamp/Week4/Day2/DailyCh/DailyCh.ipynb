{
 "cells": [
  {
   "cell_type": "markdown",
   "metadata": {},
   "source": [
    "| **1**                   | **Apprentissage Automatique Traditionnel**     | **Apprentissage Profond**                       |\n",
    "|------------------------------|-----------------------------------------------|------------------------------------------------|\n",
    "| **Ingénierie des fonctionnalités** | Nécessite une extraction manuelle des caractéristiques par des experts. | Automatisée, le modèle apprend directement à partir des données brutes. |\n",
    "| **Informatique**             | Peut fonctionner sur des CPU classiques.     | Nécessite des GPU/TPU puissants pour l'entraînement. |\n",
    "| **Évolutivité**              | Moins évolutif sur de grands ensembles de données. | Très évolutif avec des grandes quantités de données. |\n",
    "| **Découverte de modèles**    | Basé sur des hypothèses et des règles prédéfinies. | Apprend des représentations complexes sans intervention humaine. |\n",
    "| **Exigences informatiques**  | Faibles à modérées, fonctionne avec des ressources limitées. | Élevées, demande beaucoup de mémoire et de puissance de calcul. |\n"
   ]
  },
  {
   "cell_type": "markdown",
   "metadata": {},
   "source": [
    "### 2 Exemples de problèmes adaptés à chaque approche :\n",
    "\n",
    "| **Type d'apprentissage**              | **Problème concret** |\n",
    "|--------------------------------------|----------------------|\n",
    "| **Apprentissage automatique traditionnel** | **Détection de fraude bancaire** : Les modèles comme la régression logistique ou les arbres de décision sont efficaces pour détecter les transactions suspectes en analysant des caractéristiques tabulaires (montant, lieu, fréquence des transactions). |\n",
    "| **Apprentissage profond**            | **Reconnaissance d’images** : Un CNN (réseau de neurones convolutif) est idéal pour identifier des objets dans des images (ex : détection de panneaux de signalisation pour les voitures autonomes). |\n",
    "\n",
    "L'**apprentissage automatique traditionnel** est souvent préféré lorsque les données sont **structurées** et que l’interprétabilité est importante.  \n",
    "L'**apprentissage profond** est plus puissant pour traiter des **données non structurées** comme les images, le texte et l’audio.\n"
   ]
  },
  {
   "cell_type": "markdown",
   "metadata": {},
   "source": [
    "## 3\n",
    "L'apprentissage en profondeur est idéal pour les données non structurées (images, texte, audio) car il apprend automatiquement des patrons complexes sans ingénierie des caractéristiques. Grâce à ses couches cachées, il extrait des représentations utiles, rendant les CNN efficaces pour les images et les Transformers pour le texte. Cependant, il nécessite beaucoup de donnéeset de puissance de calcul."
   ]
  }
 ],
 "metadata": {
  "language_info": {
   "name": "python"
  }
 },
 "nbformat": 4,
 "nbformat_minor": 2
}
